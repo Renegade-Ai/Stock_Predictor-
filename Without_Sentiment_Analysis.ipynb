{
  "nbformat": 4,
  "nbformat_minor": 0,
  "metadata": {
    "colab": {
      "name": "Without_Sentiment_Analysis.ipynb",
      "provenance": [],
      "collapsed_sections": []
    },
    "kernelspec": {
      "display_name": "Python 3",
      "name": "python3"
    },
    "language_info": {
      "name": "python"
    }
  },
  "cells": [
    {
      "cell_type": "code",
      "metadata": {
        "colab": {
          "base_uri": "https://localhost:8080/",
          "height": 17
        },
        "id": "GNPJI9m0A6Nq",
        "outputId": "5cc6e909-c103-4961-f2f4-367b805d2bd2"
      },
      "source": [
        "from IPython.core.display import display, HTML\n",
        "display(HTML(\"<style>.container { width:100% !important; }</style>\"))"
      ],
      "execution_count": null,
      "outputs": [
        {
          "output_type": "display_data",
          "data": {
            "text/html": [
              "<style>.container { width:100% !important; }</style>"
            ],
            "text/plain": [
              "<IPython.core.display.HTML object>"
            ]
          },
          "metadata": {}
        }
      ]
    },
    {
      "cell_type": "code",
      "metadata": {
        "colab": {
          "base_uri": "https://localhost:8080/"
        },
        "id": "EmWmJUW6A87i",
        "outputId": "3dc92152-c775-4ad0-a078-8a31388cd1d6"
      },
      "source": [
        "import requests\n",
        "import urllib\n",
        "import numpy  as np\n",
        "import pandas as pd\n",
        "import matplotlib.pyplot as plt\n",
        "\n",
        "from bs4 import BeautifulSoup\n",
        "!pip install vaderSentiment\n",
        "from vaderSentiment.vaderSentiment import SentimentIntensityAnalyzer\n",
        "analyser = SentimentIntensityAnalyzer()\n",
        "\n",
        "!pip install fastapi"
      ],
      "execution_count": null,
      "outputs": [
        {
          "output_type": "stream",
          "name": "stdout",
          "text": [
            "Collecting vaderSentiment\n",
            "  Downloading vaderSentiment-3.3.2-py2.py3-none-any.whl (125 kB)\n",
            "\u001b[?25l\r\u001b[K     |██▋                             | 10 kB 24.7 MB/s eta 0:00:01\r\u001b[K     |█████▏                          | 20 kB 30.4 MB/s eta 0:00:01\r\u001b[K     |███████▉                        | 30 kB 16.1 MB/s eta 0:00:01\r\u001b[K     |██████████▍                     | 40 kB 11.0 MB/s eta 0:00:01\r\u001b[K     |█████████████                   | 51 kB 5.5 MB/s eta 0:00:01\r\u001b[K     |███████████████▋                | 61 kB 5.6 MB/s eta 0:00:01\r\u001b[K     |██████████████████▏             | 71 kB 6.3 MB/s eta 0:00:01\r\u001b[K     |████████████████████▉           | 81 kB 7.0 MB/s eta 0:00:01\r\u001b[K     |███████████████████████▍        | 92 kB 7.2 MB/s eta 0:00:01\r\u001b[K     |██████████████████████████      | 102 kB 5.6 MB/s eta 0:00:01\r\u001b[K     |████████████████████████████▋   | 112 kB 5.6 MB/s eta 0:00:01\r\u001b[K     |███████████████████████████████▏| 122 kB 5.6 MB/s eta 0:00:01\r\u001b[K     |████████████████████████████████| 125 kB 5.6 MB/s \n",
            "\u001b[?25hRequirement already satisfied: requests in /usr/local/lib/python3.7/dist-packages (from vaderSentiment) (2.23.0)\n",
            "Requirement already satisfied: chardet<4,>=3.0.2 in /usr/local/lib/python3.7/dist-packages (from requests->vaderSentiment) (3.0.4)\n",
            "Requirement already satisfied: idna<3,>=2.5 in /usr/local/lib/python3.7/dist-packages (from requests->vaderSentiment) (2.10)\n",
            "Requirement already satisfied: urllib3!=1.25.0,!=1.25.1,<1.26,>=1.21.1 in /usr/local/lib/python3.7/dist-packages (from requests->vaderSentiment) (1.24.3)\n",
            "Requirement already satisfied: certifi>=2017.4.17 in /usr/local/lib/python3.7/dist-packages (from requests->vaderSentiment) (2021.5.30)\n",
            "Installing collected packages: vaderSentiment\n",
            "Successfully installed vaderSentiment-3.3.2\n",
            "Collecting fastapi\n",
            "  Downloading fastapi-0.70.0-py3-none-any.whl (51 kB)\n",
            "\u001b[K     |████████████████████████████████| 51 kB 535 kB/s \n",
            "\u001b[?25hCollecting starlette==0.16.0\n",
            "  Downloading starlette-0.16.0-py3-none-any.whl (61 kB)\n",
            "\u001b[K     |████████████████████████████████| 61 kB 263 kB/s \n",
            "\u001b[?25hCollecting pydantic!=1.7,!=1.7.1,!=1.7.2,!=1.7.3,!=1.8,!=1.8.1,<2.0.0,>=1.6.2\n",
            "  Downloading pydantic-1.8.2-cp37-cp37m-manylinux2014_x86_64.whl (10.1 MB)\n",
            "\u001b[K     |████████████████████████████████| 10.1 MB 34.7 MB/s \n",
            "\u001b[?25hRequirement already satisfied: typing-extensions in /usr/local/lib/python3.7/dist-packages (from starlette==0.16.0->fastapi) (3.7.4.3)\n",
            "Collecting anyio<4,>=3.0.0\n",
            "  Downloading anyio-3.3.4-py3-none-any.whl (78 kB)\n",
            "\u001b[K     |████████████████████████████████| 78 kB 6.6 MB/s \n",
            "\u001b[?25hCollecting sniffio>=1.1\n",
            "  Downloading sniffio-1.2.0-py3-none-any.whl (10 kB)\n",
            "Requirement already satisfied: idna>=2.8 in /usr/local/lib/python3.7/dist-packages (from anyio<4,>=3.0.0->starlette==0.16.0->fastapi) (2.10)\n",
            "Installing collected packages: sniffio, anyio, starlette, pydantic, fastapi\n",
            "Successfully installed anyio-3.3.4 fastapi-0.70.0 pydantic-1.8.2 sniffio-1.2.0 starlette-0.16.0\n"
          ]
        }
      ]
    },
    {
      "cell_type": "code",
      "metadata": {
        "colab": {
          "base_uri": "https://localhost:8080/"
        },
        "id": "W52q--d9BGp_",
        "outputId": "2c8c8e47-b5f2-4c87-dc02-b8652b7c5cc8"
      },
      "source": [
        "import requests \n",
        "import json \n",
        "import pandas as pd \n",
        "!pip install fsspec\n",
        "from io import StringIO "
      ],
      "execution_count": null,
      "outputs": [
        {
          "output_type": "stream",
          "name": "stdout",
          "text": [
            "Collecting fsspec\n",
            "  Downloading fsspec-2021.11.0-py3-none-any.whl (132 kB)\n",
            "\u001b[?25l\r\u001b[K     |██▌                             | 10 kB 27.0 MB/s eta 0:00:01\r\u001b[K     |█████                           | 20 kB 26.8 MB/s eta 0:00:01\r\u001b[K     |███████▍                        | 30 kB 12.1 MB/s eta 0:00:01\r\u001b[K     |██████████                      | 40 kB 9.4 MB/s eta 0:00:01\r\u001b[K     |████████████▍                   | 51 kB 5.4 MB/s eta 0:00:01\r\u001b[K     |██████████████▉                 | 61 kB 5.9 MB/s eta 0:00:01\r\u001b[K     |█████████████████▎              | 71 kB 5.6 MB/s eta 0:00:01\r\u001b[K     |███████████████████▉            | 81 kB 6.3 MB/s eta 0:00:01\r\u001b[K     |██████████████████████▎         | 92 kB 4.9 MB/s eta 0:00:01\r\u001b[K     |████████████████████████▊       | 102 kB 5.3 MB/s eta 0:00:01\r\u001b[K     |███████████████████████████▏    | 112 kB 5.3 MB/s eta 0:00:01\r\u001b[K     |█████████████████████████████▊  | 122 kB 5.3 MB/s eta 0:00:01\r\u001b[K     |████████████████████████████████| 132 kB 5.3 MB/s \n",
            "\u001b[?25hInstalling collected packages: fsspec\n",
            "Successfully installed fsspec-2021.11.0\n"
          ]
        }
      ]
    },
    {
      "cell_type": "code",
      "metadata": {
        "id": "9Ft1g60bDLVq"
      },
      "source": [
        "# headers = {'Authorization': '14613e000930494db55a1b588eba8a4e'}\n",
        "# top_headlines_url = 'https://newsapi.org/v2/top-headlines'\n",
        "# everything_news_url = 'https://newsapi.org/v2/everything'\n",
        "# sources_url = 'https://newsapi.org/v2/sources'\n",
        "# headlines_payload = {'category': 'business', 'country': 'us'}\n",
        "# everything_payload = {'q': 'finance', 'language': 'en', 'sortBy': 'popularity'}\n",
        "# sources_payload = {'category': 'general', 'language': 'en', 'country': 'us'}\n",
        "\n",
        "# response = requests.get(url=top_headlines_url, headers=headers, params=headlines_payload)\n",
        "# response = requests.get(url=everything_news_url, headers=headers, params=everything_payload)\n",
        "# response = requests.get(url=everything_news_url, headers=headers, params=everything_payload)\n",
        "\n",
        "# # pretty_json_output = json.dumps(response.json(), indent=4)\n",
        "# # print(pretty_json_output)\n",
        "\n",
        "# response_json_string = json.dumps(response.json())\n",
        "# response_json_string = json.dumps(response.json())\n",
        "\n",
        "# response_dict = json.loads(response_json_string)\n",
        "# articles_list = response_dict['articles']\n",
        "# df = pd.read_json(json.dumps(io.StringIO(articles_list)))\n",
        "# df.to_csv('/Users/appleapple/Desktop/news.csv')\n"
      ],
      "execution_count": null,
      "outputs": []
    },
    {
      "cell_type": "code",
      "metadata": {
        "colab": {
          "base_uri": "https://localhost:8080/",
          "height": 881
        },
        "id": "QzFPtJBUCa7C",
        "outputId": "f38e5f12-b2bd-45dc-abe4-4d492efa055b"
      },
      "source": [
        "from urllib.request import urlopen, Request\n",
        "from bs4 import BeautifulSoup\n",
        "# from nltk.sentiment.vader import SentimentIntensityAnalyzer\n",
        "import pandas as pd\n",
        "import matplotlib.pyplot as plt\n",
        "\n",
        "finviz_url = 'https://finviz.com/quote.ashx?t='\n",
        "# tickers = ['AMZN', 'GOOG', 'FB','TTM']\n",
        "tickers = ['TTM']\n",
        "\n",
        "\n",
        "news_tables = {}\n",
        "for ticker in tickers:\n",
        "    url = finviz_url + ticker\n",
        "\n",
        "    req = Request(url=url, headers={'user-agent': 'my-app'})\n",
        "    response = urlopen(req)\n",
        "\n",
        "    html = BeautifulSoup(response, features='html.parser')\n",
        "    news_table = html.find(id='news-table')\n",
        "    news_tables[ticker] = news_table\n",
        "\n",
        "parsed_data = []\n",
        "\n",
        "for ticker, news_table in news_tables.items():\n",
        "\n",
        "    for row in news_table.findAll('tr'):\n",
        "\n",
        "        title = row.a.text\n",
        "        date_data = row.td.text.split(' ')\n",
        "\n",
        "        if len(date_data) == 1:\n",
        "            time = date_data[0]\n",
        "        else:\n",
        "            date = date_data[0]\n",
        "            time = date_data[1]\n",
        "\n",
        "        parsed_data.append([ticker, date, time, title])\n",
        "\n",
        "df = pd.DataFrame(parsed_data, columns=['ticker', 'date', 'time', 'title'])\n",
        "\n",
        "vader = SentimentIntensityAnalyzer()\n",
        "\n",
        "f = lambda title: vader.polarity_scores(title)['compound']\n",
        "df['compound'] = df['title'].apply(f)\n",
        "df['date'] = pd.to_datetime(df.date).dt.date\n",
        "\n",
        "fig = plt.figure(figsize=(17,12))\n",
        "mean_df = df.groupby(['ticker', 'date']).mean().unstack()\n",
        "mean_df = mean_df.xs('compound', axis=\"columns\")\n",
        "mean_df.plot(kind='bar')\n",
        "plt.show() "
      ],
      "execution_count": null,
      "outputs": [
        {
          "output_type": "display_data",
          "data": {
            "text/plain": [
              "<Figure size 1224x864 with 0 Axes>"
            ]
          },
          "metadata": {}
        },
        {
          "output_type": "display_data",
          "data": {
            "image/png": "[encoded data removed]",
            "text/plain": [
              "<Figure size 432x288 with 1 Axes>"
            ]
          },
          "metadata": {
            "needs_background": "light"
          }
        }
      ]
    },
    {
      "cell_type": "code",
      "metadata": {
        "colab": {
          "base_uri": "https://localhost:8080/"
        },
        "id": "VgTdTaXu6A0s",
        "outputId": "ac6a3dea-7314-49ca-b5fe-e94e62df7a56"
      },
      "source": [
        "df['ticker'].unique()"
      ],
      "execution_count": null,
      "outputs": [
        {
          "output_type": "execute_result",
          "data": {
            "text/plain": [
              "array(['TTM'], dtype=object)"
            ]
          },
          "metadata": {},
          "execution_count": 6
        }
      ]
    },
    {
      "cell_type": "code",
      "metadata": {
        "id": "lJGUS0ia6Jfm"
      },
      "source": [
        "# df = df[df['ticker'] == 'AMZN'] \n",
        "df = df[df['ticker'] == 'TTM'] "
      ],
      "execution_count": null,
      "outputs": []
    },
    {
      "cell_type": "code",
      "metadata": {
        "colab": {
          "base_uri": "https://localhost:8080/",
          "height": 265
        },
        "id": "LvsTaVokDh4u",
        "outputId": "32077adc-2115-4cd2-821c-bb267203269f"
      },
      "source": [
        "df.head(7)"
      ],
      "execution_count": null,
      "outputs": [
        {
          "output_type": "execute_result",
          "data": {
            "text/html": [
              "<div>\n",
              "<style scoped>\n",
              "    .dataframe tbody tr th:only-of-type {\n",
              "        vertical-align: middle;\n",
              "    }\n",
              "\n",
              "    .dataframe tbody tr th {\n",
              "        vertical-align: top;\n",
              "    }\n",
              "\n",
              "    .dataframe thead th {\n",
              "        text-align: right;\n",
              "    }\n",
              "</style>\n",
              "<table border=\"1\" class=\"dataframe\">\n",
              "  <thead>\n",
              "    <tr style=\"text-align: right;\">\n",
              "      <th></th>\n",
              "      <th>ticker</th>\n",
              "      <th>date</th>\n",
              "      <th>time</th>\n",
              "      <th>title</th>\n",
              "      <th>compound</th>\n",
              "    </tr>\n",
              "  </thead>\n",
              "  <tbody>\n",
              "    <tr>\n",
              "      <th>0</th>\n",
              "      <td>TTM</td>\n",
              "      <td>2021-11-02</td>\n",
              "      <td>12:30AM</td>\n",
              "      <td>Tata Motors (TTM) Q2 2022 Earnings Call Transc...</td>\n",
              "      <td>0.0000</td>\n",
              "    </tr>\n",
              "    <tr>\n",
              "      <th>1</th>\n",
              "      <td>TTM</td>\n",
              "      <td>2021-11-01</td>\n",
              "      <td>08:00PM</td>\n",
              "      <td>Chip Dip and Carbon Footprint Bills Trap Jaguar</td>\n",
              "      <td>-0.3182</td>\n",
              "    </tr>\n",
              "    <tr>\n",
              "      <th>2</th>\n",
              "      <td>TTM</td>\n",
              "      <td>2021-11-01</td>\n",
              "      <td>09:09AM</td>\n",
              "      <td>Skoda to make quarter of a million fewer cars ...</td>\n",
              "      <td>-0.2500</td>\n",
              "    </tr>\n",
              "    <tr>\n",
              "      <th>3</th>\n",
              "      <td>TTM</td>\n",
              "      <td>2021-11-01</td>\n",
              "      <td>08:39AM</td>\n",
              "      <td>Skoda to make quarter of a million fewer cars ...</td>\n",
              "      <td>-0.2500</td>\n",
              "    </tr>\n",
              "    <tr>\n",
              "      <th>4</th>\n",
              "      <td>TTM</td>\n",
              "      <td>2021-11-01</td>\n",
              "      <td>08:13AM</td>\n",
              "      <td>Chip crisis halves Jaguar Land Rover sales</td>\n",
              "      <td>-0.6249</td>\n",
              "    </tr>\n",
              "    <tr>\n",
              "      <th>5</th>\n",
              "      <td>TTM</td>\n",
              "      <td>2021-11-01</td>\n",
              "      <td>06:50AM</td>\n",
              "      <td>India's Tata Motors says EV waiting period at ...</td>\n",
              "      <td>-0.2500</td>\n",
              "    </tr>\n",
              "    <tr>\n",
              "      <th>6</th>\n",
              "      <td>TTM</td>\n",
              "      <td>2021-10-19</td>\n",
              "      <td>12:02PM</td>\n",
              "      <td>33 Stocks Moving In Tuesday's Mid-Day Session</td>\n",
              "      <td>0.0000</td>\n",
              "    </tr>\n",
              "  </tbody>\n",
              "</table>\n",
              "</div>"
            ],
            "text/plain": [
              "  ticker  ... compound\n",
              "0    TTM  ...   0.0000\n",
              "1    TTM  ...  -0.3182\n",
              "2    TTM  ...  -0.2500\n",
              "3    TTM  ...  -0.2500\n",
              "4    TTM  ...  -0.6249\n",
              "5    TTM  ...  -0.2500\n",
              "6    TTM  ...   0.0000\n",
              "\n",
              "[7 rows x 5 columns]"
            ]
          },
          "metadata": {},
          "execution_count": 8
        }
      ]
    },
    {
      "cell_type": "code",
      "metadata": {
        "colab": {
          "base_uri": "https://localhost:8080/",
          "height": 110
        },
        "id": "KpyT_B42Dxbu",
        "outputId": "2b8198fc-bf28-4579-efe8-810834b196c3"
      },
      "source": [
        "df['title'] = df['title'].str.lower()\n",
        "df.head(2)"
      ],
      "execution_count": null,
      "outputs": [
        {
          "output_type": "execute_result",
          "data": {
            "text/html": [
              "<div>\n",
              "<style scoped>\n",
              "    .dataframe tbody tr th:only-of-type {\n",
              "        vertical-align: middle;\n",
              "    }\n",
              "\n",
              "    .dataframe tbody tr th {\n",
              "        vertical-align: top;\n",
              "    }\n",
              "\n",
              "    .dataframe thead th {\n",
              "        text-align: right;\n",
              "    }\n",
              "</style>\n",
              "<table border=\"1\" class=\"dataframe\">\n",
              "  <thead>\n",
              "    <tr style=\"text-align: right;\">\n",
              "      <th></th>\n",
              "      <th>ticker</th>\n",
              "      <th>date</th>\n",
              "      <th>time</th>\n",
              "      <th>title</th>\n",
              "      <th>compound</th>\n",
              "    </tr>\n",
              "  </thead>\n",
              "  <tbody>\n",
              "    <tr>\n",
              "      <th>0</th>\n",
              "      <td>TTM</td>\n",
              "      <td>2021-11-02</td>\n",
              "      <td>12:30AM</td>\n",
              "      <td>tata motors (ttm) q2 2022 earnings call transc...</td>\n",
              "      <td>0.0000</td>\n",
              "    </tr>\n",
              "    <tr>\n",
              "      <th>1</th>\n",
              "      <td>TTM</td>\n",
              "      <td>2021-11-01</td>\n",
              "      <td>08:00PM</td>\n",
              "      <td>chip dip and carbon footprint bills trap jaguar</td>\n",
              "      <td>-0.3182</td>\n",
              "    </tr>\n",
              "  </tbody>\n",
              "</table>\n",
              "</div>"
            ],
            "text/plain": [
              "  ticker  ... compound\n",
              "0    TTM  ...   0.0000\n",
              "1    TTM  ...  -0.3182\n",
              "\n",
              "[2 rows x 5 columns]"
            ]
          },
          "metadata": {},
          "execution_count": 9
        }
      ]
    },
    {
      "cell_type": "code",
      "metadata": {
        "colab": {
          "base_uri": "https://localhost:8080/"
        },
        "id": "0AspBhnpEEDT",
        "outputId": "45c71355-5dbd-48f0-cd02-3457fc1b468b"
      },
      "source": [
        "# Count vectorizer \n",
        "from sklearn.feature_extraction.text import CountVectorizer\n",
        "from sklearn.ensemble import RandomForestClassifier \n",
        "## IMPLEMENTING BAG OF WORDS MODEL\n",
        "countvector= CountVectorizer(ngram_range=(2,2))\n",
        "traindataset= countvector.fit_transform(df['title']) # CONVERTING ALL THE HEADLINES INTO VECTORS\n",
        "\n",
        "# DATA CONVERTS INTO SPARSE MATRIX\n",
        "traindataset[0] "
      ],
      "execution_count": null,
      "outputs": [
        {
          "output_type": "execute_result",
          "data": {
            "text/plain": [
              "<1x663 sparse matrix of type '<class 'numpy.int64'>'\n",
              "\twith 7 stored elements in Compressed Sparse Row format>"
            ]
          },
          "metadata": {},
          "execution_count": 10
        }
      ]
    },
    {
      "cell_type": "code",
      "metadata": {
        "id": "hKA60b8oKC4B"
      },
      "source": [
        "# !pip install --upgrade pandas\n",
        "# !pip install --upgrade pandas-datareader"
      ],
      "execution_count": null,
      "outputs": []
    },
    {
      "cell_type": "code",
      "metadata": {
        "id": "Lq4Bu1E_F3eH"
      },
      "source": [
        "# import pandas_datareader.data as web \n",
        "# import datetime as dt \n",
        "\n",
        "# start = dt.datetime(2020,1,1)\n",
        "# end   = dt.datetime(2020,4,1)\n",
        "\n",
        "# google = web.DataReader('GOOG','yahoo',start,end)\n",
        "# google.head() "
      ],
      "execution_count": null,
      "outputs": []
    },
    {
      "cell_type": "code",
      "metadata": {
        "colab": {
          "base_uri": "https://localhost:8080/"
        },
        "id": "eWdxY9QkPWCf",
        "outputId": "af107729-0b35-4f52-c22f-4e471be93469"
      },
      "source": [
        "api_key = 'MXPE0FUWB351UOXC'\n",
        "!pip install alpha_vantage\n",
        "from alpha_vantage.timeseries import TimeSeries \n",
        "import time \n",
        "\n",
        "ts = TimeSeries(key = api_key ,output_format = 'pandas')\n",
        "data , metadata = ts.get_daily_adjusted(symbol = 'TTM')   "
      ],
      "execution_count": null,
      "outputs": [
        {
          "output_type": "stream",
          "name": "stdout",
          "text": [
            "Collecting alpha_vantage\n",
            "  Downloading alpha_vantage-2.3.1-py3-none-any.whl (31 kB)\n",
            "Requirement already satisfied: requests in /usr/local/lib/python3.7/dist-packages (from alpha_vantage) (2.23.0)\n",
            "Collecting aiohttp\n",
            "  Downloading aiohttp-3.8.0-cp37-cp37m-manylinux_2_5_x86_64.manylinux1_x86_64.manylinux_2_12_x86_64.manylinux2010_x86_64.whl (1.1 MB)\n",
            "\u001b[K     |████████████████████████████████| 1.1 MB 5.9 MB/s \n",
            "\u001b[?25hCollecting yarl<2.0,>=1.0\n",
            "  Downloading yarl-1.7.2-cp37-cp37m-manylinux_2_5_x86_64.manylinux1_x86_64.manylinux_2_12_x86_64.manylinux2010_x86_64.whl (271 kB)\n",
            "\u001b[K     |████████████████████████████████| 271 kB 51.0 MB/s \n",
            "\u001b[?25hRequirement already satisfied: charset-normalizer<3.0,>=2.0 in /usr/local/lib/python3.7/dist-packages (from aiohttp->alpha_vantage) (2.0.7)\n",
            "Collecting async-timeout<5.0,>=4.0.0a3\n",
            "  Downloading async_timeout-4.0.0-py3-none-any.whl (6.1 kB)\n",
            "Collecting multidict<7.0,>=4.5\n",
            "  Downloading multidict-5.2.0-cp37-cp37m-manylinux_2_5_x86_64.manylinux1_x86_64.manylinux_2_12_x86_64.manylinux2010_x86_64.whl (160 kB)\n",
            "\u001b[K     |████████████████████████████████| 160 kB 49.4 MB/s \n",
            "\u001b[?25hCollecting aiosignal>=1.1.2\n",
            "  Downloading aiosignal-1.2.0-py3-none-any.whl (8.2 kB)\n",
            "Collecting asynctest==0.13.0\n",
            "  Downloading asynctest-0.13.0-py3-none-any.whl (26 kB)\n",
            "Collecting frozenlist>=1.1.1\n",
            "  Downloading frozenlist-1.2.0-cp37-cp37m-manylinux_2_5_x86_64.manylinux1_x86_64.manylinux_2_12_x86_64.manylinux2010_x86_64.whl (192 kB)\n",
            "\u001b[K     |████████████████████████████████| 192 kB 44.8 MB/s \n",
            "\u001b[?25hRequirement already satisfied: attrs>=17.3.0 in /usr/local/lib/python3.7/dist-packages (from aiohttp->alpha_vantage) (21.2.0)\n",
            "Requirement already satisfied: typing-extensions>=3.7.4 in /usr/local/lib/python3.7/dist-packages (from aiohttp->alpha_vantage) (3.7.4.3)\n",
            "Requirement already satisfied: idna>=2.0 in /usr/local/lib/python3.7/dist-packages (from yarl<2.0,>=1.0->aiohttp->alpha_vantage) (2.10)\n",
            "Requirement already satisfied: certifi>=2017.4.17 in /usr/local/lib/python3.7/dist-packages (from requests->alpha_vantage) (2021.5.30)\n",
            "Requirement already satisfied: chardet<4,>=3.0.2 in /usr/local/lib/python3.7/dist-packages (from requests->alpha_vantage) (3.0.4)\n",
            "Requirement already satisfied: urllib3!=1.25.0,!=1.25.1,<1.26,>=1.21.1 in /usr/local/lib/python3.7/dist-packages (from requests->alpha_vantage) (1.24.3)\n",
            "Installing collected packages: multidict, frozenlist, yarl, asynctest, async-timeout, aiosignal, aiohttp, alpha-vantage\n",
            "Successfully installed aiohttp-3.8.0 aiosignal-1.2.0 alpha-vantage-2.3.1 async-timeout-4.0.0 asynctest-0.13.0 frozenlist-1.2.0 multidict-5.2.0 yarl-1.7.2\n"
          ]
        }
      ]
    },
    {
      "cell_type": "code",
      "metadata": {
        "id": "6Z7d_6YlEOIS"
      },
      "source": [
        "data.reset_index(level=0, inplace=True)"
      ],
      "execution_count": null,
      "outputs": []
    },
    {
      "cell_type": "code",
      "metadata": {
        "id": "l-C-b50gDfCg",
        "colab": {
          "base_uri": "https://localhost:8080/",
          "height": 203
        },
        "outputId": "f80ade44-aeb1-4a66-c934-d187aea93e28"
      },
      "source": [
        "data.head()  "
      ],
      "execution_count": null,
      "outputs": [
        {
          "output_type": "execute_result",
          "data": {
            "text/html": [
              "<div>\n",
              "<style scoped>\n",
              "    .dataframe tbody tr th:only-of-type {\n",
              "        vertical-align: middle;\n",
              "    }\n",
              "\n",
              "    .dataframe tbody tr th {\n",
              "        vertical-align: top;\n",
              "    }\n",
              "\n",
              "    .dataframe thead th {\n",
              "        text-align: right;\n",
              "    }\n",
              "</style>\n",
              "<table border=\"1\" class=\"dataframe\">\n",
              "  <thead>\n",
              "    <tr style=\"text-align: right;\">\n",
              "      <th></th>\n",
              "      <th>date</th>\n",
              "      <th>1. open</th>\n",
              "      <th>2. high</th>\n",
              "      <th>3. low</th>\n",
              "      <th>4. close</th>\n",
              "      <th>5. adjusted close</th>\n",
              "      <th>6. volume</th>\n",
              "      <th>7. dividend amount</th>\n",
              "      <th>8. split coefficient</th>\n",
              "    </tr>\n",
              "  </thead>\n",
              "  <tbody>\n",
              "    <tr>\n",
              "      <th>0</th>\n",
              "      <td>2021-11-05</td>\n",
              "      <td>32.78</td>\n",
              "      <td>33.035</td>\n",
              "      <td>32.59</td>\n",
              "      <td>32.76</td>\n",
              "      <td>32.76</td>\n",
              "      <td>1074976.0</td>\n",
              "      <td>0.0</td>\n",
              "      <td>1.0</td>\n",
              "    </tr>\n",
              "    <tr>\n",
              "      <th>1</th>\n",
              "      <td>2021-11-04</td>\n",
              "      <td>32.71</td>\n",
              "      <td>32.770</td>\n",
              "      <td>32.39</td>\n",
              "      <td>32.48</td>\n",
              "      <td>32.48</td>\n",
              "      <td>991705.0</td>\n",
              "      <td>0.0</td>\n",
              "      <td>1.0</td>\n",
              "    </tr>\n",
              "    <tr>\n",
              "      <th>2</th>\n",
              "      <td>2021-11-03</td>\n",
              "      <td>31.73</td>\n",
              "      <td>32.920</td>\n",
              "      <td>31.72</td>\n",
              "      <td>32.88</td>\n",
              "      <td>32.88</td>\n",
              "      <td>1417489.0</td>\n",
              "      <td>0.0</td>\n",
              "      <td>1.0</td>\n",
              "    </tr>\n",
              "    <tr>\n",
              "      <th>3</th>\n",
              "      <td>2021-11-02</td>\n",
              "      <td>32.44</td>\n",
              "      <td>32.700</td>\n",
              "      <td>31.61</td>\n",
              "      <td>31.77</td>\n",
              "      <td>31.77</td>\n",
              "      <td>1946525.0</td>\n",
              "      <td>0.0</td>\n",
              "      <td>1.0</td>\n",
              "    </tr>\n",
              "    <tr>\n",
              "      <th>4</th>\n",
              "      <td>2021-11-01</td>\n",
              "      <td>32.76</td>\n",
              "      <td>33.940</td>\n",
              "      <td>32.71</td>\n",
              "      <td>33.53</td>\n",
              "      <td>33.53</td>\n",
              "      <td>2374650.0</td>\n",
              "      <td>0.0</td>\n",
              "      <td>1.0</td>\n",
              "    </tr>\n",
              "  </tbody>\n",
              "</table>\n",
              "</div>"
            ],
            "text/plain": [
              "        date  1. open  ...  7. dividend amount  8. split coefficient\n",
              "0 2021-11-05    32.78  ...                 0.0                   1.0\n",
              "1 2021-11-04    32.71  ...                 0.0                   1.0\n",
              "2 2021-11-03    31.73  ...                 0.0                   1.0\n",
              "3 2021-11-02    32.44  ...                 0.0                   1.0\n",
              "4 2021-11-01    32.76  ...                 0.0                   1.0\n",
              "\n",
              "[5 rows x 9 columns]"
            ]
          },
          "metadata": {},
          "execution_count": 15
        }
      ]
    },
    {
      "cell_type": "code",
      "metadata": {
        "id": "EkakH3HnFZih",
        "colab": {
          "base_uri": "https://localhost:8080/",
          "height": 110
        },
        "outputId": "cbc82f09-3bd9-4a1f-da14-22202e9cf324"
      },
      "source": [
        "data.tail(2)"
      ],
      "execution_count": null,
      "outputs": [
        {
          "output_type": "execute_result",
          "data": {
            "text/html": [
              "<div>\n",
              "<style scoped>\n",
              "    .dataframe tbody tr th:only-of-type {\n",
              "        vertical-align: middle;\n",
              "    }\n",
              "\n",
              "    .dataframe tbody tr th {\n",
              "        vertical-align: top;\n",
              "    }\n",
              "\n",
              "    .dataframe thead th {\n",
              "        text-align: right;\n",
              "    }\n",
              "</style>\n",
              "<table border=\"1\" class=\"dataframe\">\n",
              "  <thead>\n",
              "    <tr style=\"text-align: right;\">\n",
              "      <th></th>\n",
              "      <th>date</th>\n",
              "      <th>1. open</th>\n",
              "      <th>2. high</th>\n",
              "      <th>3. low</th>\n",
              "      <th>4. close</th>\n",
              "      <th>5. adjusted close</th>\n",
              "      <th>6. volume</th>\n",
              "      <th>7. dividend amount</th>\n",
              "      <th>8. split coefficient</th>\n",
              "    </tr>\n",
              "  </thead>\n",
              "  <tbody>\n",
              "    <tr>\n",
              "      <th>98</th>\n",
              "      <td>2021-06-18</td>\n",
              "      <td>22.52</td>\n",
              "      <td>22.52</td>\n",
              "      <td>22.17</td>\n",
              "      <td>22.18</td>\n",
              "      <td>22.18</td>\n",
              "      <td>2788538.0</td>\n",
              "      <td>0.0</td>\n",
              "      <td>1.0</td>\n",
              "    </tr>\n",
              "    <tr>\n",
              "      <th>99</th>\n",
              "      <td>2021-06-17</td>\n",
              "      <td>23.24</td>\n",
              "      <td>23.36</td>\n",
              "      <td>22.92</td>\n",
              "      <td>22.98</td>\n",
              "      <td>22.98</td>\n",
              "      <td>1500905.0</td>\n",
              "      <td>0.0</td>\n",
              "      <td>1.0</td>\n",
              "    </tr>\n",
              "  </tbody>\n",
              "</table>\n",
              "</div>"
            ],
            "text/plain": [
              "         date  1. open  ...  7. dividend amount  8. split coefficient\n",
              "98 2021-06-18    22.52  ...                 0.0                   1.0\n",
              "99 2021-06-17    23.24  ...                 0.0                   1.0\n",
              "\n",
              "[2 rows x 9 columns]"
            ]
          },
          "metadata": {},
          "execution_count": 16
        }
      ]
    },
    {
      "cell_type": "code",
      "metadata": {
        "id": "LBOg18JBRAqz",
        "colab": {
          "base_uri": "https://localhost:8080/",
          "height": 110
        },
        "outputId": "664e3395-482b-441c-82e5-6d603eed2ee6"
      },
      "source": [
        "df.tail(2)"
      ],
      "execution_count": null,
      "outputs": [
        {
          "output_type": "execute_result",
          "data": {
            "text/html": [
              "<div>\n",
              "<style scoped>\n",
              "    .dataframe tbody tr th:only-of-type {\n",
              "        vertical-align: middle;\n",
              "    }\n",
              "\n",
              "    .dataframe tbody tr th {\n",
              "        vertical-align: top;\n",
              "    }\n",
              "\n",
              "    .dataframe thead th {\n",
              "        text-align: right;\n",
              "    }\n",
              "</style>\n",
              "<table border=\"1\" class=\"dataframe\">\n",
              "  <thead>\n",
              "    <tr style=\"text-align: right;\">\n",
              "      <th></th>\n",
              "      <th>ticker</th>\n",
              "      <th>date</th>\n",
              "      <th>time</th>\n",
              "      <th>title</th>\n",
              "      <th>compound</th>\n",
              "    </tr>\n",
              "  </thead>\n",
              "  <tbody>\n",
              "    <tr>\n",
              "      <th>98</th>\n",
              "      <td>TTM</td>\n",
              "      <td>2021-01-11</td>\n",
              "      <td>01:22PM</td>\n",
              "      <td>tata motors stock soars, as electrified vehicl...</td>\n",
              "      <td>0.0</td>\n",
              "    </tr>\n",
              "    <tr>\n",
              "      <th>99</th>\n",
              "      <td>TTM</td>\n",
              "      <td>2021-01-11</td>\n",
              "      <td>11:12AM</td>\n",
              "      <td>tata motors stock is surging on india tesla ru...</td>\n",
              "      <td>0.0</td>\n",
              "    </tr>\n",
              "  </tbody>\n",
              "</table>\n",
              "</div>"
            ],
            "text/plain": [
              "   ticker  ... compound\n",
              "98    TTM  ...      0.0\n",
              "99    TTM  ...      0.0\n",
              "\n",
              "[2 rows x 5 columns]"
            ]
          },
          "metadata": {},
          "execution_count": 17
        }
      ]
    },
    {
      "cell_type": "code",
      "metadata": {
        "id": "bAKo7dctQNYY",
        "colab": {
          "base_uri": "https://localhost:8080/"
        },
        "outputId": "350187e5-3db2-4729-991d-53ce345af202"
      },
      "source": [
        "data.shape[0]"
      ],
      "execution_count": null,
      "outputs": [
        {
          "output_type": "execute_result",
          "data": {
            "text/plain": [
              "100"
            ]
          },
          "metadata": {},
          "execution_count": 18
        }
      ]
    },
    {
      "cell_type": "code",
      "metadata": {
        "id": "4SnkLXR2QiT4",
        "colab": {
          "base_uri": "https://localhost:8080/"
        },
        "outputId": "aeccb2a5-8a67-4309-f5b4-a6afa79d7fc7"
      },
      "source": [
        "print(data['date'].iloc[-1:] , df['date'].iloc[-1:])"
      ],
      "execution_count": null,
      "outputs": [
        {
          "output_type": "stream",
          "name": "stdout",
          "text": [
            "99   2021-06-17\n",
            "Name: date, dtype: datetime64[ns] 99    2021-01-11\n",
            "Name: date, dtype: object\n"
          ]
        }
      ]
    },
    {
      "cell_type": "code",
      "metadata": {
        "id": "hU1li_QzOrda"
      },
      "source": [
        "# print(df.loc[0,'date'],data.loc[0,'date'])\n",
        "# print(df.loc[df.shape[0],'date'],data.loc[data.shape[0],'date'])"
      ],
      "execution_count": null,
      "outputs": []
    },
    {
      "cell_type": "code",
      "metadata": {
        "id": "7kJgkTD_UkGe"
      },
      "source": [
        "# s1 = pd.merge(df, data, how='inner', on=['date'])"
      ],
      "execution_count": null,
      "outputs": []
    },
    {
      "cell_type": "markdown",
      "metadata": {
        "id": "9weyBmqhCxIL"
      },
      "source": [
        "Converting this dataframe to csv file and downloading it to use in the other ipynb file "
      ]
    },
    {
      "cell_type": "code",
      "metadata": {
        "id": "6ZdnfHCxCwtq"
      },
      "source": [
        "data_amzn_recent = data.to_csv('data_amzn_recent.csv' , index = False)"
      ],
      "execution_count": null,
      "outputs": []
    },
    {
      "cell_type": "code",
      "metadata": {
        "id": "76uUmLEzl0BT",
        "colab": {
          "base_uri": "https://localhost:8080/"
        },
        "outputId": "5ac0e33f-5b57-4a0c-d5d7-243c1d52a213"
      },
      "source": [
        "data['date'].value_counts().sum()"
      ],
      "execution_count": null,
      "outputs": [
        {
          "output_type": "execute_result",
          "data": {
            "text/plain": [
              "100"
            ]
          },
          "metadata": {},
          "execution_count": 23
        }
      ]
    },
    {
      "cell_type": "code",
      "metadata": {
        "id": "VxDfBkDEmHAy",
        "colab": {
          "base_uri": "https://localhost:8080/"
        },
        "outputId": "6dfb3b7d-7e63-42d2-8d27-c1ae47cf027e"
      },
      "source": [
        "data['date'].dtypes"
      ],
      "execution_count": null,
      "outputs": [
        {
          "output_type": "execute_result",
          "data": {
            "text/plain": [
              "dtype('<M8[ns]')"
            ]
          },
          "metadata": {},
          "execution_count": 24
        }
      ]
    },
    {
      "cell_type": "code",
      "metadata": {
        "id": "lkyBr6sYmhoD"
      },
      "source": [
        "data = data.sort_values(by = 'date')"
      ],
      "execution_count": null,
      "outputs": []
    },
    {
      "cell_type": "code",
      "metadata": {
        "id": "BxPqCt00mvr-",
        "colab": {
          "base_uri": "https://localhost:8080/",
          "height": 110
        },
        "outputId": "87fdc9ff-2ce3-4e3a-8386-911252e7510b"
      },
      "source": [
        "data.head(2)"
      ],
      "execution_count": null,
      "outputs": [
        {
          "output_type": "execute_result",
          "data": {
            "text/html": [
              "<div>\n",
              "<style scoped>\n",
              "    .dataframe tbody tr th:only-of-type {\n",
              "        vertical-align: middle;\n",
              "    }\n",
              "\n",
              "    .dataframe tbody tr th {\n",
              "        vertical-align: top;\n",
              "    }\n",
              "\n",
              "    .dataframe thead th {\n",
              "        text-align: right;\n",
              "    }\n",
              "</style>\n",
              "<table border=\"1\" class=\"dataframe\">\n",
              "  <thead>\n",
              "    <tr style=\"text-align: right;\">\n",
              "      <th></th>\n",
              "      <th>date</th>\n",
              "      <th>1. open</th>\n",
              "      <th>2. high</th>\n",
              "      <th>3. low</th>\n",
              "      <th>4. close</th>\n",
              "      <th>5. adjusted close</th>\n",
              "      <th>6. volume</th>\n",
              "      <th>7. dividend amount</th>\n",
              "      <th>8. split coefficient</th>\n",
              "    </tr>\n",
              "  </thead>\n",
              "  <tbody>\n",
              "    <tr>\n",
              "      <th>99</th>\n",
              "      <td>2021-06-17</td>\n",
              "      <td>23.24</td>\n",
              "      <td>23.36</td>\n",
              "      <td>22.92</td>\n",
              "      <td>22.98</td>\n",
              "      <td>22.98</td>\n",
              "      <td>1500905.0</td>\n",
              "      <td>0.0</td>\n",
              "      <td>1.0</td>\n",
              "    </tr>\n",
              "    <tr>\n",
              "      <th>98</th>\n",
              "      <td>2021-06-18</td>\n",
              "      <td>22.52</td>\n",
              "      <td>22.52</td>\n",
              "      <td>22.17</td>\n",
              "      <td>22.18</td>\n",
              "      <td>22.18</td>\n",
              "      <td>2788538.0</td>\n",
              "      <td>0.0</td>\n",
              "      <td>1.0</td>\n",
              "    </tr>\n",
              "  </tbody>\n",
              "</table>\n",
              "</div>"
            ],
            "text/plain": [
              "         date  1. open  ...  7. dividend amount  8. split coefficient\n",
              "99 2021-06-17    23.24  ...                 0.0                   1.0\n",
              "98 2021-06-18    22.52  ...                 0.0                   1.0\n",
              "\n",
              "[2 rows x 9 columns]"
            ]
          },
          "metadata": {},
          "execution_count": 26
        }
      ]
    },
    {
      "cell_type": "code",
      "metadata": {
        "id": "wjWsyi1cmxbU",
        "colab": {
          "base_uri": "https://localhost:8080/",
          "height": 110
        },
        "outputId": "ad45660e-3d3b-48c1-b347-9b65fed6883e"
      },
      "source": [
        "data.tail(2) "
      ],
      "execution_count": null,
      "outputs": [
        {
          "output_type": "execute_result",
          "data": {
            "text/html": [
              "<div>\n",
              "<style scoped>\n",
              "    .dataframe tbody tr th:only-of-type {\n",
              "        vertical-align: middle;\n",
              "    }\n",
              "\n",
              "    .dataframe tbody tr th {\n",
              "        vertical-align: top;\n",
              "    }\n",
              "\n",
              "    .dataframe thead th {\n",
              "        text-align: right;\n",
              "    }\n",
              "</style>\n",
              "<table border=\"1\" class=\"dataframe\">\n",
              "  <thead>\n",
              "    <tr style=\"text-align: right;\">\n",
              "      <th></th>\n",
              "      <th>date</th>\n",
              "      <th>1. open</th>\n",
              "      <th>2. high</th>\n",
              "      <th>3. low</th>\n",
              "      <th>4. close</th>\n",
              "      <th>5. adjusted close</th>\n",
              "      <th>6. volume</th>\n",
              "      <th>7. dividend amount</th>\n",
              "      <th>8. split coefficient</th>\n",
              "    </tr>\n",
              "  </thead>\n",
              "  <tbody>\n",
              "    <tr>\n",
              "      <th>1</th>\n",
              "      <td>2021-11-04</td>\n",
              "      <td>32.71</td>\n",
              "      <td>32.770</td>\n",
              "      <td>32.39</td>\n",
              "      <td>32.48</td>\n",
              "      <td>32.48</td>\n",
              "      <td>991705.0</td>\n",
              "      <td>0.0</td>\n",
              "      <td>1.0</td>\n",
              "    </tr>\n",
              "    <tr>\n",
              "      <th>0</th>\n",
              "      <td>2021-11-05</td>\n",
              "      <td>32.78</td>\n",
              "      <td>33.035</td>\n",
              "      <td>32.59</td>\n",
              "      <td>32.76</td>\n",
              "      <td>32.76</td>\n",
              "      <td>1074976.0</td>\n",
              "      <td>0.0</td>\n",
              "      <td>1.0</td>\n",
              "    </tr>\n",
              "  </tbody>\n",
              "</table>\n",
              "</div>"
            ],
            "text/plain": [
              "        date  1. open  ...  7. dividend amount  8. split coefficient\n",
              "1 2021-11-04    32.71  ...                 0.0                   1.0\n",
              "0 2021-11-05    32.78  ...                 0.0                   1.0\n",
              "\n",
              "[2 rows x 9 columns]"
            ]
          },
          "metadata": {},
          "execution_count": 27
        }
      ]
    },
    {
      "cell_type": "code",
      "metadata": {
        "id": "oiQKPnfbFWtt"
      },
      "source": [
        "data.drop('7. dividend amount',axis = 1 ,inplace = True)\n",
        "data.drop('8. split coefficient' , axis = 1 ,inplace = True)"
      ],
      "execution_count": null,
      "outputs": []
    },
    {
      "cell_type": "code",
      "metadata": {
        "id": "CoCc1a9bGW_x",
        "colab": {
          "base_uri": "https://localhost:8080/",
          "height": 110
        },
        "outputId": "7a10be25-16d8-4129-cfa2-e749a4726d35"
      },
      "source": [
        "data.head(2)"
      ],
      "execution_count": null,
      "outputs": [
        {
          "output_type": "execute_result",
          "data": {
            "text/html": [
              "<div>\n",
              "<style scoped>\n",
              "    .dataframe tbody tr th:only-of-type {\n",
              "        vertical-align: middle;\n",
              "    }\n",
              "\n",
              "    .dataframe tbody tr th {\n",
              "        vertical-align: top;\n",
              "    }\n",
              "\n",
              "    .dataframe thead th {\n",
              "        text-align: right;\n",
              "    }\n",
              "</style>\n",
              "<table border=\"1\" class=\"dataframe\">\n",
              "  <thead>\n",
              "    <tr style=\"text-align: right;\">\n",
              "      <th></th>\n",
              "      <th>date</th>\n",
              "      <th>1. open</th>\n",
              "      <th>2. high</th>\n",
              "      <th>3. low</th>\n",
              "      <th>4. close</th>\n",
              "      <th>5. adjusted close</th>\n",
              "      <th>6. volume</th>\n",
              "    </tr>\n",
              "  </thead>\n",
              "  <tbody>\n",
              "    <tr>\n",
              "      <th>99</th>\n",
              "      <td>2021-06-17</td>\n",
              "      <td>23.24</td>\n",
              "      <td>23.36</td>\n",
              "      <td>22.92</td>\n",
              "      <td>22.98</td>\n",
              "      <td>22.98</td>\n",
              "      <td>1500905.0</td>\n",
              "    </tr>\n",
              "    <tr>\n",
              "      <th>98</th>\n",
              "      <td>2021-06-18</td>\n",
              "      <td>22.52</td>\n",
              "      <td>22.52</td>\n",
              "      <td>22.17</td>\n",
              "      <td>22.18</td>\n",
              "      <td>22.18</td>\n",
              "      <td>2788538.0</td>\n",
              "    </tr>\n",
              "  </tbody>\n",
              "</table>\n",
              "</div>"
            ],
            "text/plain": [
              "         date  1. open  2. high  3. low  4. close  5. adjusted close  6. volume\n",
              "99 2021-06-17    23.24    23.36   22.92     22.98              22.98  1500905.0\n",
              "98 2021-06-18    22.52    22.52   22.17     22.18              22.18  2788538.0"
            ]
          },
          "metadata": {},
          "execution_count": 29
        }
      ]
    },
    {
      "cell_type": "code",
      "metadata": {
        "id": "9IeCXzi_qoRj",
        "colab": {
          "base_uri": "https://localhost:8080/",
          "height": 468
        },
        "outputId": "9d59015a-6903-4af4-ef04-63df52b9139e"
      },
      "source": [
        "# plt.figure(figsize=(17,17))\n",
        "data.plot(x='date', y=['1. open', '4. close'] , figsize = (25,7) );\n",
        "plt.suptitle('Opening/Closing stock prices of TTM \\n 2021-06-07 to 2021-10-25', fontsize=15, color='black')\n",
        "plt.xlabel(\"date\",fontsize=12, color='black')\n",
        "plt.ylabel(\"$ price\", fontsize=12, color='black')\n",
        "plt.show() "
      ],
      "execution_count": null,
      "outputs": [
        {
          "output_type": "display_data",
          "data": {
            "image/png": "[encoded data removed]",
            "text/plain": [
              "<Figure size 1800x504 with 1 Axes>"
            ]
          },
          "metadata": {
            "needs_background": "light"
          }
        }
      ]
    },
    {
      "cell_type": "code",
      "metadata": {
        "id": "22aCmMbQnyc5",
        "colab": {
          "base_uri": "https://localhost:8080/",
          "height": 142
        },
        "outputId": "1b12be4c-e0f2-444e-cc9c-248ba1d050de"
      },
      "source": [
        "data['dif'] = data['1. open'] - data['4. close']\n",
        "data.head(3) "
      ],
      "execution_count": null,
      "outputs": [
        {
          "output_type": "execute_result",
          "data": {
            "text/html": [
              "<div>\n",
              "<style scoped>\n",
              "    .dataframe tbody tr th:only-of-type {\n",
              "        vertical-align: middle;\n",
              "    }\n",
              "\n",
              "    .dataframe tbody tr th {\n",
              "        vertical-align: top;\n",
              "    }\n",
              "\n",
              "    .dataframe thead th {\n",
              "        text-align: right;\n",
              "    }\n",
              "</style>\n",
              "<table border=\"1\" class=\"dataframe\">\n",
              "  <thead>\n",
              "    <tr style=\"text-align: right;\">\n",
              "      <th></th>\n",
              "      <th>date</th>\n",
              "      <th>1. open</th>\n",
              "      <th>2. high</th>\n",
              "      <th>3. low</th>\n",
              "      <th>4. close</th>\n",
              "      <th>5. adjusted close</th>\n",
              "      <th>6. volume</th>\n",
              "      <th>dif</th>\n",
              "    </tr>\n",
              "  </thead>\n",
              "  <tbody>\n",
              "    <tr>\n",
              "      <th>99</th>\n",
              "      <td>2021-06-17</td>\n",
              "      <td>23.24</td>\n",
              "      <td>23.36</td>\n",
              "      <td>22.92</td>\n",
              "      <td>22.98</td>\n",
              "      <td>22.98</td>\n",
              "      <td>1500905.0</td>\n",
              "      <td>0.26</td>\n",
              "    </tr>\n",
              "    <tr>\n",
              "      <th>98</th>\n",
              "      <td>2021-06-18</td>\n",
              "      <td>22.52</td>\n",
              "      <td>22.52</td>\n",
              "      <td>22.17</td>\n",
              "      <td>22.18</td>\n",
              "      <td>22.18</td>\n",
              "      <td>2788538.0</td>\n",
              "      <td>0.34</td>\n",
              "    </tr>\n",
              "    <tr>\n",
              "      <th>97</th>\n",
              "      <td>2021-06-21</td>\n",
              "      <td>22.39</td>\n",
              "      <td>22.61</td>\n",
              "      <td>22.34</td>\n",
              "      <td>22.60</td>\n",
              "      <td>22.60</td>\n",
              "      <td>675941.0</td>\n",
              "      <td>-0.21</td>\n",
              "    </tr>\n",
              "  </tbody>\n",
              "</table>\n",
              "</div>"
            ],
            "text/plain": [
              "         date  1. open  2. high  ...  5. adjusted close  6. volume   dif\n",
              "99 2021-06-17    23.24    23.36  ...              22.98  1500905.0  0.26\n",
              "98 2021-06-18    22.52    22.52  ...              22.18  2788538.0  0.34\n",
              "97 2021-06-21    22.39    22.61  ...              22.60   675941.0 -0.21\n",
              "\n",
              "[3 rows x 8 columns]"
            ]
          },
          "metadata": {},
          "execution_count": 31
        }
      ]
    },
    {
      "cell_type": "code",
      "metadata": {
        "id": "CWe-0b8toGCq",
        "colab": {
          "base_uri": "https://localhost:8080/"
        },
        "outputId": "4054ca68-644a-40a2-85a4-c5b1dae54893"
      },
      "source": [
        "count_neg = count_zero = count_pos = pos = neg =  0 \n",
        "for i in data['dif']:\n",
        "  if i == 0 :\n",
        "    count_zero += 1 \n",
        "  elif i < 0 :\n",
        "    count_neg += 1 \n",
        "    neg += i \n",
        "  else :\n",
        "    count_pos += 1 \n",
        "    pos +=  i\n",
        "\n",
        "print(count_neg , count_zero , count_pos)\n",
        "print(neg , pos )"
      ],
      "execution_count": null,
      "outputs": [
        {
          "output_type": "stream",
          "name": "stdout",
          "text": [
            "55 3 42\n",
            "-17.13999999999999 9.620000000000012\n"
          ]
        }
      ]
    },
    {
      "cell_type": "code",
      "metadata": {
        "id": "AV_LRb6QGfEW",
        "colab": {
          "base_uri": "https://localhost:8080/"
        },
        "outputId": "a3327f90-bcb5-4f6f-9d6c-59d911e35ab2"
      },
      "source": [
        "data['dif'].mean() "
      ],
      "execution_count": null,
      "outputs": [
        {
          "output_type": "execute_result",
          "data": {
            "text/plain": [
              "-0.07519999999999978"
            ]
          },
          "metadata": {},
          "execution_count": 33
        }
      ]
    },
    {
      "cell_type": "code",
      "metadata": {
        "id": "bYXxVeUeGyJj"
      },
      "source": [
        ""
      ],
      "execution_count": null,
      "outputs": []
    },
    {
      "cell_type": "code",
      "metadata": {
        "id": "UcZ7tHFaqsW5",
        "colab": {
          "base_uri": "https://localhost:8080/",
          "height": 142
        },
        "outputId": "b97b5c06-1faf-4001-8eac-84ed3737fb79"
      },
      "source": [
        "data['Day'] = data['date'].dt.dayofweek\n",
        "data['month'] = pd.DatetimeIndex(data['date']).month\n",
        "data.head(3) "
      ],
      "execution_count": null,
      "outputs": [
        {
          "output_type": "execute_result",
          "data": {
            "text/html": [
              "<div>\n",
              "<style scoped>\n",
              "    .dataframe tbody tr th:only-of-type {\n",
              "        vertical-align: middle;\n",
              "    }\n",
              "\n",
              "    .dataframe tbody tr th {\n",
              "        vertical-align: top;\n",
              "    }\n",
              "\n",
              "    .dataframe thead th {\n",
              "        text-align: right;\n",
              "    }\n",
              "</style>\n",
              "<table border=\"1\" class=\"dataframe\">\n",
              "  <thead>\n",
              "    <tr style=\"text-align: right;\">\n",
              "      <th></th>\n",
              "      <th>date</th>\n",
              "      <th>1. open</th>\n",
              "      <th>2. high</th>\n",
              "      <th>3. low</th>\n",
              "      <th>4. close</th>\n",
              "      <th>5. adjusted close</th>\n",
              "      <th>6. volume</th>\n",
              "      <th>dif</th>\n",
              "      <th>Day</th>\n",
              "      <th>month</th>\n",
              "    </tr>\n",
              "  </thead>\n",
              "  <tbody>\n",
              "    <tr>\n",
              "      <th>99</th>\n",
              "      <td>2021-06-17</td>\n",
              "      <td>23.24</td>\n",
              "      <td>23.36</td>\n",
              "      <td>22.92</td>\n",
              "      <td>22.98</td>\n",
              "      <td>22.98</td>\n",
              "      <td>1500905.0</td>\n",
              "      <td>0.26</td>\n",
              "      <td>3</td>\n",
              "      <td>6</td>\n",
              "    </tr>\n",
              "    <tr>\n",
              "      <th>98</th>\n",
              "      <td>2021-06-18</td>\n",
              "      <td>22.52</td>\n",
              "      <td>22.52</td>\n",
              "      <td>22.17</td>\n",
              "      <td>22.18</td>\n",
              "      <td>22.18</td>\n",
              "      <td>2788538.0</td>\n",
              "      <td>0.34</td>\n",
              "      <td>4</td>\n",
              "      <td>6</td>\n",
              "    </tr>\n",
              "    <tr>\n",
              "      <th>97</th>\n",
              "      <td>2021-06-21</td>\n",
              "      <td>22.39</td>\n",
              "      <td>22.61</td>\n",
              "      <td>22.34</td>\n",
              "      <td>22.60</td>\n",
              "      <td>22.60</td>\n",
              "      <td>675941.0</td>\n",
              "      <td>-0.21</td>\n",
              "      <td>0</td>\n",
              "      <td>6</td>\n",
              "    </tr>\n",
              "  </tbody>\n",
              "</table>\n",
              "</div>"
            ],
            "text/plain": [
              "         date  1. open  2. high  3. low  ...  6. volume   dif  Day  month\n",
              "99 2021-06-17    23.24    23.36   22.92  ...  1500905.0  0.26    3      6\n",
              "98 2021-06-18    22.52    22.52   22.17  ...  2788538.0  0.34    4      6\n",
              "97 2021-06-21    22.39    22.61   22.34  ...   675941.0 -0.21    0      6\n",
              "\n",
              "[3 rows x 10 columns]"
            ]
          },
          "metadata": {},
          "execution_count": 34
        }
      ]
    },
    {
      "cell_type": "code",
      "metadata": {
        "id": "VPV2NRZNrdo-",
        "colab": {
          "base_uri": "https://localhost:8080/"
        },
        "outputId": "9b2c2e38-377c-4b18-e135-516e92bc2268"
      },
      "source": [
        "data['month'].unique() "
      ],
      "execution_count": null,
      "outputs": [
        {
          "output_type": "execute_result",
          "data": {
            "text/plain": [
              "array([ 6,  7,  8,  9, 10, 11])"
            ]
          },
          "metadata": {},
          "execution_count": 35
        }
      ]
    },
    {
      "cell_type": "code",
      "metadata": {
        "id": "5KIr5xS1teRT",
        "colab": {
          "base_uri": "https://localhost:8080/",
          "height": 326
        },
        "outputId": "26addac7-e8ff-4a08-c5c8-ce61e160aeee"
      },
      "source": [
        "data.corr(method = 'pearson') "
      ],
      "execution_count": null,
      "outputs": [
        {
          "output_type": "execute_result",
          "data": {
            "text/html": [
              "<div>\n",
              "<style scoped>\n",
              "    .dataframe tbody tr th:only-of-type {\n",
              "        vertical-align: middle;\n",
              "    }\n",
              "\n",
              "    .dataframe tbody tr th {\n",
              "        vertical-align: top;\n",
              "    }\n",
              "\n",
              "    .dataframe thead th {\n",
              "        text-align: right;\n",
              "    }\n",
              "</style>\n",
              "<table border=\"1\" class=\"dataframe\">\n",
              "  <thead>\n",
              "    <tr style=\"text-align: right;\">\n",
              "      <th></th>\n",
              "      <th>1. open</th>\n",
              "      <th>2. high</th>\n",
              "      <th>3. low</th>\n",
              "      <th>4. close</th>\n",
              "      <th>5. adjusted close</th>\n",
              "      <th>6. volume</th>\n",
              "      <th>dif</th>\n",
              "      <th>Day</th>\n",
              "      <th>month</th>\n",
              "    </tr>\n",
              "  </thead>\n",
              "  <tbody>\n",
              "    <tr>\n",
              "      <th>1. open</th>\n",
              "      <td>1.000000</td>\n",
              "      <td>0.997713</td>\n",
              "      <td>0.999361</td>\n",
              "      <td>0.996543</td>\n",
              "      <td>0.996543</td>\n",
              "      <td>0.311021</td>\n",
              "      <td>-0.113787</td>\n",
              "      <td>0.021211</td>\n",
              "      <td>0.647765</td>\n",
              "    </tr>\n",
              "    <tr>\n",
              "      <th>2. high</th>\n",
              "      <td>0.997713</td>\n",
              "      <td>1.000000</td>\n",
              "      <td>0.998315</td>\n",
              "      <td>0.999547</td>\n",
              "      <td>0.999547</td>\n",
              "      <td>0.343206</td>\n",
              "      <td>-0.176707</td>\n",
              "      <td>0.017583</td>\n",
              "      <td>0.657102</td>\n",
              "    </tr>\n",
              "    <tr>\n",
              "      <th>3. low</th>\n",
              "      <td>0.999361</td>\n",
              "      <td>0.998315</td>\n",
              "      <td>1.000000</td>\n",
              "      <td>0.997902</td>\n",
              "      <td>0.997902</td>\n",
              "      <td>0.307943</td>\n",
              "      <td>-0.137584</td>\n",
              "      <td>0.026154</td>\n",
              "      <td>0.649901</td>\n",
              "    </tr>\n",
              "    <tr>\n",
              "      <th>4. close</th>\n",
              "      <td>0.996543</td>\n",
              "      <td>0.999547</td>\n",
              "      <td>0.997902</td>\n",
              "      <td>1.000000</td>\n",
              "      <td>1.000000</td>\n",
              "      <td>0.342014</td>\n",
              "      <td>-0.195927</td>\n",
              "      <td>0.021510</td>\n",
              "      <td>0.656671</td>\n",
              "    </tr>\n",
              "    <tr>\n",
              "      <th>5. adjusted close</th>\n",
              "      <td>0.996543</td>\n",
              "      <td>0.999547</td>\n",
              "      <td>0.997902</td>\n",
              "      <td>1.000000</td>\n",
              "      <td>1.000000</td>\n",
              "      <td>0.342014</td>\n",
              "      <td>-0.195927</td>\n",
              "      <td>0.021510</td>\n",
              "      <td>0.656671</td>\n",
              "    </tr>\n",
              "    <tr>\n",
              "      <th>6. volume</th>\n",
              "      <td>0.311021</td>\n",
              "      <td>0.343206</td>\n",
              "      <td>0.307943</td>\n",
              "      <td>0.342014</td>\n",
              "      <td>0.342014</td>\n",
              "      <td>1.000000</td>\n",
              "      <td>-0.418905</td>\n",
              "      <td>-0.120581</td>\n",
              "      <td>0.222131</td>\n",
              "    </tr>\n",
              "    <tr>\n",
              "      <th>dif</th>\n",
              "      <td>-0.113787</td>\n",
              "      <td>-0.176707</td>\n",
              "      <td>-0.137584</td>\n",
              "      <td>-0.195927</td>\n",
              "      <td>-0.195927</td>\n",
              "      <td>-0.418905</td>\n",
              "      <td>1.000000</td>\n",
              "      <td>-0.006867</td>\n",
              "      <td>-0.206986</td>\n",
              "    </tr>\n",
              "    <tr>\n",
              "      <th>Day</th>\n",
              "      <td>0.021211</td>\n",
              "      <td>0.017583</td>\n",
              "      <td>0.026154</td>\n",
              "      <td>0.021510</td>\n",
              "      <td>0.021510</td>\n",
              "      <td>-0.120581</td>\n",
              "      <td>-0.006867</td>\n",
              "      <td>1.000000</td>\n",
              "      <td>-0.002996</td>\n",
              "    </tr>\n",
              "    <tr>\n",
              "      <th>month</th>\n",
              "      <td>0.647765</td>\n",
              "      <td>0.657102</td>\n",
              "      <td>0.649901</td>\n",
              "      <td>0.656671</td>\n",
              "      <td>0.656671</td>\n",
              "      <td>0.222131</td>\n",
              "      <td>-0.206986</td>\n",
              "      <td>-0.002996</td>\n",
              "      <td>1.000000</td>\n",
              "    </tr>\n",
              "  </tbody>\n",
              "</table>\n",
              "</div>"
            ],
            "text/plain": [
              "                    1. open   2. high    3. low  ...       dif       Day     month\n",
              "1. open            1.000000  0.997713  0.999361  ... -0.113787  0.021211  0.647765\n",
              "2. high            0.997713  1.000000  0.998315  ... -0.176707  0.017583  0.657102\n",
              "3. low             0.999361  0.998315  1.000000  ... -0.137584  0.026154  0.649901\n",
              "4. close           0.996543  0.999547  0.997902  ... -0.195927  0.021510  0.656671\n",
              "5. adjusted close  0.996543  0.999547  0.997902  ... -0.195927  0.021510  0.656671\n",
              "6. volume          0.311021  0.343206  0.307943  ... -0.418905 -0.120581  0.222131\n",
              "dif               -0.113787 -0.176707 -0.137584  ...  1.000000 -0.006867 -0.206986\n",
              "Day                0.021211  0.017583  0.026154  ... -0.006867  1.000000 -0.002996\n",
              "month              0.647765  0.657102  0.649901  ... -0.206986 -0.002996  1.000000\n",
              "\n",
              "[9 rows x 9 columns]"
            ]
          },
          "metadata": {},
          "execution_count": 36
        }
      ]
    },
    {
      "cell_type": "code",
      "metadata": {
        "id": "xOXWayRNth-K",
        "colab": {
          "base_uri": "https://localhost:8080/",
          "height": 326
        },
        "outputId": "5c3959c9-6926-4bca-cad9-20c9dbbb150c"
      },
      "source": [
        "data.cov()"
      ],
      "execution_count": null,
      "outputs": [
        {
          "output_type": "execute_result",
          "data": {
            "text/html": [
              "<div>\n",
              "<style scoped>\n",
              "    .dataframe tbody tr th:only-of-type {\n",
              "        vertical-align: middle;\n",
              "    }\n",
              "\n",
              "    .dataframe tbody tr th {\n",
              "        vertical-align: top;\n",
              "    }\n",
              "\n",
              "    .dataframe thead th {\n",
              "        text-align: right;\n",
              "    }\n",
              "</style>\n",
              "<table border=\"1\" class=\"dataframe\">\n",
              "  <thead>\n",
              "    <tr style=\"text-align: right;\">\n",
              "      <th></th>\n",
              "      <th>1. open</th>\n",
              "      <th>2. high</th>\n",
              "      <th>3. low</th>\n",
              "      <th>4. close</th>\n",
              "      <th>5. adjusted close</th>\n",
              "      <th>6. volume</th>\n",
              "      <th>dif</th>\n",
              "      <th>Day</th>\n",
              "      <th>month</th>\n",
              "    </tr>\n",
              "  </thead>\n",
              "  <tbody>\n",
              "    <tr>\n",
              "      <th>1. open</th>\n",
              "      <td>2.352876e+01</td>\n",
              "      <td>2.419608e+01</td>\n",
              "      <td>2.314933e+01</td>\n",
              "      <td>2.375556e+01</td>\n",
              "      <td>2.375556e+01</td>\n",
              "      <td>1.984187e+06</td>\n",
              "      <td>-0.226804</td>\n",
              "      <td>0.144954</td>\n",
              "      <td>4.435822</td>\n",
              "    </tr>\n",
              "    <tr>\n",
              "      <th>2. high</th>\n",
              "      <td>2.419608e+01</td>\n",
              "      <td>2.499655e+01</td>\n",
              "      <td>2.383549e+01</td>\n",
              "      <td>2.455912e+01</td>\n",
              "      <td>2.455912e+01</td>\n",
              "      <td>2.256778e+06</td>\n",
              "      <td>-0.363041</td>\n",
              "      <td>0.123853</td>\n",
              "      <td>4.637992</td>\n",
              "    </tr>\n",
              "    <tr>\n",
              "      <th>3. low</th>\n",
              "      <td>2.314933e+01</td>\n",
              "      <td>2.383549e+01</td>\n",
              "      <td>2.280517e+01</td>\n",
              "      <td>2.341932e+01</td>\n",
              "      <td>2.341932e+01</td>\n",
              "      <td>1.934106e+06</td>\n",
              "      <td>-0.269989</td>\n",
              "      <td>0.175965</td>\n",
              "      <td>4.381478</td>\n",
              "    </tr>\n",
              "    <tr>\n",
              "      <th>4. close</th>\n",
              "      <td>2.375556e+01</td>\n",
              "      <td>2.455912e+01</td>\n",
              "      <td>2.341932e+01</td>\n",
              "      <td>2.415123e+01</td>\n",
              "      <td>2.415123e+01</td>\n",
              "      <td>2.210584e+06</td>\n",
              "      <td>-0.395663</td>\n",
              "      <td>0.148929</td>\n",
              "      <td>4.555899</td>\n",
              "    </tr>\n",
              "    <tr>\n",
              "      <th>5. adjusted close</th>\n",
              "      <td>2.375556e+01</td>\n",
              "      <td>2.455912e+01</td>\n",
              "      <td>2.341932e+01</td>\n",
              "      <td>2.415123e+01</td>\n",
              "      <td>2.415123e+01</td>\n",
              "      <td>2.210584e+06</td>\n",
              "      <td>-0.395663</td>\n",
              "      <td>0.148929</td>\n",
              "      <td>4.555899</td>\n",
              "    </tr>\n",
              "    <tr>\n",
              "      <th>6. volume</th>\n",
              "      <td>1.984187e+06</td>\n",
              "      <td>2.256778e+06</td>\n",
              "      <td>1.934106e+06</td>\n",
              "      <td>2.210584e+06</td>\n",
              "      <td>2.210584e+06</td>\n",
              "      <td>1.729766e+12</td>\n",
              "      <td>-226396.482893</td>\n",
              "      <td>-223433.757677</td>\n",
              "      <td>412439.869596</td>\n",
              "    </tr>\n",
              "    <tr>\n",
              "      <th>dif</th>\n",
              "      <td>-2.268045e-01</td>\n",
              "      <td>-3.630405e-01</td>\n",
              "      <td>-2.699887e-01</td>\n",
              "      <td>-3.956625e-01</td>\n",
              "      <td>-3.956625e-01</td>\n",
              "      <td>-2.263965e+05</td>\n",
              "      <td>0.168858</td>\n",
              "      <td>-0.003976</td>\n",
              "      <td>-0.120077</td>\n",
              "    </tr>\n",
              "    <tr>\n",
              "      <th>Day</th>\n",
              "      <td>1.449535e-01</td>\n",
              "      <td>1.238530e-01</td>\n",
              "      <td>1.759654e-01</td>\n",
              "      <td>1.489293e-01</td>\n",
              "      <td>1.489293e-01</td>\n",
              "      <td>-2.234338e+05</td>\n",
              "      <td>-0.003976</td>\n",
              "      <td>1.984949</td>\n",
              "      <td>-0.005960</td>\n",
              "    </tr>\n",
              "    <tr>\n",
              "      <th>month</th>\n",
              "      <td>4.435822e+00</td>\n",
              "      <td>4.637992e+00</td>\n",
              "      <td>4.381478e+00</td>\n",
              "      <td>4.555899e+00</td>\n",
              "      <td>4.555899e+00</td>\n",
              "      <td>4.124399e+05</td>\n",
              "      <td>-0.120077</td>\n",
              "      <td>-0.005960</td>\n",
              "      <td>1.993030</td>\n",
              "    </tr>\n",
              "  </tbody>\n",
              "</table>\n",
              "</div>"
            ],
            "text/plain": [
              "                        1. open       2. high  ...            Day          month\n",
              "1. open            2.352876e+01  2.419608e+01  ...       0.144954       4.435822\n",
              "2. high            2.419608e+01  2.499655e+01  ...       0.123853       4.637992\n",
              "3. low             2.314933e+01  2.383549e+01  ...       0.175965       4.381478\n",
              "4. close           2.375556e+01  2.455912e+01  ...       0.148929       4.555899\n",
              "5. adjusted close  2.375556e+01  2.455912e+01  ...       0.148929       4.555899\n",
              "6. volume          1.984187e+06  2.256778e+06  ... -223433.757677  412439.869596\n",
              "dif               -2.268045e-01 -3.630405e-01  ...      -0.003976      -0.120077\n",
              "Day                1.449535e-01  1.238530e-01  ...       1.984949      -0.005960\n",
              "month              4.435822e+00  4.637992e+00  ...      -0.005960       1.993030\n",
              "\n",
              "[9 rows x 9 columns]"
            ]
          },
          "metadata": {},
          "execution_count": 37
        }
      ]
    },
    {
      "cell_type": "code",
      "metadata": {
        "id": "KPKReHiwutTS",
        "colab": {
          "base_uri": "https://localhost:8080/",
          "height": 742
        },
        "outputId": "8ed43d85-3541-473e-ef65-6bf6634b4060"
      },
      "source": [
        "# plt.figure(figsize=(17,17))\n",
        "data.plot(x='date', y=['1. open', '2. high', '3. low' , '5. adjusted close'] , figsize = (25,12) );\n",
        "plt.suptitle('High/Low stock prices of Facebook \\n 2021-06-07 to 2021-10-25', fontsize=15, color='black')\n",
        "plt.xlabel(\"date\",fontsize=12, color='black')\n",
        "plt.ylabel(\"$ price\", fontsize=12, color='black')\n",
        "plt.show() "
      ],
      "execution_count": null,
      "outputs": [
        {
          "output_type": "display_data",
          "data": {
            "image/png": "[encoded data removed]",
            "text/plain": [
              "<Figure size 1800x864 with 1 Axes>"
            ]
          },
          "metadata": {
            "needs_background": "light"
          }
        }
      ]
    },
    {
      "cell_type": "code",
      "metadata": {
        "id": "oXSwsu3u2yVn"
      },
      "source": [
        "# originally i here wanted to find out the relation between the stock price and the volume as i believe that if the volume is large then there is a greater chance of people taking it \n",
        "# what do u think we should predict in here ??\n",
        "# we can have the close price as the end result or we can have the price of the next day as the result \n",
        "#  what if we managed to predict the opening price of the next day of this company ??\n",
        "# will that shed any insight into the inner workings if the company or will it just be nothiung ?"
      ],
      "execution_count": null,
      "outputs": []
    },
    {
      "cell_type": "code",
      "metadata": {
        "id": "d9oHWm8ItiHQ",
        "colab": {
          "base_uri": "https://localhost:8080/"
        },
        "outputId": "92543d81-51df-44fc-939b-d6e4825ef4bb"
      },
      "source": [
        "k = data['6. volume'] - data['6. volume'].mean() \n",
        "for i in k :\n",
        "  if i < 0 :\n",
        "    i *= -1 \n",
        "print(k)\n",
        "k.mean() "
      ],
      "execution_count": null,
      "outputs": [
        {
          "output_type": "stream",
          "name": "stdout",
          "text": [
            "99    -340581.43\n",
            "98     947051.57\n",
            "97   -1165545.43\n",
            "96   -1144068.43\n",
            "95   -1021200.43\n",
            "         ...    \n",
            "4      533163.57\n",
            "3      105038.57\n",
            "2     -423997.43\n",
            "1     -849781.43\n",
            "0     -766510.43\n",
            "Name: 6. volume, Length: 100, dtype: float64\n"
          ]
        },
        {
          "output_type": "execute_result",
          "data": {
            "text/plain": [
              "2.2584572434425353e-10"
            ]
          },
          "metadata": {},
          "execution_count": 40
        }
      ]
    },
    {
      "cell_type": "code",
      "metadata": {
        "id": "o6BNSViDEEje",
        "colab": {
          "base_uri": "https://localhost:8080/",
          "height": 142
        },
        "outputId": "9efc7ee2-fa61-4f4c-a3ee-c4e582277566"
      },
      "source": [
        "data.head(3)"
      ],
      "execution_count": null,
      "outputs": [
        {
          "output_type": "execute_result",
          "data": {
            "text/html": [
              "<div>\n",
              "<style scoped>\n",
              "    .dataframe tbody tr th:only-of-type {\n",
              "        vertical-align: middle;\n",
              "    }\n",
              "\n",
              "    .dataframe tbody tr th {\n",
              "        vertical-align: top;\n",
              "    }\n",
              "\n",
              "    .dataframe thead th {\n",
              "        text-align: right;\n",
              "    }\n",
              "</style>\n",
              "<table border=\"1\" class=\"dataframe\">\n",
              "  <thead>\n",
              "    <tr style=\"text-align: right;\">\n",
              "      <th></th>\n",
              "      <th>date</th>\n",
              "      <th>1. open</th>\n",
              "      <th>2. high</th>\n",
              "      <th>3. low</th>\n",
              "      <th>4. close</th>\n",
              "      <th>5. adjusted close</th>\n",
              "      <th>6. volume</th>\n",
              "      <th>dif</th>\n",
              "      <th>Day</th>\n",
              "      <th>month</th>\n",
              "    </tr>\n",
              "  </thead>\n",
              "  <tbody>\n",
              "    <tr>\n",
              "      <th>99</th>\n",
              "      <td>2021-06-17</td>\n",
              "      <td>23.24</td>\n",
              "      <td>23.36</td>\n",
              "      <td>22.92</td>\n",
              "      <td>22.98</td>\n",
              "      <td>22.98</td>\n",
              "      <td>1500905.0</td>\n",
              "      <td>0.26</td>\n",
              "      <td>3</td>\n",
              "      <td>6</td>\n",
              "    </tr>\n",
              "    <tr>\n",
              "      <th>98</th>\n",
              "      <td>2021-06-18</td>\n",
              "      <td>22.52</td>\n",
              "      <td>22.52</td>\n",
              "      <td>22.17</td>\n",
              "      <td>22.18</td>\n",
              "      <td>22.18</td>\n",
              "      <td>2788538.0</td>\n",
              "      <td>0.34</td>\n",
              "      <td>4</td>\n",
              "      <td>6</td>\n",
              "    </tr>\n",
              "    <tr>\n",
              "      <th>97</th>\n",
              "      <td>2021-06-21</td>\n",
              "      <td>22.39</td>\n",
              "      <td>22.61</td>\n",
              "      <td>22.34</td>\n",
              "      <td>22.60</td>\n",
              "      <td>22.60</td>\n",
              "      <td>675941.0</td>\n",
              "      <td>-0.21</td>\n",
              "      <td>0</td>\n",
              "      <td>6</td>\n",
              "    </tr>\n",
              "  </tbody>\n",
              "</table>\n",
              "</div>"
            ],
            "text/plain": [
              "         date  1. open  2. high  3. low  ...  6. volume   dif  Day  month\n",
              "99 2021-06-17    23.24    23.36   22.92  ...  1500905.0  0.26    3      6\n",
              "98 2021-06-18    22.52    22.52   22.17  ...  2788538.0  0.34    4      6\n",
              "97 2021-06-21    22.39    22.61   22.34  ...   675941.0 -0.21    0      6\n",
              "\n",
              "[3 rows x 10 columns]"
            ]
          },
          "metadata": {},
          "execution_count": 41
        }
      ]
    },
    {
      "cell_type": "code",
      "metadata": {
        "id": "mC6u--o7E6Xb",
        "colab": {
          "base_uri": "https://localhost:8080/"
        },
        "outputId": "145ff4cf-28b0-4746-e60a-b9f5fea5258e"
      },
      "source": [
        "data.isna().sum()"
      ],
      "execution_count": null,
      "outputs": [
        {
          "output_type": "execute_result",
          "data": {
            "text/plain": [
              "date                 0\n",
              "1. open              0\n",
              "2. high              0\n",
              "3. low               0\n",
              "4. close             0\n",
              "5. adjusted close    0\n",
              "6. volume            0\n",
              "dif                  0\n",
              "Day                  0\n",
              "month                0\n",
              "dtype: int64"
            ]
          },
          "metadata": {},
          "execution_count": 42
        }
      ]
    },
    {
      "cell_type": "code",
      "metadata": {
        "id": "a_jn6k860U7m",
        "colab": {
          "base_uri": "https://localhost:8080/",
          "height": 520
        },
        "outputId": "df2598cd-8915-493a-e33c-4a5221560b8a"
      },
      "source": [
        "# let us go by normalization now \n",
        "import seaborn as sns\n",
        "plt.subplots(figsize = (15,8))\n",
        "sns.heatmap(data.corr(), annot=True,cmap=\"PiYG\")\n",
        "plt.title(\"Correlations Among Features\", fontsize = 18) "
      ],
      "execution_count": null,
      "outputs": [
        {
          "output_type": "execute_result",
          "data": {
            "text/plain": [
              "Text(0.5, 1.0, 'Correlations Among Features')"
            ]
          },
          "metadata": {},
          "execution_count": 43
        },
        {
          "output_type": "display_data",
          "data": {
            "image/png": "[encoded data removed]",
            "text/plain": [
              "<Figure size 1080x576 with 2 Axes>"
            ]
          },
          "metadata": {
            "needs_background": "light"
          }
        }
      ]
    },
    {
      "cell_type": "code",
      "metadata": {
        "id": "G406G9p1vTpI",
        "colab": {
          "base_uri": "https://localhost:8080/",
          "height": 627
        },
        "outputId": "86f19d42-903a-42dc-b030-bdc41c778049"
      },
      "source": [
        "sns.set(rc={'axes.facecolor':'white', 'figure.facecolor':'white'})\n",
        "f, ax = plt.subplots(figsize=(12, 9))\n",
        "sns.heatmap(data.corr(), vmax=.8, square=True)\n",
        "?sns.heatmap "
      ],
      "execution_count": null,
      "outputs": [
        {
          "output_type": "display_data",
          "data": {
            "image/png": "[encoded data removed]",
            "text/plain": [
              "<Figure size 864x648 with 2 Axes>"
            ]
          },
          "metadata": {}
        }
      ]
    },
    {
      "cell_type": "code",
      "metadata": {
        "id": "VBuMkoPgJ2vc",
        "colab": {
          "base_uri": "https://localhost:8080/",
          "height": 110
        },
        "outputId": "aa86bc76-fd60-4d14-8529-3a12ce524943"
      },
      "source": [
        "data.head(2)"
      ],
      "execution_count": null,
      "outputs": [
        {
          "output_type": "execute_result",
          "data": {
            "text/html": [
              "<div>\n",
              "<style scoped>\n",
              "    .dataframe tbody tr th:only-of-type {\n",
              "        vertical-align: middle;\n",
              "    }\n",
              "\n",
              "    .dataframe tbody tr th {\n",
              "        vertical-align: top;\n",
              "    }\n",
              "\n",
              "    .dataframe thead th {\n",
              "        text-align: right;\n",
              "    }\n",
              "</style>\n",
              "<table border=\"1\" class=\"dataframe\">\n",
              "  <thead>\n",
              "    <tr style=\"text-align: right;\">\n",
              "      <th></th>\n",
              "      <th>date</th>\n",
              "      <th>1. open</th>\n",
              "      <th>2. high</th>\n",
              "      <th>3. low</th>\n",
              "      <th>4. close</th>\n",
              "      <th>5. adjusted close</th>\n",
              "      <th>6. volume</th>\n",
              "      <th>dif</th>\n",
              "      <th>Day</th>\n",
              "      <th>month</th>\n",
              "    </tr>\n",
              "  </thead>\n",
              "  <tbody>\n",
              "    <tr>\n",
              "      <th>99</th>\n",
              "      <td>2021-06-17</td>\n",
              "      <td>23.24</td>\n",
              "      <td>23.36</td>\n",
              "      <td>22.92</td>\n",
              "      <td>22.98</td>\n",
              "      <td>22.98</td>\n",
              "      <td>1500905.0</td>\n",
              "      <td>0.26</td>\n",
              "      <td>3</td>\n",
              "      <td>6</td>\n",
              "    </tr>\n",
              "    <tr>\n",
              "      <th>98</th>\n",
              "      <td>2021-06-18</td>\n",
              "      <td>22.52</td>\n",
              "      <td>22.52</td>\n",
              "      <td>22.17</td>\n",
              "      <td>22.18</td>\n",
              "      <td>22.18</td>\n",
              "      <td>2788538.0</td>\n",
              "      <td>0.34</td>\n",
              "      <td>4</td>\n",
              "      <td>6</td>\n",
              "    </tr>\n",
              "  </tbody>\n",
              "</table>\n",
              "</div>"
            ],
            "text/plain": [
              "         date  1. open  2. high  3. low  ...  6. volume   dif  Day  month\n",
              "99 2021-06-17    23.24    23.36   22.92  ...  1500905.0  0.26    3      6\n",
              "98 2021-06-18    22.52    22.52   22.17  ...  2788538.0  0.34    4      6\n",
              "\n",
              "[2 rows x 10 columns]"
            ]
          },
          "metadata": {},
          "execution_count": 45
        }
      ]
    },
    {
      "cell_type": "code",
      "metadata": {
        "id": "vq3BG_EwLGRj",
        "colab": {
          "base_uri": "https://localhost:8080/",
          "height": 80
        },
        "outputId": "1d9c85b2-3e61-4319-b87b-9cfa527285dc"
      },
      "source": [
        "data.tail(1)"
      ],
      "execution_count": null,
      "outputs": [
        {
          "output_type": "execute_result",
          "data": {
            "text/html": [
              "<div>\n",
              "<style scoped>\n",
              "    .dataframe tbody tr th:only-of-type {\n",
              "        vertical-align: middle;\n",
              "    }\n",
              "\n",
              "    .dataframe tbody tr th {\n",
              "        vertical-align: top;\n",
              "    }\n",
              "\n",
              "    .dataframe thead th {\n",
              "        text-align: right;\n",
              "    }\n",
              "</style>\n",
              "<table border=\"1\" class=\"dataframe\">\n",
              "  <thead>\n",
              "    <tr style=\"text-align: right;\">\n",
              "      <th></th>\n",
              "      <th>date</th>\n",
              "      <th>1. open</th>\n",
              "      <th>2. high</th>\n",
              "      <th>3. low</th>\n",
              "      <th>4. close</th>\n",
              "      <th>5. adjusted close</th>\n",
              "      <th>6. volume</th>\n",
              "      <th>dif</th>\n",
              "      <th>Day</th>\n",
              "      <th>month</th>\n",
              "    </tr>\n",
              "  </thead>\n",
              "  <tbody>\n",
              "    <tr>\n",
              "      <th>0</th>\n",
              "      <td>2021-11-05</td>\n",
              "      <td>32.78</td>\n",
              "      <td>33.035</td>\n",
              "      <td>32.59</td>\n",
              "      <td>32.76</td>\n",
              "      <td>32.76</td>\n",
              "      <td>1074976.0</td>\n",
              "      <td>0.02</td>\n",
              "      <td>4</td>\n",
              "      <td>11</td>\n",
              "    </tr>\n",
              "  </tbody>\n",
              "</table>\n",
              "</div>"
            ],
            "text/plain": [
              "        date  1. open  2. high  3. low  ...  6. volume   dif  Day  month\n",
              "0 2021-11-05    32.78   33.035   32.59  ...  1074976.0  0.02    4     11\n",
              "\n",
              "[1 rows x 10 columns]"
            ]
          },
          "metadata": {},
          "execution_count": 46
        }
      ]
    },
    {
      "cell_type": "code",
      "metadata": {
        "id": "MBQa5spNtiTk",
        "colab": {
          "base_uri": "https://localhost:8080/",
          "height": 295
        },
        "outputId": "cad426fd-f8c6-4959-d88c-76e111ca1748"
      },
      "source": [
        "data.groupby('month').agg({'6. volume': ['mean', 'min', 'max', 'count']})  "
      ],
      "execution_count": null,
      "outputs": [
        {
          "output_type": "execute_result",
          "data": {
            "text/html": [
              "<div>\n",
              "<style scoped>\n",
              "    .dataframe tbody tr th:only-of-type {\n",
              "        vertical-align: middle;\n",
              "    }\n",
              "\n",
              "    .dataframe tbody tr th {\n",
              "        vertical-align: top;\n",
              "    }\n",
              "\n",
              "    .dataframe thead tr th {\n",
              "        text-align: left;\n",
              "    }\n",
              "\n",
              "    .dataframe thead tr:last-of-type th {\n",
              "        text-align: right;\n",
              "    }\n",
              "</style>\n",
              "<table border=\"1\" class=\"dataframe\">\n",
              "  <thead>\n",
              "    <tr>\n",
              "      <th></th>\n",
              "      <th colspan=\"4\" halign=\"left\">6. volume</th>\n",
              "    </tr>\n",
              "    <tr>\n",
              "      <th></th>\n",
              "      <th>mean</th>\n",
              "      <th>min</th>\n",
              "      <th>max</th>\n",
              "      <th>count</th>\n",
              "    </tr>\n",
              "    <tr>\n",
              "      <th>month</th>\n",
              "      <th></th>\n",
              "      <th></th>\n",
              "      <th></th>\n",
              "      <th></th>\n",
              "    </tr>\n",
              "  </thead>\n",
              "  <tbody>\n",
              "    <tr>\n",
              "      <th>6</th>\n",
              "      <td>1.058719e+06</td>\n",
              "      <td>675941.0</td>\n",
              "      <td>2788538.0</td>\n",
              "      <td>10</td>\n",
              "    </tr>\n",
              "    <tr>\n",
              "      <th>7</th>\n",
              "      <td>2.089854e+06</td>\n",
              "      <td>663973.0</td>\n",
              "      <td>6127843.0</td>\n",
              "      <td>21</td>\n",
              "    </tr>\n",
              "    <tr>\n",
              "      <th>8</th>\n",
              "      <td>1.393666e+06</td>\n",
              "      <td>560951.0</td>\n",
              "      <td>3203150.0</td>\n",
              "      <td>22</td>\n",
              "    </tr>\n",
              "    <tr>\n",
              "      <th>9</th>\n",
              "      <td>1.514534e+06</td>\n",
              "      <td>620963.0</td>\n",
              "      <td>5179366.0</td>\n",
              "      <td>21</td>\n",
              "    </tr>\n",
              "    <tr>\n",
              "      <th>10</th>\n",
              "      <td>2.828729e+06</td>\n",
              "      <td>687844.0</td>\n",
              "      <td>7343301.0</td>\n",
              "      <td>21</td>\n",
              "    </tr>\n",
              "    <tr>\n",
              "      <th>11</th>\n",
              "      <td>1.561069e+06</td>\n",
              "      <td>991705.0</td>\n",
              "      <td>2374650.0</td>\n",
              "      <td>5</td>\n",
              "    </tr>\n",
              "  </tbody>\n",
              "</table>\n",
              "</div>"
            ],
            "text/plain": [
              "          6. volume                           \n",
              "               mean       min        max count\n",
              "month                                         \n",
              "6      1.058719e+06  675941.0  2788538.0    10\n",
              "7      2.089854e+06  663973.0  6127843.0    21\n",
              "8      1.393666e+06  560951.0  3203150.0    22\n",
              "9      1.514534e+06  620963.0  5179366.0    21\n",
              "10     2.828729e+06  687844.0  7343301.0    21\n",
              "11     1.561069e+06  991705.0  2374650.0     5"
            ]
          },
          "metadata": {},
          "execution_count": 47
        }
      ]
    },
    {
      "cell_type": "code",
      "metadata": {
        "id": "Ed0lMzCrM1hX",
        "colab": {
          "base_uri": "https://localhost:8080/",
          "height": 295
        },
        "outputId": "73cba249-00a6-4b8f-fcc5-5eb7cf3ee581"
      },
      "source": [
        "data.groupby('month').agg({'1. open': ['mean', 'min', 'max', 'count']}) "
      ],
      "execution_count": null,
      "outputs": [
        {
          "output_type": "execute_result",
          "data": {
            "text/html": [
              "<div>\n",
              "<style scoped>\n",
              "    .dataframe tbody tr th:only-of-type {\n",
              "        vertical-align: middle;\n",
              "    }\n",
              "\n",
              "    .dataframe tbody tr th {\n",
              "        vertical-align: top;\n",
              "    }\n",
              "\n",
              "    .dataframe thead tr th {\n",
              "        text-align: left;\n",
              "    }\n",
              "\n",
              "    .dataframe thead tr:last-of-type th {\n",
              "        text-align: right;\n",
              "    }\n",
              "</style>\n",
              "<table border=\"1\" class=\"dataframe\">\n",
              "  <thead>\n",
              "    <tr>\n",
              "      <th></th>\n",
              "      <th colspan=\"4\" halign=\"left\">1. open</th>\n",
              "    </tr>\n",
              "    <tr>\n",
              "      <th></th>\n",
              "      <th>mean</th>\n",
              "      <th>min</th>\n",
              "      <th>max</th>\n",
              "      <th>count</th>\n",
              "    </tr>\n",
              "    <tr>\n",
              "      <th>month</th>\n",
              "      <th></th>\n",
              "      <th></th>\n",
              "      <th></th>\n",
              "      <th></th>\n",
              "    </tr>\n",
              "  </thead>\n",
              "  <tbody>\n",
              "    <tr>\n",
              "      <th>6</th>\n",
              "      <td>22.683000</td>\n",
              "      <td>22.39</td>\n",
              "      <td>23.24</td>\n",
              "      <td>10</td>\n",
              "    </tr>\n",
              "    <tr>\n",
              "      <th>7</th>\n",
              "      <td>20.367619</td>\n",
              "      <td>19.19</td>\n",
              "      <td>23.04</td>\n",
              "      <td>21</td>\n",
              "    </tr>\n",
              "    <tr>\n",
              "      <th>8</th>\n",
              "      <td>19.675682</td>\n",
              "      <td>18.48</td>\n",
              "      <td>20.54</td>\n",
              "      <td>22</td>\n",
              "    </tr>\n",
              "    <tr>\n",
              "      <th>9</th>\n",
              "      <td>20.843333</td>\n",
              "      <td>19.86</td>\n",
              "      <td>22.40</td>\n",
              "      <td>21</td>\n",
              "    </tr>\n",
              "    <tr>\n",
              "      <th>10</th>\n",
              "      <td>29.796905</td>\n",
              "      <td>22.22</td>\n",
              "      <td>34.14</td>\n",
              "      <td>21</td>\n",
              "    </tr>\n",
              "    <tr>\n",
              "      <th>11</th>\n",
              "      <td>32.484000</td>\n",
              "      <td>31.73</td>\n",
              "      <td>32.78</td>\n",
              "      <td>5</td>\n",
              "    </tr>\n",
              "  </tbody>\n",
              "</table>\n",
              "</div>"
            ],
            "text/plain": [
              "         1. open                    \n",
              "            mean    min    max count\n",
              "month                               \n",
              "6      22.683000  22.39  23.24    10\n",
              "7      20.367619  19.19  23.04    21\n",
              "8      19.675682  18.48  20.54    22\n",
              "9      20.843333  19.86  22.40    21\n",
              "10     29.796905  22.22  34.14    21\n",
              "11     32.484000  31.73  32.78     5"
            ]
          },
          "metadata": {},
          "execution_count": 48
        }
      ]
    },
    {
      "cell_type": "code",
      "metadata": {
        "id": "HU8_MrOJM3pm",
        "colab": {
          "base_uri": "https://localhost:8080/",
          "height": 265
        },
        "outputId": "7de82074-fcdb-4d82-eec8-964f21cbafed"
      },
      "source": [
        "data.groupby('Day').agg({'4. close': ['mean', 'min', 'max', 'count']}) "
      ],
      "execution_count": null,
      "outputs": [
        {
          "output_type": "execute_result",
          "data": {
            "text/html": [
              "<div>\n",
              "<style scoped>\n",
              "    .dataframe tbody tr th:only-of-type {\n",
              "        vertical-align: middle;\n",
              "    }\n",
              "\n",
              "    .dataframe tbody tr th {\n",
              "        vertical-align: top;\n",
              "    }\n",
              "\n",
              "    .dataframe thead tr th {\n",
              "        text-align: left;\n",
              "    }\n",
              "\n",
              "    .dataframe thead tr:last-of-type th {\n",
              "        text-align: right;\n",
              "    }\n",
              "</style>\n",
              "<table border=\"1\" class=\"dataframe\">\n",
              "  <thead>\n",
              "    <tr>\n",
              "      <th></th>\n",
              "      <th colspan=\"4\" halign=\"left\">4. close</th>\n",
              "    </tr>\n",
              "    <tr>\n",
              "      <th></th>\n",
              "      <th>mean</th>\n",
              "      <th>min</th>\n",
              "      <th>max</th>\n",
              "      <th>count</th>\n",
              "    </tr>\n",
              "    <tr>\n",
              "      <th>Day</th>\n",
              "      <th></th>\n",
              "      <th></th>\n",
              "      <th></th>\n",
              "      <th></th>\n",
              "    </tr>\n",
              "  </thead>\n",
              "  <tbody>\n",
              "    <tr>\n",
              "      <th>0</th>\n",
              "      <td>23.192778</td>\n",
              "      <td>18.73</td>\n",
              "      <td>33.79</td>\n",
              "      <td>18</td>\n",
              "    </tr>\n",
              "    <tr>\n",
              "      <th>1</th>\n",
              "      <td>22.956500</td>\n",
              "      <td>19.12</td>\n",
              "      <td>33.17</td>\n",
              "      <td>20</td>\n",
              "    </tr>\n",
              "    <tr>\n",
              "      <th>2</th>\n",
              "      <td>23.163500</td>\n",
              "      <td>19.17</td>\n",
              "      <td>34.20</td>\n",
              "      <td>20</td>\n",
              "    </tr>\n",
              "    <tr>\n",
              "      <th>3</th>\n",
              "      <td>23.361429</td>\n",
              "      <td>18.90</td>\n",
              "      <td>33.93</td>\n",
              "      <td>21</td>\n",
              "    </tr>\n",
              "    <tr>\n",
              "      <th>4</th>\n",
              "      <td>23.349524</td>\n",
              "      <td>19.15</td>\n",
              "      <td>34.19</td>\n",
              "      <td>21</td>\n",
              "    </tr>\n",
              "  </tbody>\n",
              "</table>\n",
              "</div>"
            ],
            "text/plain": [
              "      4. close                    \n",
              "          mean    min    max count\n",
              "Day                               \n",
              "0    23.192778  18.73  33.79    18\n",
              "1    22.956500  19.12  33.17    20\n",
              "2    23.163500  19.17  34.20    20\n",
              "3    23.361429  18.90  33.93    21\n",
              "4    23.349524  19.15  34.19    21"
            ]
          },
          "metadata": {},
          "execution_count": 49
        }
      ]
    },
    {
      "cell_type": "code",
      "metadata": {
        "id": "kYFjbdQLLaGt",
        "colab": {
          "base_uri": "https://localhost:8080/",
          "height": 265
        },
        "outputId": "06606a78-2d81-4fd9-fb0f-563254ab4187"
      },
      "source": [
        "data.groupby('Day').agg({'6. volume': ['mean', 'min', 'max', 'count']}) "
      ],
      "execution_count": null,
      "outputs": [
        {
          "output_type": "execute_result",
          "data": {
            "text/html": [
              "<div>\n",
              "<style scoped>\n",
              "    .dataframe tbody tr th:only-of-type {\n",
              "        vertical-align: middle;\n",
              "    }\n",
              "\n",
              "    .dataframe tbody tr th {\n",
              "        vertical-align: top;\n",
              "    }\n",
              "\n",
              "    .dataframe thead tr th {\n",
              "        text-align: left;\n",
              "    }\n",
              "\n",
              "    .dataframe thead tr:last-of-type th {\n",
              "        text-align: right;\n",
              "    }\n",
              "</style>\n",
              "<table border=\"1\" class=\"dataframe\">\n",
              "  <thead>\n",
              "    <tr>\n",
              "      <th></th>\n",
              "      <th colspan=\"4\" halign=\"left\">6. volume</th>\n",
              "    </tr>\n",
              "    <tr>\n",
              "      <th></th>\n",
              "      <th>mean</th>\n",
              "      <th>min</th>\n",
              "      <th>max</th>\n",
              "      <th>count</th>\n",
              "    </tr>\n",
              "    <tr>\n",
              "      <th>Day</th>\n",
              "      <th></th>\n",
              "      <th></th>\n",
              "      <th></th>\n",
              "      <th></th>\n",
              "    </tr>\n",
              "  </thead>\n",
              "  <tbody>\n",
              "    <tr>\n",
              "      <th>0</th>\n",
              "      <td>1.746282e+06</td>\n",
              "      <td>622180.0</td>\n",
              "      <td>5179366.0</td>\n",
              "      <td>18</td>\n",
              "    </tr>\n",
              "    <tr>\n",
              "      <th>1</th>\n",
              "      <td>2.352635e+06</td>\n",
              "      <td>697418.0</td>\n",
              "      <td>6394214.0</td>\n",
              "      <td>20</td>\n",
              "    </tr>\n",
              "    <tr>\n",
              "      <th>2</th>\n",
              "      <td>1.933622e+06</td>\n",
              "      <td>716443.0</td>\n",
              "      <td>7343301.0</td>\n",
              "      <td>20</td>\n",
              "    </tr>\n",
              "    <tr>\n",
              "      <th>3</th>\n",
              "      <td>1.585312e+06</td>\n",
              "      <td>620963.0</td>\n",
              "      <td>4969507.0</td>\n",
              "      <td>21</td>\n",
              "    </tr>\n",
              "    <tr>\n",
              "      <th>4</th>\n",
              "      <td>1.604709e+06</td>\n",
              "      <td>560951.0</td>\n",
              "      <td>4529390.0</td>\n",
              "      <td>21</td>\n",
              "    </tr>\n",
              "  </tbody>\n",
              "</table>\n",
              "</div>"
            ],
            "text/plain": [
              "        6. volume                           \n",
              "             mean       min        max count\n",
              "Day                                         \n",
              "0    1.746282e+06  622180.0  5179366.0    18\n",
              "1    2.352635e+06  697418.0  6394214.0    20\n",
              "2    1.933622e+06  716443.0  7343301.0    20\n",
              "3    1.585312e+06  620963.0  4969507.0    21\n",
              "4    1.604709e+06  560951.0  4529390.0    21"
            ]
          },
          "metadata": {},
          "execution_count": 50
        }
      ]
    },
    {
      "cell_type": "code",
      "metadata": {
        "id": "T6VkvdrHMjj6",
        "colab": {
          "base_uri": "https://localhost:8080/",
          "height": 265
        },
        "outputId": "a847e812-51f8-4fa4-a124-8a9621fda1fd"
      },
      "source": [
        "data.groupby('Day').agg({'1. open': ['mean', 'min', 'max', 'count']}) "
      ],
      "execution_count": null,
      "outputs": [
        {
          "output_type": "execute_result",
          "data": {
            "text/html": [
              "<div>\n",
              "<style scoped>\n",
              "    .dataframe tbody tr th:only-of-type {\n",
              "        vertical-align: middle;\n",
              "    }\n",
              "\n",
              "    .dataframe tbody tr th {\n",
              "        vertical-align: top;\n",
              "    }\n",
              "\n",
              "    .dataframe thead tr th {\n",
              "        text-align: left;\n",
              "    }\n",
              "\n",
              "    .dataframe thead tr:last-of-type th {\n",
              "        text-align: right;\n",
              "    }\n",
              "</style>\n",
              "<table border=\"1\" class=\"dataframe\">\n",
              "  <thead>\n",
              "    <tr>\n",
              "      <th></th>\n",
              "      <th colspan=\"4\" halign=\"left\">1. open</th>\n",
              "    </tr>\n",
              "    <tr>\n",
              "      <th></th>\n",
              "      <th>mean</th>\n",
              "      <th>min</th>\n",
              "      <th>max</th>\n",
              "      <th>count</th>\n",
              "    </tr>\n",
              "    <tr>\n",
              "      <th>Day</th>\n",
              "      <th></th>\n",
              "      <th></th>\n",
              "      <th></th>\n",
              "      <th></th>\n",
              "    </tr>\n",
              "  </thead>\n",
              "  <tbody>\n",
              "    <tr>\n",
              "      <th>0</th>\n",
              "      <td>23.117222</td>\n",
              "      <td>18.48</td>\n",
              "      <td>34.140</td>\n",
              "      <td>18</td>\n",
              "    </tr>\n",
              "    <tr>\n",
              "      <th>1</th>\n",
              "      <td>22.942500</td>\n",
              "      <td>18.88</td>\n",
              "      <td>33.775</td>\n",
              "      <td>20</td>\n",
              "    </tr>\n",
              "    <tr>\n",
              "      <th>2</th>\n",
              "      <td>23.029000</td>\n",
              "      <td>19.15</td>\n",
              "      <td>32.850</td>\n",
              "      <td>20</td>\n",
              "    </tr>\n",
              "    <tr>\n",
              "      <th>3</th>\n",
              "      <td>23.244286</td>\n",
              "      <td>19.06</td>\n",
              "      <td>33.570</td>\n",
              "      <td>21</td>\n",
              "    </tr>\n",
              "    <tr>\n",
              "      <th>4</th>\n",
              "      <td>23.314762</td>\n",
              "      <td>18.80</td>\n",
              "      <td>33.980</td>\n",
              "      <td>21</td>\n",
              "    </tr>\n",
              "  </tbody>\n",
              "</table>\n",
              "</div>"
            ],
            "text/plain": [
              "       1. open                     \n",
              "          mean    min     max count\n",
              "Day                                \n",
              "0    23.117222  18.48  34.140    18\n",
              "1    22.942500  18.88  33.775    20\n",
              "2    23.029000  19.15  32.850    20\n",
              "3    23.244286  19.06  33.570    21\n",
              "4    23.314762  18.80  33.980    21"
            ]
          },
          "metadata": {},
          "execution_count": 51
        }
      ]
    },
    {
      "cell_type": "code",
      "metadata": {
        "id": "-8Wxfc_HMvdV",
        "colab": {
          "base_uri": "https://localhost:8080/",
          "height": 265
        },
        "outputId": "9722bbff-a34c-4025-d8c8-a672252a0438"
      },
      "source": [
        "data.groupby('Day').agg({'4. close': ['mean', 'min', 'max', 'count']}) "
      ],
      "execution_count": null,
      "outputs": [
        {
          "output_type": "execute_result",
          "data": {
            "text/html": [
              "<div>\n",
              "<style scoped>\n",
              "    .dataframe tbody tr th:only-of-type {\n",
              "        vertical-align: middle;\n",
              "    }\n",
              "\n",
              "    .dataframe tbody tr th {\n",
              "        vertical-align: top;\n",
              "    }\n",
              "\n",
              "    .dataframe thead tr th {\n",
              "        text-align: left;\n",
              "    }\n",
              "\n",
              "    .dataframe thead tr:last-of-type th {\n",
              "        text-align: right;\n",
              "    }\n",
              "</style>\n",
              "<table border=\"1\" class=\"dataframe\">\n",
              "  <thead>\n",
              "    <tr>\n",
              "      <th></th>\n",
              "      <th colspan=\"4\" halign=\"left\">4. close</th>\n",
              "    </tr>\n",
              "    <tr>\n",
              "      <th></th>\n",
              "      <th>mean</th>\n",
              "      <th>min</th>\n",
              "      <th>max</th>\n",
              "      <th>count</th>\n",
              "    </tr>\n",
              "    <tr>\n",
              "      <th>Day</th>\n",
              "      <th></th>\n",
              "      <th></th>\n",
              "      <th></th>\n",
              "      <th></th>\n",
              "    </tr>\n",
              "  </thead>\n",
              "  <tbody>\n",
              "    <tr>\n",
              "      <th>0</th>\n",
              "      <td>23.192778</td>\n",
              "      <td>18.73</td>\n",
              "      <td>33.79</td>\n",
              "      <td>18</td>\n",
              "    </tr>\n",
              "    <tr>\n",
              "      <th>1</th>\n",
              "      <td>22.956500</td>\n",
              "      <td>19.12</td>\n",
              "      <td>33.17</td>\n",
              "      <td>20</td>\n",
              "    </tr>\n",
              "    <tr>\n",
              "      <th>2</th>\n",
              "      <td>23.163500</td>\n",
              "      <td>19.17</td>\n",
              "      <td>34.20</td>\n",
              "      <td>20</td>\n",
              "    </tr>\n",
              "    <tr>\n",
              "      <th>3</th>\n",
              "      <td>23.361429</td>\n",
              "      <td>18.90</td>\n",
              "      <td>33.93</td>\n",
              "      <td>21</td>\n",
              "    </tr>\n",
              "    <tr>\n",
              "      <th>4</th>\n",
              "      <td>23.349524</td>\n",
              "      <td>19.15</td>\n",
              "      <td>34.19</td>\n",
              "      <td>21</td>\n",
              "    </tr>\n",
              "  </tbody>\n",
              "</table>\n",
              "</div>"
            ],
            "text/plain": [
              "      4. close                    \n",
              "          mean    min    max count\n",
              "Day                               \n",
              "0    23.192778  18.73  33.79    18\n",
              "1    22.956500  19.12  33.17    20\n",
              "2    23.163500  19.17  34.20    20\n",
              "3    23.361429  18.90  33.93    21\n",
              "4    23.349524  19.15  34.19    21"
            ]
          },
          "metadata": {},
          "execution_count": 52
        }
      ]
    },
    {
      "cell_type": "code",
      "metadata": {
        "id": "4iyYDkzRNuNO",
        "colab": {
          "base_uri": "https://localhost:8080/",
          "height": 110
        },
        "outputId": "eebc1e7b-7d75-4bec-d940-d90e680fbce1"
      },
      "source": [
        "data.head(2)"
      ],
      "execution_count": null,
      "outputs": [
        {
          "output_type": "execute_result",
          "data": {
            "text/html": [
              "<div>\n",
              "<style scoped>\n",
              "    .dataframe tbody tr th:only-of-type {\n",
              "        vertical-align: middle;\n",
              "    }\n",
              "\n",
              "    .dataframe tbody tr th {\n",
              "        vertical-align: top;\n",
              "    }\n",
              "\n",
              "    .dataframe thead th {\n",
              "        text-align: right;\n",
              "    }\n",
              "</style>\n",
              "<table border=\"1\" class=\"dataframe\">\n",
              "  <thead>\n",
              "    <tr style=\"text-align: right;\">\n",
              "      <th></th>\n",
              "      <th>date</th>\n",
              "      <th>1. open</th>\n",
              "      <th>2. high</th>\n",
              "      <th>3. low</th>\n",
              "      <th>4. close</th>\n",
              "      <th>5. adjusted close</th>\n",
              "      <th>6. volume</th>\n",
              "      <th>dif</th>\n",
              "      <th>Day</th>\n",
              "      <th>month</th>\n",
              "    </tr>\n",
              "  </thead>\n",
              "  <tbody>\n",
              "    <tr>\n",
              "      <th>99</th>\n",
              "      <td>2021-06-17</td>\n",
              "      <td>23.24</td>\n",
              "      <td>23.36</td>\n",
              "      <td>22.92</td>\n",
              "      <td>22.98</td>\n",
              "      <td>22.98</td>\n",
              "      <td>1500905.0</td>\n",
              "      <td>0.26</td>\n",
              "      <td>3</td>\n",
              "      <td>6</td>\n",
              "    </tr>\n",
              "    <tr>\n",
              "      <th>98</th>\n",
              "      <td>2021-06-18</td>\n",
              "      <td>22.52</td>\n",
              "      <td>22.52</td>\n",
              "      <td>22.17</td>\n",
              "      <td>22.18</td>\n",
              "      <td>22.18</td>\n",
              "      <td>2788538.0</td>\n",
              "      <td>0.34</td>\n",
              "      <td>4</td>\n",
              "      <td>6</td>\n",
              "    </tr>\n",
              "  </tbody>\n",
              "</table>\n",
              "</div>"
            ],
            "text/plain": [
              "         date  1. open  2. high  3. low  ...  6. volume   dif  Day  month\n",
              "99 2021-06-17    23.24    23.36   22.92  ...  1500905.0  0.26    3      6\n",
              "98 2021-06-18    22.52    22.52   22.17  ...  2788538.0  0.34    4      6\n",
              "\n",
              "[2 rows x 10 columns]"
            ]
          },
          "metadata": {},
          "execution_count": 53
        }
      ]
    },
    {
      "cell_type": "code",
      "metadata": {
        "id": "gk-rx-xlNyPP",
        "colab": {
          "base_uri": "https://localhost:8080/",
          "height": 142
        },
        "outputId": "6c2aad87-2ad3-4a18-d5e5-ca99b10beffc"
      },
      "source": [
        "data.drop(['dif','4. close'], axis = 1 , inplace = True )\n",
        "data.head(3)"
      ],
      "execution_count": null,
      "outputs": [
        {
          "output_type": "execute_result",
          "data": {
            "text/html": [
              "<div>\n",
              "<style scoped>\n",
              "    .dataframe tbody tr th:only-of-type {\n",
              "        vertical-align: middle;\n",
              "    }\n",
              "\n",
              "    .dataframe tbody tr th {\n",
              "        vertical-align: top;\n",
              "    }\n",
              "\n",
              "    .dataframe thead th {\n",
              "        text-align: right;\n",
              "    }\n",
              "</style>\n",
              "<table border=\"1\" class=\"dataframe\">\n",
              "  <thead>\n",
              "    <tr style=\"text-align: right;\">\n",
              "      <th></th>\n",
              "      <th>date</th>\n",
              "      <th>1. open</th>\n",
              "      <th>2. high</th>\n",
              "      <th>3. low</th>\n",
              "      <th>5. adjusted close</th>\n",
              "      <th>6. volume</th>\n",
              "      <th>Day</th>\n",
              "      <th>month</th>\n",
              "    </tr>\n",
              "  </thead>\n",
              "  <tbody>\n",
              "    <tr>\n",
              "      <th>99</th>\n",
              "      <td>2021-06-17</td>\n",
              "      <td>23.24</td>\n",
              "      <td>23.36</td>\n",
              "      <td>22.92</td>\n",
              "      <td>22.98</td>\n",
              "      <td>1500905.0</td>\n",
              "      <td>3</td>\n",
              "      <td>6</td>\n",
              "    </tr>\n",
              "    <tr>\n",
              "      <th>98</th>\n",
              "      <td>2021-06-18</td>\n",
              "      <td>22.52</td>\n",
              "      <td>22.52</td>\n",
              "      <td>22.17</td>\n",
              "      <td>22.18</td>\n",
              "      <td>2788538.0</td>\n",
              "      <td>4</td>\n",
              "      <td>6</td>\n",
              "    </tr>\n",
              "    <tr>\n",
              "      <th>97</th>\n",
              "      <td>2021-06-21</td>\n",
              "      <td>22.39</td>\n",
              "      <td>22.61</td>\n",
              "      <td>22.34</td>\n",
              "      <td>22.60</td>\n",
              "      <td>675941.0</td>\n",
              "      <td>0</td>\n",
              "      <td>6</td>\n",
              "    </tr>\n",
              "  </tbody>\n",
              "</table>\n",
              "</div>"
            ],
            "text/plain": [
              "         date  1. open  2. high  ...  6. volume  Day  month\n",
              "99 2021-06-17    23.24    23.36  ...  1500905.0    3      6\n",
              "98 2021-06-18    22.52    22.52  ...  2788538.0    4      6\n",
              "97 2021-06-21    22.39    22.61  ...   675941.0    0      6\n",
              "\n",
              "[3 rows x 8 columns]"
            ]
          },
          "metadata": {},
          "execution_count": 54
        }
      ]
    },
    {
      "cell_type": "code",
      "metadata": {
        "id": "mmwL3MBpNufH"
      },
      "source": [
        "# ## lets create a function for outliers \n",
        "# def Outlier1(data):\n",
        "#     threshold=3\n",
        "#     for i in range(len(data.columns)):\n",
        "#         X=data.iloc[:,i]\n",
        "#         outlier=[]\n",
        "        \n",
        "#         mean_data=np.mean(X)\n",
        "#         print(mean_data)\n",
        "#         std_data=np.std(X)\n",
        "#         print(std_data)\n",
        "#         for j in X:\n",
        "#             z_score=(j-mean_data)/std_data\n",
        "#             if np.abs(z_score)>threshold:\n",
        "#                 outlier.append(j)\n",
        "#         for j in outlier:\n",
        "#             data=data[data[data.columns[i]]!=j]\n",
        "#     return data"
      ],
      "execution_count": null,
      "outputs": []
    },
    {
      "cell_type": "code",
      "metadata": {
        "id": "IS_o-CtkOiAp",
        "colab": {
          "base_uri": "https://localhost:8080/"
        },
        "outputId": "d00f6eeb-cb72-45c2-bb3a-a0ffc5b7cecb"
      },
      "source": [
        "data.shape"
      ],
      "execution_count": null,
      "outputs": [
        {
          "output_type": "execute_result",
          "data": {
            "text/plain": [
              "(100, 8)"
            ]
          },
          "metadata": {},
          "execution_count": 56
        }
      ]
    },
    {
      "cell_type": "code",
      "metadata": {
        "id": "2tW8yyp-OmGv"
      },
      "source": [
        "# data = Outlier1(data)"
      ],
      "execution_count": null,
      "outputs": []
    },
    {
      "cell_type": "code",
      "metadata": {
        "id": "WQz8mKq5O5xT",
        "colab": {
          "base_uri": "https://localhost:8080/"
        },
        "outputId": "51756fc6-85e5-427b-c422-4c98967b6dd1"
      },
      "source": [
        "data.shape"
      ],
      "execution_count": null,
      "outputs": [
        {
          "output_type": "execute_result",
          "data": {
            "text/plain": [
              "(100, 8)"
            ]
          },
          "metadata": {},
          "execution_count": 58
        }
      ]
    },
    {
      "cell_type": "code",
      "metadata": {
        "id": "JoCZ1JP4NumF",
        "colab": {
          "base_uri": "https://localhost:8080/",
          "height": 80
        },
        "outputId": "6d2bdfd0-f914-4c3f-f6da-1dfda6d4c01f"
      },
      "source": [
        "data.head(1)"
      ],
      "execution_count": null,
      "outputs": [
        {
          "output_type": "execute_result",
          "data": {
            "text/html": [
              "<div>\n",
              "<style scoped>\n",
              "    .dataframe tbody tr th:only-of-type {\n",
              "        vertical-align: middle;\n",
              "    }\n",
              "\n",
              "    .dataframe tbody tr th {\n",
              "        vertical-align: top;\n",
              "    }\n",
              "\n",
              "    .dataframe thead th {\n",
              "        text-align: right;\n",
              "    }\n",
              "</style>\n",
              "<table border=\"1\" class=\"dataframe\">\n",
              "  <thead>\n",
              "    <tr style=\"text-align: right;\">\n",
              "      <th></th>\n",
              "      <th>date</th>\n",
              "      <th>1. open</th>\n",
              "      <th>2. high</th>\n",
              "      <th>3. low</th>\n",
              "      <th>5. adjusted close</th>\n",
              "      <th>6. volume</th>\n",
              "      <th>Day</th>\n",
              "      <th>month</th>\n",
              "    </tr>\n",
              "  </thead>\n",
              "  <tbody>\n",
              "    <tr>\n",
              "      <th>99</th>\n",
              "      <td>2021-06-17</td>\n",
              "      <td>23.24</td>\n",
              "      <td>23.36</td>\n",
              "      <td>22.92</td>\n",
              "      <td>22.98</td>\n",
              "      <td>1500905.0</td>\n",
              "      <td>3</td>\n",
              "      <td>6</td>\n",
              "    </tr>\n",
              "  </tbody>\n",
              "</table>\n",
              "</div>"
            ],
            "text/plain": [
              "         date  1. open  2. high  ...  6. volume  Day  month\n",
              "99 2021-06-17    23.24    23.36  ...  1500905.0    3      6\n",
              "\n",
              "[1 rows x 8 columns]"
            ]
          },
          "metadata": {},
          "execution_count": 59
        }
      ]
    },
    {
      "cell_type": "code",
      "metadata": {
        "id": "rpiolTSOu2Dk"
      },
      "source": [
        "data = data.set_index(pd.DatetimeIndex(data['date'].values)) "
      ],
      "execution_count": null,
      "outputs": []
    },
    {
      "cell_type": "code",
      "metadata": {
        "id": "veB5s9_Jw779",
        "colab": {
          "base_uri": "https://localhost:8080/",
          "height": 142
        },
        "outputId": "95e11d9d-8bee-4d6e-f220-60dc700f5307"
      },
      "source": [
        "data.head(3)"
      ],
      "execution_count": null,
      "outputs": [
        {
          "output_type": "execute_result",
          "data": {
            "text/html": [
              "<div>\n",
              "<style scoped>\n",
              "    .dataframe tbody tr th:only-of-type {\n",
              "        vertical-align: middle;\n",
              "    }\n",
              "\n",
              "    .dataframe tbody tr th {\n",
              "        vertical-align: top;\n",
              "    }\n",
              "\n",
              "    .dataframe thead th {\n",
              "        text-align: right;\n",
              "    }\n",
              "</style>\n",
              "<table border=\"1\" class=\"dataframe\">\n",
              "  <thead>\n",
              "    <tr style=\"text-align: right;\">\n",
              "      <th></th>\n",
              "      <th>date</th>\n",
              "      <th>1. open</th>\n",
              "      <th>2. high</th>\n",
              "      <th>3. low</th>\n",
              "      <th>5. adjusted close</th>\n",
              "      <th>6. volume</th>\n",
              "      <th>Day</th>\n",
              "      <th>month</th>\n",
              "    </tr>\n",
              "  </thead>\n",
              "  <tbody>\n",
              "    <tr>\n",
              "      <th>2021-06-17</th>\n",
              "      <td>2021-06-17</td>\n",
              "      <td>23.24</td>\n",
              "      <td>23.36</td>\n",
              "      <td>22.92</td>\n",
              "      <td>22.98</td>\n",
              "      <td>1500905.0</td>\n",
              "      <td>3</td>\n",
              "      <td>6</td>\n",
              "    </tr>\n",
              "    <tr>\n",
              "      <th>2021-06-18</th>\n",
              "      <td>2021-06-18</td>\n",
              "      <td>22.52</td>\n",
              "      <td>22.52</td>\n",
              "      <td>22.17</td>\n",
              "      <td>22.18</td>\n",
              "      <td>2788538.0</td>\n",
              "      <td>4</td>\n",
              "      <td>6</td>\n",
              "    </tr>\n",
              "    <tr>\n",
              "      <th>2021-06-21</th>\n",
              "      <td>2021-06-21</td>\n",
              "      <td>22.39</td>\n",
              "      <td>22.61</td>\n",
              "      <td>22.34</td>\n",
              "      <td>22.60</td>\n",
              "      <td>675941.0</td>\n",
              "      <td>0</td>\n",
              "      <td>6</td>\n",
              "    </tr>\n",
              "  </tbody>\n",
              "</table>\n",
              "</div>"
            ],
            "text/plain": [
              "                 date  1. open  2. high  ...  6. volume  Day  month\n",
              "2021-06-17 2021-06-17    23.24    23.36  ...  1500905.0    3      6\n",
              "2021-06-18 2021-06-18    22.52    22.52  ...  2788538.0    4      6\n",
              "2021-06-21 2021-06-21    22.39    22.61  ...   675941.0    0      6\n",
              "\n",
              "[3 rows x 8 columns]"
            ]
          },
          "metadata": {},
          "execution_count": 61
        }
      ]
    },
    {
      "cell_type": "code",
      "metadata": {
        "id": "9ZLilxuGxA8v"
      },
      "source": [
        "data.drop('date' , axis = 1, inplace= True )"
      ],
      "execution_count": null,
      "outputs": []
    },
    {
      "cell_type": "code",
      "metadata": {
        "id": "HUoGS3GexZ0d",
        "colab": {
          "base_uri": "https://localhost:8080/",
          "height": 142
        },
        "outputId": "cda29ed7-3757-43f0-b8fc-e0e6cf57352a"
      },
      "source": [
        "data.head(3)"
      ],
      "execution_count": null,
      "outputs": [
        {
          "output_type": "execute_result",
          "data": {
            "text/html": [
              "<div>\n",
              "<style scoped>\n",
              "    .dataframe tbody tr th:only-of-type {\n",
              "        vertical-align: middle;\n",
              "    }\n",
              "\n",
              "    .dataframe tbody tr th {\n",
              "        vertical-align: top;\n",
              "    }\n",
              "\n",
              "    .dataframe thead th {\n",
              "        text-align: right;\n",
              "    }\n",
              "</style>\n",
              "<table border=\"1\" class=\"dataframe\">\n",
              "  <thead>\n",
              "    <tr style=\"text-align: right;\">\n",
              "      <th></th>\n",
              "      <th>1. open</th>\n",
              "      <th>2. high</th>\n",
              "      <th>3. low</th>\n",
              "      <th>5. adjusted close</th>\n",
              "      <th>6. volume</th>\n",
              "      <th>Day</th>\n",
              "      <th>month</th>\n",
              "    </tr>\n",
              "  </thead>\n",
              "  <tbody>\n",
              "    <tr>\n",
              "      <th>2021-06-17</th>\n",
              "      <td>23.24</td>\n",
              "      <td>23.36</td>\n",
              "      <td>22.92</td>\n",
              "      <td>22.98</td>\n",
              "      <td>1500905.0</td>\n",
              "      <td>3</td>\n",
              "      <td>6</td>\n",
              "    </tr>\n",
              "    <tr>\n",
              "      <th>2021-06-18</th>\n",
              "      <td>22.52</td>\n",
              "      <td>22.52</td>\n",
              "      <td>22.17</td>\n",
              "      <td>22.18</td>\n",
              "      <td>2788538.0</td>\n",
              "      <td>4</td>\n",
              "      <td>6</td>\n",
              "    </tr>\n",
              "    <tr>\n",
              "      <th>2021-06-21</th>\n",
              "      <td>22.39</td>\n",
              "      <td>22.61</td>\n",
              "      <td>22.34</td>\n",
              "      <td>22.60</td>\n",
              "      <td>675941.0</td>\n",
              "      <td>0</td>\n",
              "      <td>6</td>\n",
              "    </tr>\n",
              "  </tbody>\n",
              "</table>\n",
              "</div>"
            ],
            "text/plain": [
              "            1. open  2. high  3. low  5. adjusted close  6. volume  Day  month\n",
              "2021-06-17    23.24    23.36   22.92              22.98  1500905.0    3      6\n",
              "2021-06-18    22.52    22.52   22.17              22.18  2788538.0    4      6\n",
              "2021-06-21    22.39    22.61   22.34              22.60   675941.0    0      6"
            ]
          },
          "metadata": {},
          "execution_count": 63
        }
      ]
    },
    {
      "cell_type": "code",
      "metadata": {
        "id": "RibOzDOjxbEj",
        "colab": {
          "base_uri": "https://localhost:8080/",
          "height": 265
        },
        "outputId": "ea47e052-4df3-4e85-df5d-0cc5b3584fb2"
      },
      "source": [
        "data.describe().T "
      ],
      "execution_count": null,
      "outputs": [
        {
          "output_type": "execute_result",
          "data": {
            "text/html": [
              "<div>\n",
              "<style scoped>\n",
              "    .dataframe tbody tr th:only-of-type {\n",
              "        vertical-align: middle;\n",
              "    }\n",
              "\n",
              "    .dataframe tbody tr th {\n",
              "        vertical-align: top;\n",
              "    }\n",
              "\n",
              "    .dataframe thead th {\n",
              "        text-align: right;\n",
              "    }\n",
              "</style>\n",
              "<table border=\"1\" class=\"dataframe\">\n",
              "  <thead>\n",
              "    <tr style=\"text-align: right;\">\n",
              "      <th></th>\n",
              "      <th>count</th>\n",
              "      <th>mean</th>\n",
              "      <th>std</th>\n",
              "      <th>min</th>\n",
              "      <th>25%</th>\n",
              "      <th>50%</th>\n",
              "      <th>75%</th>\n",
              "      <th>max</th>\n",
              "    </tr>\n",
              "  </thead>\n",
              "  <tbody>\n",
              "    <tr>\n",
              "      <th>1. open</th>\n",
              "      <td>100.0</td>\n",
              "      <td>2.313280e+01</td>\n",
              "      <td>4.850645e+00</td>\n",
              "      <td>18.48</td>\n",
              "      <td>20.00750</td>\n",
              "      <td>20.655</td>\n",
              "      <td>2.299500e+01</td>\n",
              "      <td>34.140</td>\n",
              "    </tr>\n",
              "    <tr>\n",
              "      <th>2. high</th>\n",
              "      <td>100.0</td>\n",
              "      <td>2.340848e+01</td>\n",
              "      <td>4.999655e+00</td>\n",
              "      <td>18.76</td>\n",
              "      <td>20.17500</td>\n",
              "      <td>20.730</td>\n",
              "      <td>2.315500e+01</td>\n",
              "      <td>34.530</td>\n",
              "    </tr>\n",
              "    <tr>\n",
              "      <th>3. low</th>\n",
              "      <td>100.0</td>\n",
              "      <td>2.294178e+01</td>\n",
              "      <td>4.775476e+00</td>\n",
              "      <td>18.48</td>\n",
              "      <td>19.83625</td>\n",
              "      <td>20.465</td>\n",
              "      <td>2.286375e+01</td>\n",
              "      <td>33.865</td>\n",
              "    </tr>\n",
              "    <tr>\n",
              "      <th>5. adjusted close</th>\n",
              "      <td>100.0</td>\n",
              "      <td>2.320800e+01</td>\n",
              "      <td>4.914390e+00</td>\n",
              "      <td>18.73</td>\n",
              "      <td>19.90500</td>\n",
              "      <td>20.555</td>\n",
              "      <td>2.297250e+01</td>\n",
              "      <td>34.200</td>\n",
              "    </tr>\n",
              "    <tr>\n",
              "      <th>6. volume</th>\n",
              "      <td>100.0</td>\n",
              "      <td>1.841486e+06</td>\n",
              "      <td>1.315206e+06</td>\n",
              "      <td>560951.00</td>\n",
              "      <td>986557.75000</td>\n",
              "      <td>1400705.000</td>\n",
              "      <td>2.193424e+06</td>\n",
              "      <td>7343301.000</td>\n",
              "    </tr>\n",
              "    <tr>\n",
              "      <th>Day</th>\n",
              "      <td>100.0</td>\n",
              "      <td>2.070000e+00</td>\n",
              "      <td>1.408882e+00</td>\n",
              "      <td>0.00</td>\n",
              "      <td>1.00000</td>\n",
              "      <td>2.000</td>\n",
              "      <td>3.000000e+00</td>\n",
              "      <td>4.000</td>\n",
              "    </tr>\n",
              "    <tr>\n",
              "      <th>month</th>\n",
              "      <td>100.0</td>\n",
              "      <td>8.370000e+00</td>\n",
              "      <td>1.411747e+00</td>\n",
              "      <td>6.00</td>\n",
              "      <td>7.00000</td>\n",
              "      <td>8.000</td>\n",
              "      <td>1.000000e+01</td>\n",
              "      <td>11.000</td>\n",
              "    </tr>\n",
              "  </tbody>\n",
              "</table>\n",
              "</div>"
            ],
            "text/plain": [
              "                   count          mean  ...           75%          max\n",
              "1. open            100.0  2.313280e+01  ...  2.299500e+01       34.140\n",
              "2. high            100.0  2.340848e+01  ...  2.315500e+01       34.530\n",
              "3. low             100.0  2.294178e+01  ...  2.286375e+01       33.865\n",
              "5. adjusted close  100.0  2.320800e+01  ...  2.297250e+01       34.200\n",
              "6. volume          100.0  1.841486e+06  ...  2.193424e+06  7343301.000\n",
              "Day                100.0  2.070000e+00  ...  3.000000e+00        4.000\n",
              "month              100.0  8.370000e+00  ...  1.000000e+01       11.000\n",
              "\n",
              "[7 rows x 8 columns]"
            ]
          },
          "metadata": {},
          "execution_count": 64
        }
      ]
    },
    {
      "cell_type": "markdown",
      "metadata": {
        "id": "FVmkBjrNR5aX"
      },
      "source": [
        "We need to predict the next days closing price so we are going to shift the close price column by 1 up and predict it "
      ]
    },
    {
      "cell_type": "markdown",
      "metadata": {
        "id": "lVTboHhUTakx"
      },
      "source": [
        "Also remember to remove the end NaN rows that are just arrived "
      ]
    },
    {
      "cell_type": "code",
      "metadata": {
        "id": "_syEOgEZXVK0",
        "colab": {
          "base_uri": "https://localhost:8080/",
          "height": 110
        },
        "outputId": "8da4344f-da10-4732-dc33-98ace044dbf3"
      },
      "source": [
        "data.tail(2)"
      ],
      "execution_count": null,
      "outputs": [
        {
          "output_type": "execute_result",
          "data": {
            "text/html": [
              "<div>\n",
              "<style scoped>\n",
              "    .dataframe tbody tr th:only-of-type {\n",
              "        vertical-align: middle;\n",
              "    }\n",
              "\n",
              "    .dataframe tbody tr th {\n",
              "        vertical-align: top;\n",
              "    }\n",
              "\n",
              "    .dataframe thead th {\n",
              "        text-align: right;\n",
              "    }\n",
              "</style>\n",
              "<table border=\"1\" class=\"dataframe\">\n",
              "  <thead>\n",
              "    <tr style=\"text-align: right;\">\n",
              "      <th></th>\n",
              "      <th>1. open</th>\n",
              "      <th>2. high</th>\n",
              "      <th>3. low</th>\n",
              "      <th>5. adjusted close</th>\n",
              "      <th>6. volume</th>\n",
              "      <th>Day</th>\n",
              "      <th>month</th>\n",
              "    </tr>\n",
              "  </thead>\n",
              "  <tbody>\n",
              "    <tr>\n",
              "      <th>2021-11-04</th>\n",
              "      <td>32.71</td>\n",
              "      <td>32.770</td>\n",
              "      <td>32.39</td>\n",
              "      <td>32.48</td>\n",
              "      <td>991705.0</td>\n",
              "      <td>3</td>\n",
              "      <td>11</td>\n",
              "    </tr>\n",
              "    <tr>\n",
              "      <th>2021-11-05</th>\n",
              "      <td>32.78</td>\n",
              "      <td>33.035</td>\n",
              "      <td>32.59</td>\n",
              "      <td>32.76</td>\n",
              "      <td>1074976.0</td>\n",
              "      <td>4</td>\n",
              "      <td>11</td>\n",
              "    </tr>\n",
              "  </tbody>\n",
              "</table>\n",
              "</div>"
            ],
            "text/plain": [
              "            1. open  2. high  3. low  5. adjusted close  6. volume  Day  month\n",
              "2021-11-04    32.71   32.770   32.39              32.48   991705.0    3     11\n",
              "2021-11-05    32.78   33.035   32.59              32.76  1074976.0    4     11"
            ]
          },
          "metadata": {},
          "execution_count": 65
        }
      ]
    },
    {
      "cell_type": "code",
      "metadata": {
        "id": "tAau-F7UR-__",
        "colab": {
          "base_uri": "https://localhost:8080/",
          "height": 110
        },
        "outputId": "86e248c5-4502-46fc-b8de-44f4fac0d680"
      },
      "source": [
        "data['5. adjusted close'] = data['5. adjusted close'].shift(-2)\n",
        "data.head(2)"
      ],
      "execution_count": null,
      "outputs": [
        {
          "output_type": "execute_result",
          "data": {
            "text/html": [
              "<div>\n",
              "<style scoped>\n",
              "    .dataframe tbody tr th:only-of-type {\n",
              "        vertical-align: middle;\n",
              "    }\n",
              "\n",
              "    .dataframe tbody tr th {\n",
              "        vertical-align: top;\n",
              "    }\n",
              "\n",
              "    .dataframe thead th {\n",
              "        text-align: right;\n",
              "    }\n",
              "</style>\n",
              "<table border=\"1\" class=\"dataframe\">\n",
              "  <thead>\n",
              "    <tr style=\"text-align: right;\">\n",
              "      <th></th>\n",
              "      <th>1. open</th>\n",
              "      <th>2. high</th>\n",
              "      <th>3. low</th>\n",
              "      <th>5. adjusted close</th>\n",
              "      <th>6. volume</th>\n",
              "      <th>Day</th>\n",
              "      <th>month</th>\n",
              "    </tr>\n",
              "  </thead>\n",
              "  <tbody>\n",
              "    <tr>\n",
              "      <th>2021-06-17</th>\n",
              "      <td>23.24</td>\n",
              "      <td>23.36</td>\n",
              "      <td>22.92</td>\n",
              "      <td>22.60</td>\n",
              "      <td>1500905.0</td>\n",
              "      <td>3</td>\n",
              "      <td>6</td>\n",
              "    </tr>\n",
              "    <tr>\n",
              "      <th>2021-06-18</th>\n",
              "      <td>22.52</td>\n",
              "      <td>22.52</td>\n",
              "      <td>22.17</td>\n",
              "      <td>22.68</td>\n",
              "      <td>2788538.0</td>\n",
              "      <td>4</td>\n",
              "      <td>6</td>\n",
              "    </tr>\n",
              "  </tbody>\n",
              "</table>\n",
              "</div>"
            ],
            "text/plain": [
              "            1. open  2. high  3. low  5. adjusted close  6. volume  Day  month\n",
              "2021-06-17    23.24    23.36   22.92              22.60  1500905.0    3      6\n",
              "2021-06-18    22.52    22.52   22.17              22.68  2788538.0    4      6"
            ]
          },
          "metadata": {},
          "execution_count": 66
        }
      ]
    },
    {
      "cell_type": "code",
      "metadata": {
        "id": "DpTN3BxAW5L_",
        "colab": {
          "base_uri": "https://localhost:8080/",
          "height": 110
        },
        "outputId": "7b6aa320-c452-4ab8-f783-07c1724c9fac"
      },
      "source": [
        "data.tail(2)"
      ],
      "execution_count": null,
      "outputs": [
        {
          "output_type": "execute_result",
          "data": {
            "text/html": [
              "<div>\n",
              "<style scoped>\n",
              "    .dataframe tbody tr th:only-of-type {\n",
              "        vertical-align: middle;\n",
              "    }\n",
              "\n",
              "    .dataframe tbody tr th {\n",
              "        vertical-align: top;\n",
              "    }\n",
              "\n",
              "    .dataframe thead th {\n",
              "        text-align: right;\n",
              "    }\n",
              "</style>\n",
              "<table border=\"1\" class=\"dataframe\">\n",
              "  <thead>\n",
              "    <tr style=\"text-align: right;\">\n",
              "      <th></th>\n",
              "      <th>1. open</th>\n",
              "      <th>2. high</th>\n",
              "      <th>3. low</th>\n",
              "      <th>5. adjusted close</th>\n",
              "      <th>6. volume</th>\n",
              "      <th>Day</th>\n",
              "      <th>month</th>\n",
              "    </tr>\n",
              "  </thead>\n",
              "  <tbody>\n",
              "    <tr>\n",
              "      <th>2021-11-04</th>\n",
              "      <td>32.71</td>\n",
              "      <td>32.770</td>\n",
              "      <td>32.39</td>\n",
              "      <td>NaN</td>\n",
              "      <td>991705.0</td>\n",
              "      <td>3</td>\n",
              "      <td>11</td>\n",
              "    </tr>\n",
              "    <tr>\n",
              "      <th>2021-11-05</th>\n",
              "      <td>32.78</td>\n",
              "      <td>33.035</td>\n",
              "      <td>32.59</td>\n",
              "      <td>NaN</td>\n",
              "      <td>1074976.0</td>\n",
              "      <td>4</td>\n",
              "      <td>11</td>\n",
              "    </tr>\n",
              "  </tbody>\n",
              "</table>\n",
              "</div>"
            ],
            "text/plain": [
              "            1. open  2. high  3. low  5. adjusted close  6. volume  Day  month\n",
              "2021-11-04    32.71   32.770   32.39                NaN   991705.0    3     11\n",
              "2021-11-05    32.78   33.035   32.59                NaN  1074976.0    4     11"
            ]
          },
          "metadata": {},
          "execution_count": 67
        }
      ]
    },
    {
      "cell_type": "code",
      "metadata": {
        "id": "1hloFYOxR5Gc",
        "colab": {
          "base_uri": "https://localhost:8080/"
        },
        "outputId": "ec5cc64a-5cf7-4eae-c80d-2ee606566ba5"
      },
      "source": [
        "data = data.iloc[:-2 , :] \n",
        "print(data.shape) "
      ],
      "execution_count": null,
      "outputs": [
        {
          "output_type": "stream",
          "name": "stdout",
          "text": [
            "(98, 7)\n"
          ]
        }
      ]
    },
    {
      "cell_type": "code",
      "metadata": {
        "id": "P8J4zHa4WIaH",
        "colab": {
          "base_uri": "https://localhost:8080/",
          "height": 110
        },
        "outputId": "ecd61ea3-2bde-484f-99ac-e44e8fe30f54"
      },
      "source": [
        "data.tail(2)"
      ],
      "execution_count": null,
      "outputs": [
        {
          "output_type": "execute_result",
          "data": {
            "text/html": [
              "<div>\n",
              "<style scoped>\n",
              "    .dataframe tbody tr th:only-of-type {\n",
              "        vertical-align: middle;\n",
              "    }\n",
              "\n",
              "    .dataframe tbody tr th {\n",
              "        vertical-align: top;\n",
              "    }\n",
              "\n",
              "    .dataframe thead th {\n",
              "        text-align: right;\n",
              "    }\n",
              "</style>\n",
              "<table border=\"1\" class=\"dataframe\">\n",
              "  <thead>\n",
              "    <tr style=\"text-align: right;\">\n",
              "      <th></th>\n",
              "      <th>1. open</th>\n",
              "      <th>2. high</th>\n",
              "      <th>3. low</th>\n",
              "      <th>5. adjusted close</th>\n",
              "      <th>6. volume</th>\n",
              "      <th>Day</th>\n",
              "      <th>month</th>\n",
              "    </tr>\n",
              "  </thead>\n",
              "  <tbody>\n",
              "    <tr>\n",
              "      <th>2021-11-02</th>\n",
              "      <td>32.44</td>\n",
              "      <td>32.70</td>\n",
              "      <td>31.61</td>\n",
              "      <td>32.48</td>\n",
              "      <td>1946525.0</td>\n",
              "      <td>1</td>\n",
              "      <td>11</td>\n",
              "    </tr>\n",
              "    <tr>\n",
              "      <th>2021-11-03</th>\n",
              "      <td>31.73</td>\n",
              "      <td>32.92</td>\n",
              "      <td>31.72</td>\n",
              "      <td>32.76</td>\n",
              "      <td>1417489.0</td>\n",
              "      <td>2</td>\n",
              "      <td>11</td>\n",
              "    </tr>\n",
              "  </tbody>\n",
              "</table>\n",
              "</div>"
            ],
            "text/plain": [
              "            1. open  2. high  3. low  5. adjusted close  6. volume  Day  month\n",
              "2021-11-02    32.44    32.70   31.61              32.48  1946525.0    1     11\n",
              "2021-11-03    31.73    32.92   31.72              32.76  1417489.0    2     11"
            ]
          },
          "metadata": {},
          "execution_count": 69
        }
      ]
    },
    {
      "cell_type": "code",
      "metadata": {
        "id": "oo47IodJefUb"
      },
      "source": [
        "x_user_input = []"
      ],
      "execution_count": null,
      "outputs": []
    },
    {
      "cell_type": "code",
      "metadata": {
        "id": "1feXei4Py6JJ",
        "colab": {
          "base_uri": "https://localhost:8080/"
        },
        "outputId": "41c076b8-13c6-40c2-9659-94e1ceec4f29"
      },
      "source": [
        "y = data['5. adjusted close']\n",
        "data.drop('5. adjusted close' , axis = 1 , inplace = True)\n",
        "\n",
        "# print(x.shape,y.shape) "
      ],
      "execution_count": null,
      "outputs": [
        {
          "output_type": "stream",
          "name": "stderr",
          "text": [
            "/usr/local/lib/python3.7/dist-packages/pandas/core/frame.py:4174: SettingWithCopyWarning: \n",
            "A value is trying to be set on a copy of a slice from a DataFrame\n",
            "\n",
            "See the caveats in the documentation: https://pandas.pydata.org/pandas-docs/stable/user_guide/indexing.html#returning-a-view-versus-a-copy\n",
            "  errors=errors,\n"
          ]
        }
      ]
    },
    {
      "cell_type": "code",
      "metadata": {
        "id": "LdctTMPUkz31"
      },
      "source": [
        "# y.drop(index=y.index[-1], axis=0,inplace=True)"
      ],
      "execution_count": null,
      "outputs": []
    },
    {
      "cell_type": "code",
      "metadata": {
        "id": "ujdV19vwlVuR",
        "colab": {
          "base_uri": "https://localhost:8080/"
        },
        "outputId": "c9c9ef86-0aa8-47ae-c4c9-37380b8b2e29"
      },
      "source": [
        "x = data\n",
        "print(x.shape,y.shape)"
      ],
      "execution_count": null,
      "outputs": [
        {
          "output_type": "stream",
          "name": "stdout",
          "text": [
            "(98, 6) (98,)\n"
          ]
        }
      ]
    },
    {
      "cell_type": "code",
      "metadata": {
        "id": "QKy0d4L0YTf7"
      },
      "source": [
        "# WHYIS THE BLOODY SHAPE DOIFFERNET , SOO TIREDD "
      ],
      "execution_count": null,
      "outputs": []
    },
    {
      "cell_type": "code",
      "metadata": {
        "id": "JoxXyMRfxhCR"
      },
      "source": [
        "from sklearn.preprocessing import MinMaxScaler\n",
        "s = MinMaxScaler(feature_range=(0, 1))\n",
        "x = s.fit_transform(x) "
      ],
      "execution_count": null,
      "outputs": []
    },
    {
      "cell_type": "code",
      "metadata": {
        "id": "zv_DHKmP0t-U"
      },
      "source": [
        "from sklearn.model_selection import train_test_split\n",
        "x_train , x_test , y_train , y_test = train_test_split(x,y , test_size = 0.3 , random_state = 1)\n",
        "# x_train "
      ],
      "execution_count": null,
      "outputs": []
    },
    {
      "cell_type": "code",
      "metadata": {
        "id": "GhKb5go2TtUJ"
      },
      "source": [
        ""
      ],
      "execution_count": null,
      "outputs": []
    },
    {
      "cell_type": "code",
      "metadata": {
        "id": "0cAkWklB1I3G",
        "colab": {
          "base_uri": "https://localhost:8080/"
        },
        "outputId": "b70bb22c-b7a2-4a99-ff2c-80cca392bbd2"
      },
      "source": [
        "y_train"
      ],
      "execution_count": null,
      "outputs": [
        {
          "output_type": "execute_result",
          "data": {
            "text/plain": [
              "2021-10-20    32.27\n",
              "2021-09-30    22.72\n",
              "2021-09-24    22.07\n",
              "2021-08-11    20.50\n",
              "2021-08-20    19.12\n",
              "              ...  \n",
              "2021-10-04    22.34\n",
              "2021-06-30    23.05\n",
              "2021-09-29    22.78\n",
              "2021-07-06    19.92\n",
              "2021-08-10    20.50\n",
              "Name: 5. adjusted close, Length: 68, dtype: float64"
            ]
          },
          "metadata": {},
          "execution_count": 76
        }
      ]
    },
    {
      "cell_type": "code",
      "metadata": {
        "id": "1mK_TSLI1LMR",
        "colab": {
          "base_uri": "https://localhost:8080/"
        },
        "outputId": "1e34524b-db2c-4265-f1d3-db884abf0307"
      },
      "source": [
        "from sklearn.linear_model import LinearRegression\n",
        "model = LinearRegression()\n",
        "model.fit(x_train,y_train)\n",
        "print(model.score(x_test, y_test))"
      ],
      "execution_count": null,
      "outputs": [
        {
          "output_type": "stream",
          "name": "stdout",
          "text": [
            "0.9172449450362888\n"
          ]
        }
      ]
    },
    {
      "cell_type": "markdown",
      "metadata": {
        "id": "aeaRw41Ssv4x"
      },
      "source": [
        "Finding out the Mean Squared Error "
      ]
    },
    {
      "cell_type": "code",
      "metadata": {
        "id": "IUmt33nyru99",
        "colab": {
          "base_uri": "https://localhost:8080/"
        },
        "outputId": "acc117e3-6fd8-4218-d6e1-30c1b362e7db"
      },
      "source": [
        "y_pred_reg = model.predict(x_test)\n",
        "\n",
        "mean_squared_error = np.mean((y_pred_reg - y_test)**2)\n",
        "print(\"Mean squared Error on test set : \", mean_squared_error) "
      ],
      "execution_count": null,
      "outputs": [
        {
          "output_type": "stream",
          "name": "stdout",
          "text": [
            "Mean squared Error on test set :  2.0068759191137198\n"
          ]
        }
      ]
    },
    {
      "cell_type": "code",
      "metadata": {
        "id": "E_D5MwlgeLlI"
      },
      "source": [
        ""
      ],
      "execution_count": null,
      "outputs": []
    },
    {
      "cell_type": "code",
      "metadata": {
        "colab": {
          "base_uri": "https://localhost:8080/",
          "height": 1000
        },
        "id": "TXYAglcb1PnI",
        "outputId": "046fb6dd-8012-4759-9406-6e6e6f6b0a1c"
      },
      "source": [
        "import matplotlib.pyplot as plt\n",
        "import numpy as np\n",
        "\n",
        "\n",
        "def plotGraph(y_test,y_pred,regressorName):\n",
        "    if max(y_test) >= max(y_pred):\n",
        "        my_range = int(max(y_test))\n",
        "    else:\n",
        "        my_range = int(max(y_pred))\n",
        "    plt.figure(figsize = (17,11))\n",
        "    plt.plot(range(len(y_test)), y_test, color='blue', label = 'Actual')\n",
        "    plt.plot(range(len(y_pred)), y_pred_reg, color='red' , label = 'Predicted' )\n",
        "    plt.legend('Actual','Predicted')\n",
        "    plt.title(regressorName)\n",
        "    plt.show()\n",
        "    return\n",
        "\n",
        "plotGraph(y_test, y_pred_reg, \"test\")"
      ],
      "execution_count": null,
      "outputs": [
        {
          "output_type": "stream",
          "name": "stderr",
          "text": [
            "/usr/local/lib/python3.7/dist-packages/ipykernel_launcher.py:13: UserWarning: Legend does not support 'A' instances.\n",
            "A proxy artist may be used instead.\n",
            "See: http://matplotlib.org/users/legend_guide.html#creating-artists-specifically-for-adding-to-the-legend-aka-proxy-artists\n",
            "  del sys.path[0]\n",
            "/usr/local/lib/python3.7/dist-packages/ipykernel_launcher.py:13: UserWarning: Legend does not support 'c' instances.\n",
            "A proxy artist may be used instead.\n",
            "See: http://matplotlib.org/users/legend_guide.html#creating-artists-specifically-for-adding-to-the-legend-aka-proxy-artists\n",
            "  del sys.path[0]\n",
            "/usr/local/lib/python3.7/dist-packages/ipykernel_launcher.py:13: UserWarning: Legend does not support 't' instances.\n",
            "A proxy artist may be used instead.\n",
            "See: http://matplotlib.org/users/legend_guide.html#creating-artists-specifically-for-adding-to-the-legend-aka-proxy-artists\n",
            "  del sys.path[0]\n",
            "/usr/local/lib/python3.7/dist-packages/ipykernel_launcher.py:13: UserWarning: Legend does not support 'u' instances.\n",
            "A proxy artist may be used instead.\n",
            "See: http://matplotlib.org/users/legend_guide.html#creating-artists-specifically-for-adding-to-the-legend-aka-proxy-artists\n",
            "  del sys.path[0]\n",
            "/usr/local/lib/python3.7/dist-packages/ipykernel_launcher.py:13: UserWarning: Legend does not support 'a' instances.\n",
            "A proxy artist may be used instead.\n",
            "See: http://matplotlib.org/users/legend_guide.html#creating-artists-specifically-for-adding-to-the-legend-aka-proxy-artists\n",
            "  del sys.path[0]\n",
            "/usr/local/lib/python3.7/dist-packages/ipykernel_launcher.py:13: UserWarning: Legend does not support 'l' instances.\n",
            "A proxy artist may be used instead.\n",
            "See: http://matplotlib.org/users/legend_guide.html#creating-artists-specifically-for-adding-to-the-legend-aka-proxy-artists\n",
            "  del sys.path[0]\n"
          ]
        },
        {
          "output_type": "display_data",
          "data": {
            "image/png": "[encoded data removed]",
            "text/plain": [
              "<Figure size 1224x792 with 1 Axes>"
            ]
          },
          "metadata": {}
        }
      ]
    },
    {
      "cell_type": "markdown",
      "metadata": {
        "id": "pLBwOEe8ozT7"
      },
      "source": [
        "Lets try to use some other models for prediction purposes "
      ]
    },
    {
      "cell_type": "code",
      "metadata": {
        "id": "kxqRTTt34T4G"
      },
      "source": [
        "from pandas import read_csv\n",
        "from sklearn.model_selection import KFold\n",
        "from sklearn.model_selection import cross_val_score \n",
        "from sklearn.linear_model import Ridge "
      ],
      "execution_count": null,
      "outputs": []
    },
    {
      "cell_type": "code",
      "metadata": {
        "colab": {
          "base_uri": "https://localhost:8080/"
        },
        "id": "rSbm7qNWrBPx",
        "outputId": "3978521b-88a8-443c-934d-5522f2d053cc"
      },
      "source": [
        "kfold = KFold(n_splits=10, random_state=7, shuffle=True)\n",
        "model1 = Ridge()\n",
        "scoring = 'neg_mean_squared_error'\n",
        "results = cross_val_score(model1, x_train, y_train, cv=kfold, scoring=scoring)\n",
        "print(results.mean()) "
      ],
      "execution_count": null,
      "outputs": [
        {
          "output_type": "stream",
          "name": "stdout",
          "text": [
            "-1.4588311779794618\n"
          ]
        }
      ]
    },
    {
      "cell_type": "code",
      "metadata": {
        "colab": {
          "base_uri": "https://localhost:8080/"
        },
        "id": "MREdzi6-rRAf",
        "outputId": "d875758c-327f-43a9-abf0-c098617606c4"
      },
      "source": [
        "model1.fit(x_train , y_train)\n",
        "\n",
        "y_pred_ridge = model1.predict(x_test)\n",
        "\n",
        "mean_squared_error = np.mean((y_pred_ridge - y_test)**2)\n",
        "print(\"Mean squared Error on test set : \", mean_squared_error) "
      ],
      "execution_count": null,
      "outputs": [
        {
          "output_type": "stream",
          "name": "stdout",
          "text": [
            "Mean squared Error on test set :  2.2146173178529973\n"
          ]
        }
      ]
    },
    {
      "cell_type": "code",
      "metadata": {
        "colab": {
          "base_uri": "https://localhost:8080/",
          "height": 1000
        },
        "id": "uLMf7UqmtUi6",
        "outputId": "cf5bc35f-c406-4c5b-92fc-36288ceb832b"
      },
      "source": [
        "plotGraph(y_test, y_pred_ridge , \"test\") "
      ],
      "execution_count": null,
      "outputs": [
        {
          "output_type": "stream",
          "name": "stderr",
          "text": [
            "/usr/local/lib/python3.7/dist-packages/ipykernel_launcher.py:13: UserWarning: Legend does not support 'A' instances.\n",
            "A proxy artist may be used instead.\n",
            "See: http://matplotlib.org/users/legend_guide.html#creating-artists-specifically-for-adding-to-the-legend-aka-proxy-artists\n",
            "  del sys.path[0]\n",
            "/usr/local/lib/python3.7/dist-packages/ipykernel_launcher.py:13: UserWarning: Legend does not support 'c' instances.\n",
            "A proxy artist may be used instead.\n",
            "See: http://matplotlib.org/users/legend_guide.html#creating-artists-specifically-for-adding-to-the-legend-aka-proxy-artists\n",
            "  del sys.path[0]\n",
            "/usr/local/lib/python3.7/dist-packages/ipykernel_launcher.py:13: UserWarning: Legend does not support 't' instances.\n",
            "A proxy artist may be used instead.\n",
            "See: http://matplotlib.org/users/legend_guide.html#creating-artists-specifically-for-adding-to-the-legend-aka-proxy-artists\n",
            "  del sys.path[0]\n",
            "/usr/local/lib/python3.7/dist-packages/ipykernel_launcher.py:13: UserWarning: Legend does not support 'u' instances.\n",
            "A proxy artist may be used instead.\n",
            "See: http://matplotlib.org/users/legend_guide.html#creating-artists-specifically-for-adding-to-the-legend-aka-proxy-artists\n",
            "  del sys.path[0]\n",
            "/usr/local/lib/python3.7/dist-packages/ipykernel_launcher.py:13: UserWarning: Legend does not support 'a' instances.\n",
            "A proxy artist may be used instead.\n",
            "See: http://matplotlib.org/users/legend_guide.html#creating-artists-specifically-for-adding-to-the-legend-aka-proxy-artists\n",
            "  del sys.path[0]\n",
            "/usr/local/lib/python3.7/dist-packages/ipykernel_launcher.py:13: UserWarning: Legend does not support 'l' instances.\n",
            "A proxy artist may be used instead.\n",
            "See: http://matplotlib.org/users/legend_guide.html#creating-artists-specifically-for-adding-to-the-legend-aka-proxy-artists\n",
            "  del sys.path[0]\n"
          ]
        },
        {
          "output_type": "display_data",
          "data": {
            "image/png": "[encoded data removed]",
            "text/plain": [
              "<Figure size 1224x792 with 1 Axes>"
            ]
          },
          "metadata": {}
        }
      ]
    },
    {
      "cell_type": "code",
      "metadata": {
        "id": "Lsw4RV_PJsZr"
      },
      "source": [
        "# KNN Regression\n",
        "from pandas import read_csv\n",
        "from sklearn.model_selection import KFold\n",
        "from sklearn.model_selection import cross_val_score\n",
        "from sklearn.neighbors import KNeighborsRegressor"
      ],
      "execution_count": null,
      "outputs": []
    },
    {
      "cell_type": "code",
      "metadata": {
        "colab": {
          "base_uri": "https://localhost:8080/"
        },
        "id": "9ydM0bz-J1vP",
        "outputId": "eef267b6-a2a2-4da9-aa6c-3620947455da"
      },
      "source": [
        "kfold = KFold(n_splits=10, random_state=7, shuffle=True)\n",
        "model2 = KNeighborsRegressor()\n",
        "scoring = 'neg_mean_squared_error'\n",
        "results = cross_val_score(model2, x, y, cv=kfold, scoring=scoring)\n",
        "print(results.mean())\n",
        "\n",
        "model2.fit(x_train,y_train)"
      ],
      "execution_count": null,
      "outputs": [
        {
          "output_type": "stream",
          "name": "stdout",
          "text": [
            "-1.6199819555555561\n"
          ]
        },
        {
          "output_type": "execute_result",
          "data": {
            "text/plain": [
              "KNeighborsRegressor(algorithm='auto', leaf_size=30, metric='minkowski',\n",
              "                    metric_params=None, n_jobs=None, n_neighbors=5, p=2,\n",
              "                    weights='uniform')"
            ]
          },
          "metadata": {},
          "execution_count": 85
        }
      ]
    },
    {
      "cell_type": "code",
      "metadata": {
        "colab": {
          "base_uri": "https://localhost:8080/",
          "height": 1000
        },
        "id": "drGujT8VJ7SF",
        "outputId": "cc08ea13-a3ec-47aa-93c3-d137ae8acf37"
      },
      "source": [
        "# model2.fit(x_train,y_train)\n",
        "y_pred_Kneigh_Reg = model2.predict(x_test)\n",
        "plotGraph(y_test, y_pred_Kneigh_Reg , \"test\")  "
      ],
      "execution_count": null,
      "outputs": [
        {
          "output_type": "stream",
          "name": "stderr",
          "text": [
            "/usr/local/lib/python3.7/dist-packages/ipykernel_launcher.py:13: UserWarning: Legend does not support 'A' instances.\n",
            "A proxy artist may be used instead.\n",
            "See: http://matplotlib.org/users/legend_guide.html#creating-artists-specifically-for-adding-to-the-legend-aka-proxy-artists\n",
            "  del sys.path[0]\n",
            "/usr/local/lib/python3.7/dist-packages/ipykernel_launcher.py:13: UserWarning: Legend does not support 'c' instances.\n",
            "A proxy artist may be used instead.\n",
            "See: http://matplotlib.org/users/legend_guide.html#creating-artists-specifically-for-adding-to-the-legend-aka-proxy-artists\n",
            "  del sys.path[0]\n",
            "/usr/local/lib/python3.7/dist-packages/ipykernel_launcher.py:13: UserWarning: Legend does not support 't' instances.\n",
            "A proxy artist may be used instead.\n",
            "See: http://matplotlib.org/users/legend_guide.html#creating-artists-specifically-for-adding-to-the-legend-aka-proxy-artists\n",
            "  del sys.path[0]\n",
            "/usr/local/lib/python3.7/dist-packages/ipykernel_launcher.py:13: UserWarning: Legend does not support 'u' instances.\n",
            "A proxy artist may be used instead.\n",
            "See: http://matplotlib.org/users/legend_guide.html#creating-artists-specifically-for-adding-to-the-legend-aka-proxy-artists\n",
            "  del sys.path[0]\n",
            "/usr/local/lib/python3.7/dist-packages/ipykernel_launcher.py:13: UserWarning: Legend does not support 'a' instances.\n",
            "A proxy artist may be used instead.\n",
            "See: http://matplotlib.org/users/legend_guide.html#creating-artists-specifically-for-adding-to-the-legend-aka-proxy-artists\n",
            "  del sys.path[0]\n",
            "/usr/local/lib/python3.7/dist-packages/ipykernel_launcher.py:13: UserWarning: Legend does not support 'l' instances.\n",
            "A proxy artist may be used instead.\n",
            "See: http://matplotlib.org/users/legend_guide.html#creating-artists-specifically-for-adding-to-the-legend-aka-proxy-artists\n",
            "  del sys.path[0]\n"
          ]
        },
        {
          "output_type": "display_data",
          "data": {
            "image/png": "[encoded data removed]",
            "text/plain": [
              "<Figure size 1224x792 with 1 Axes>"
            ]
          },
          "metadata": {}
        }
      ]
    },
    {
      "cell_type": "code",
      "metadata": {
        "colab": {
          "base_uri": "https://localhost:8080/",
          "height": 1000
        },
        "id": "a5xxvGEmJ4VZ",
        "outputId": "b93a01f5-e00b-44c4-b8d9-a43b2f046c75"
      },
      "source": [
        "from pandas import read_csv\n",
        "from sklearn.model_selection import KFold\n",
        "from sklearn.model_selection import cross_val_score\n",
        "from sklearn.tree import DecisionTreeRegressor\n",
        "\n",
        "kfold = KFold(n_splits=10, random_state=7, shuffle=True)\n",
        "model3 = DecisionTreeRegressor()\n",
        "scoring = 'neg_mean_squared_error'\n",
        "results = cross_val_score(model3, x, y, cv=kfold, scoring=scoring)\n",
        "print(results.mean())\n",
        "\n",
        "model3.fit(x_train,y_train)\n",
        "\n",
        "y_pred_Desc_Tree = model3.predict(x_test)\n",
        "plotGraph(y_test, y_pred_Desc_Tree , \"test\")  "
      ],
      "execution_count": null,
      "outputs": [
        {
          "output_type": "stream",
          "name": "stdout",
          "text": [
            "-1.4130887777777785\n"
          ]
        },
        {
          "output_type": "stream",
          "name": "stderr",
          "text": [
            "/usr/local/lib/python3.7/dist-packages/ipykernel_launcher.py:13: UserWarning: Legend does not support 'A' instances.\n",
            "A proxy artist may be used instead.\n",
            "See: http://matplotlib.org/users/legend_guide.html#creating-artists-specifically-for-adding-to-the-legend-aka-proxy-artists\n",
            "  del sys.path[0]\n",
            "/usr/local/lib/python3.7/dist-packages/ipykernel_launcher.py:13: UserWarning: Legend does not support 'c' instances.\n",
            "A proxy artist may be used instead.\n",
            "See: http://matplotlib.org/users/legend_guide.html#creating-artists-specifically-for-adding-to-the-legend-aka-proxy-artists\n",
            "  del sys.path[0]\n",
            "/usr/local/lib/python3.7/dist-packages/ipykernel_launcher.py:13: UserWarning: Legend does not support 't' instances.\n",
            "A proxy artist may be used instead.\n",
            "See: http://matplotlib.org/users/legend_guide.html#creating-artists-specifically-for-adding-to-the-legend-aka-proxy-artists\n",
            "  del sys.path[0]\n",
            "/usr/local/lib/python3.7/dist-packages/ipykernel_launcher.py:13: UserWarning: Legend does not support 'u' instances.\n",
            "A proxy artist may be used instead.\n",
            "See: http://matplotlib.org/users/legend_guide.html#creating-artists-specifically-for-adding-to-the-legend-aka-proxy-artists\n",
            "  del sys.path[0]\n",
            "/usr/local/lib/python3.7/dist-packages/ipykernel_launcher.py:13: UserWarning: Legend does not support 'a' instances.\n",
            "A proxy artist may be used instead.\n",
            "See: http://matplotlib.org/users/legend_guide.html#creating-artists-specifically-for-adding-to-the-legend-aka-proxy-artists\n",
            "  del sys.path[0]\n",
            "/usr/local/lib/python3.7/dist-packages/ipykernel_launcher.py:13: UserWarning: Legend does not support 'l' instances.\n",
            "A proxy artist may be used instead.\n",
            "See: http://matplotlib.org/users/legend_guide.html#creating-artists-specifically-for-adding-to-the-legend-aka-proxy-artists\n",
            "  del sys.path[0]\n"
          ]
        },
        {
          "output_type": "display_data",
          "data": {
            "image/png": "[encoded data removed]",
            "text/plain": [
              "<Figure size 1224x792 with 1 Axes>"
            ]
          },
          "metadata": {}
        }
      ]
    },
    {
      "cell_type": "code",
      "metadata": {
        "id": "ciR93JVCJsPP",
        "colab": {
          "base_uri": "https://localhost:8080/",
          "height": 1000
        },
        "outputId": "512d05db-1874-47c6-dd7f-2912259ff59f"
      },
      "source": [
        "# SVM Regression\n",
        "from pandas import read_csv\n",
        "from sklearn.model_selection import KFold\n",
        "from sklearn.model_selection import cross_val_score\n",
        "from sklearn.svm import SVR\n",
        "\n",
        "kfold = KFold(n_splits=10, random_state=7, shuffle=True)\n",
        "model4 = SVR(gamma='auto')\n",
        "scoring = 'neg_mean_squared_error'\n",
        "results = cross_val_score(model4, x, y, cv=kfold, scoring=scoring)\n",
        "print(results.mean())\n",
        "\n",
        "model4.fit(x_train,y_train)\n",
        "\n",
        "y_pred_svm = model3.predict(x_test)\n",
        "plotGraph(y_test, y_pred_svm , \"test\") "
      ],
      "execution_count": null,
      "outputs": [
        {
          "output_type": "stream",
          "name": "stdout",
          "text": [
            "-2.831348454419474\n"
          ]
        },
        {
          "output_type": "stream",
          "name": "stderr",
          "text": [
            "/usr/local/lib/python3.7/dist-packages/ipykernel_launcher.py:13: UserWarning: Legend does not support 'A' instances.\n",
            "A proxy artist may be used instead.\n",
            "See: http://matplotlib.org/users/legend_guide.html#creating-artists-specifically-for-adding-to-the-legend-aka-proxy-artists\n",
            "  del sys.path[0]\n",
            "/usr/local/lib/python3.7/dist-packages/ipykernel_launcher.py:13: UserWarning: Legend does not support 'c' instances.\n",
            "A proxy artist may be used instead.\n",
            "See: http://matplotlib.org/users/legend_guide.html#creating-artists-specifically-for-adding-to-the-legend-aka-proxy-artists\n",
            "  del sys.path[0]\n",
            "/usr/local/lib/python3.7/dist-packages/ipykernel_launcher.py:13: UserWarning: Legend does not support 't' instances.\n",
            "A proxy artist may be used instead.\n",
            "See: http://matplotlib.org/users/legend_guide.html#creating-artists-specifically-for-adding-to-the-legend-aka-proxy-artists\n",
            "  del sys.path[0]\n",
            "/usr/local/lib/python3.7/dist-packages/ipykernel_launcher.py:13: UserWarning: Legend does not support 'u' instances.\n",
            "A proxy artist may be used instead.\n",
            "See: http://matplotlib.org/users/legend_guide.html#creating-artists-specifically-for-adding-to-the-legend-aka-proxy-artists\n",
            "  del sys.path[0]\n",
            "/usr/local/lib/python3.7/dist-packages/ipykernel_launcher.py:13: UserWarning: Legend does not support 'a' instances.\n",
            "A proxy artist may be used instead.\n",
            "See: http://matplotlib.org/users/legend_guide.html#creating-artists-specifically-for-adding-to-the-legend-aka-proxy-artists\n",
            "  del sys.path[0]\n",
            "/usr/local/lib/python3.7/dist-packages/ipykernel_launcher.py:13: UserWarning: Legend does not support 'l' instances.\n",
            "A proxy artist may be used instead.\n",
            "See: http://matplotlib.org/users/legend_guide.html#creating-artists-specifically-for-adding-to-the-legend-aka-proxy-artists\n",
            "  del sys.path[0]\n"
          ]
        },
        {
          "output_type": "display_data",
          "data": {
            "image/png": "[encoded data removed]",
            "text/plain": [
              "<Figure size 1224x792 with 1 Axes>"
            ]
          },
          "metadata": {}
        }
      ]
    },
    {
      "cell_type": "code",
      "metadata": {
        "id": "IXrLb2K2LW8t"
      },
      "source": [
        ""
      ],
      "execution_count": null,
      "outputs": []
    },
    {
      "cell_type": "code",
      "metadata": {
        "id": "2mQdwXTmLXGm"
      },
      "source": [
        ""
      ],
      "execution_count": null,
      "outputs": []
    },
    {
      "cell_type": "code",
      "metadata": {
        "id": "rXNdiZsbfJmL"
      },
      "source": [
        "# MACD parameter creation asn trying it "
      ],
      "execution_count": null,
      "outputs": []
    },
    {
      "cell_type": "code",
      "metadata": {
        "id": "lyJT4w8gNu6C"
      },
      "source": [
        "# def get_macd(price, slow, fast, smooth):\n",
        "#     exp1 = price.ewm(span = fast, adjust = False).mean()\n",
        "#     exp2 = price.ewm(span = slow, adjust = False).mean()\n",
        "#     macd = pd.DataFrame(exp1 - exp2).rename(columns = {'close':'macd'})\n",
        "#     signal = pd.DataFrame(macd.ewm(span = smooth, adjust = False).mean()).rename(columns = {'macd':'signal'})\n",
        "#     hist = pd.DataFrame(macd['macd'] - signal['signal']).rename(columns = {0:'hist'})\n",
        "#     frames =  [macd, signal, hist]\n",
        "#     df = pd.concat(frames, join = 'inner', axis = 1)\n",
        "#     return df\n",
        "\n",
        "# googl_macd = get_macd(, 26, 12, 9)\n",
        "# googl_macd.tail() "
      ],
      "execution_count": null,
      "outputs": []
    }
  ]
}
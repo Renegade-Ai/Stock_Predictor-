{
  "nbformat": 4,
  "nbformat_minor": 0,
  "metadata": {
    "colab": {
      "name": "With_Sentiment_Analaysis.ipynb",
      "provenance": [],
      "collapsed_sections": []
    },
    "kernelspec": {
      "name": "python3",
      "display_name": "Python 3"
    },
    "language_info": {
      "name": "python"
    }
  },
  "cells": [
    {
      "cell_type": "code",
      "metadata": {
        "id": "R-pMTzhI7dKr",
        "colab": {
          "base_uri": "https://localhost:8080/",
          "height": 1000
        },
        "outputId": "2284c500-d94d-49d4-d6ca-ebe3d814c8f4"
      },
      "source": [
        "import requests \n",
        "import urllib\n",
        "import numpy  as np\n",
        "import pandas as pd\n",
        "import matplotlib.pyplot as plt\n",
        "\n",
        "from bs4 import BeautifulSoup\n",
        "!pip install vaderSentiment\n",
        "from vaderSentiment.vaderSentiment import SentimentIntensityAnalyzer\n",
        "analyser = SentimentIntensityAnalyzer()\n",
        "\n",
        "!pip install fastapi\n",
        "\n",
        "from IPython.core.display import display, HTML\n",
        "display(HTML(\"<style>.container { width:100% !important; }</style>\"))\n",
        "\n",
        "import requests \n",
        "import json \n",
        "import pandas as pd \n",
        "!pip install fsspec\n",
        "from io import StringIO \n",
        "\n",
        "from urllib.request import urlopen, Request\n",
        "from bs4 import BeautifulSoup\n",
        "# from nltk.sentiment.vader import SentimentIntensityAnalyzer\n",
        "import pandas as pd\n",
        "import matplotlib.pyplot as plt\n",
        "\n",
        "finviz_url = 'https://finviz.com/quote.ashx?t='\n",
        "# tickers = ['AMZN', 'GOOG', 'FB','TTM']\n",
        "tickers = ['TTM']\n",
        "\n",
        "\n",
        "news_tables = {}\n",
        "for ticker in tickers:\n",
        "    url = finviz_url + ticker\n",
        "\n",
        "    req = Request(url=url, headers={'user-agent': 'my-app'})\n",
        "    response = urlopen(req)\n",
        "\n",
        "    html = BeautifulSoup(response, features='html.parser')\n",
        "    news_table = html.find(id='news-table')\n",
        "    news_tables[ticker] = news_table\n",
        "\n",
        "parsed_data = []\n",
        "\n",
        "for ticker, news_table in news_tables.items():\n",
        "\n",
        "    for row in news_table.findAll('tr'):\n",
        "\n",
        "        title = row.a.text\n",
        "        date_data = row.td.text.split(' ')\n",
        "        # full = row.td.text\n",
        "\n",
        "        # temp = ''\n",
        "        if len(date_data) == 1:\n",
        "            time = date_data[0]\n",
        "            # full = temp + date_data[0]  \n",
        "        else:\n",
        "            date = date_data[0]\n",
        "            time = date_data[1]\n",
        "            # temp = date_data[0]\n",
        "\n",
        "        parsed_data.append([ticker, date, time, title])\n",
        "\n",
        "df = pd.DataFrame(parsed_data, columns=['ticker', 'date', 'time', 'title'])\n",
        "\n",
        "vader = SentimentIntensityAnalyzer()\n",
        "\n",
        "f = lambda title: vader.polarity_scores(title)['compound']\n",
        "df['compound'] = df['title'].apply(f)\n",
        "df['date'] = pd.to_datetime(df.date).dt.date\n",
        "\n",
        "fig = plt.figure(figsize=(17,12))\n",
        "mean_df = df.groupby(['ticker', 'date']).mean().unstack()\n",
        "mean_df = mean_df.xs('compound', axis=\"columns\")\n",
        "mean_df.plot(kind='bar')\n",
        "plt.show() \n",
        "\n",
        "# Count vectorizer \n",
        "from sklearn.feature_extraction.text import CountVectorizer\n",
        "from sklearn.ensemble import RandomForestClassifier \n",
        "## IMPLEMENTING BAG OF WORDS MODEL\n",
        "countvector= CountVectorizer(ngram_range=(2,2))\n",
        "traindataset= countvector.fit_transform(df['title']) # CONVERTING ALL THE HEADLINES INTO VECTORS\n",
        "\n",
        "# DATA CONVERTS INTO SPARSE MATRIX\n",
        "traindataset[0] \n",
        "\n",
        "api_key = 'MXPE0FUWB351UOXC'\n",
        "!pip install alpha_vantage\n",
        "from alpha_vantage.timeseries import TimeSeries \n",
        "import time \n",
        "\n",
        "ts = TimeSeries(key = api_key ,output_format = 'pandas')\n",
        "data , metadata = ts.get_daily_adjusted(symbol = 'TTM')   "
      ],
      "execution_count": null,
      "outputs": [
        {
          "output_type": "stream",
          "name": "stdout",
          "text": [
            "Requirement already satisfied: vaderSentiment in /usr/local/lib/python3.7/dist-packages (3.3.2)\n",
            "Requirement already satisfied: requests in /usr/local/lib/python3.7/dist-packages (from vaderSentiment) (2.23.0)\n",
            "Requirement already satisfied: idna<3,>=2.5 in /usr/local/lib/python3.7/dist-packages (from requests->vaderSentiment) (2.10)\n",
            "Requirement already satisfied: chardet<4,>=3.0.2 in /usr/local/lib/python3.7/dist-packages (from requests->vaderSentiment) (3.0.4)\n",
            "Requirement already satisfied: certifi>=2017.4.17 in /usr/local/lib/python3.7/dist-packages (from requests->vaderSentiment) (2021.5.30)\n",
            "Requirement already satisfied: urllib3!=1.25.0,!=1.25.1,<1.26,>=1.21.1 in /usr/local/lib/python3.7/dist-packages (from requests->vaderSentiment) (1.24.3)\n",
            "Requirement already satisfied: fastapi in /usr/local/lib/python3.7/dist-packages (0.70.0)\n",
            "Requirement already satisfied: starlette==0.16.0 in /usr/local/lib/python3.7/dist-packages (from fastapi) (0.16.0)\n",
            "Requirement already satisfied: pydantic!=1.7,!=1.7.1,!=1.7.2,!=1.7.3,!=1.8,!=1.8.1,<2.0.0,>=1.6.2 in /usr/local/lib/python3.7/dist-packages (from fastapi) (1.8.2)\n",
            "Requirement already satisfied: typing-extensions in /usr/local/lib/python3.7/dist-packages (from starlette==0.16.0->fastapi) (3.7.4.3)\n",
            "Requirement already satisfied: anyio<4,>=3.0.0 in /usr/local/lib/python3.7/dist-packages (from starlette==0.16.0->fastapi) (3.3.4)\n",
            "Requirement already satisfied: idna>=2.8 in /usr/local/lib/python3.7/dist-packages (from anyio<4,>=3.0.0->starlette==0.16.0->fastapi) (2.10)\n",
            "Requirement already satisfied: sniffio>=1.1 in /usr/local/lib/python3.7/dist-packages (from anyio<4,>=3.0.0->starlette==0.16.0->fastapi) (1.2.0)\n"
          ]
        },
        {
          "output_type": "display_data",
          "data": {
            "text/html": [
              "<style>.container { width:100% !important; }</style>"
            ],
            "text/plain": [
              "<IPython.core.display.HTML object>"
            ]
          },
          "metadata": {}
        },
        {
          "output_type": "stream",
          "name": "stdout",
          "text": [
            "Requirement already satisfied: fsspec in /usr/local/lib/python3.7/dist-packages (2021.11.0)\n"
          ]
        },
        {
          "output_type": "display_data",
          "data": {
            "text/plain": [
              "<Figure size 1224x864 with 0 Axes>"
            ]
          },
          "metadata": {}
        },
        {
          "output_type": "display_data",
          "data": {
            "image/png": "[encoded data removed]",
            "text/plain": [
              "<Figure size 432x288 with 1 Axes>"
            ]
          },
          "metadata": {
            "needs_background": "light"
          }
        },
        {
          "output_type": "stream",
          "name": "stdout",
          "text": [
            "Requirement already satisfied: alpha_vantage in /usr/local/lib/python3.7/dist-packages (2.3.1)\n",
            "Requirement already satisfied: aiohttp in /usr/local/lib/python3.7/dist-packages (from alpha_vantage) (3.8.0)\n",
            "Requirement already satisfied: requests in /usr/local/lib/python3.7/dist-packages (from alpha_vantage) (2.23.0)\n",
            "Requirement already satisfied: multidict<7.0,>=4.5 in /usr/local/lib/python3.7/dist-packages (from aiohttp->alpha_vantage) (5.2.0)\n",
            "Requirement already satisfied: typing-extensions>=3.7.4 in /usr/local/lib/python3.7/dist-packages (from aiohttp->alpha_vantage) (3.7.4.3)\n",
            "Requirement already satisfied: attrs>=17.3.0 in /usr/local/lib/python3.7/dist-packages (from aiohttp->alpha_vantage) (21.2.0)\n",
            "Requirement already satisfied: yarl<2.0,>=1.0 in /usr/local/lib/python3.7/dist-packages (from aiohttp->alpha_vantage) (1.7.2)\n",
            "Requirement already satisfied: aiosignal>=1.1.2 in /usr/local/lib/python3.7/dist-packages (from aiohttp->alpha_vantage) (1.2.0)\n",
            "Requirement already satisfied: frozenlist>=1.1.1 in /usr/local/lib/python3.7/dist-packages (from aiohttp->alpha_vantage) (1.2.0)\n",
            "Requirement already satisfied: async-timeout<5.0,>=4.0.0a3 in /usr/local/lib/python3.7/dist-packages (from aiohttp->alpha_vantage) (4.0.0)\n",
            "Requirement already satisfied: asynctest==0.13.0 in /usr/local/lib/python3.7/dist-packages (from aiohttp->alpha_vantage) (0.13.0)\n",
            "Requirement already satisfied: charset-normalizer<3.0,>=2.0 in /usr/local/lib/python3.7/dist-packages (from aiohttp->alpha_vantage) (2.0.7)\n",
            "Requirement already satisfied: idna>=2.0 in /usr/local/lib/python3.7/dist-packages (from yarl<2.0,>=1.0->aiohttp->alpha_vantage) (2.10)\n",
            "Requirement already satisfied: certifi>=2017.4.17 in /usr/local/lib/python3.7/dist-packages (from requests->alpha_vantage) (2021.5.30)\n",
            "Requirement already satisfied: urllib3!=1.25.0,!=1.25.1,<1.26,>=1.21.1 in /usr/local/lib/python3.7/dist-packages (from requests->alpha_vantage) (1.24.3)\n",
            "Requirement already satisfied: chardet<4,>=3.0.2 in /usr/local/lib/python3.7/dist-packages (from requests->alpha_vantage) (3.0.4)\n"
          ]
        }
      ]
    },
    {
      "cell_type": "code",
      "metadata": {
        "id": "KgVlzqpEsOae"
      },
      "source": [
        "data1, metadata1 = ts.get_intraday(symbol = 'TTM')"
      ],
      "execution_count": null,
      "outputs": []
    },
    {
      "cell_type": "code",
      "metadata": {
        "colab": {
          "base_uri": "https://localhost:8080/",
          "height": 203
        },
        "id": "3SP7m8g1U-Yt",
        "outputId": "a14f1b65-c352-42b1-fdd1-683c0f2aefd5"
      },
      "source": [
        "data1.reset_index(level=0, inplace=True)\n",
        "\n",
        "data1.head() "
      ],
      "execution_count": null,
      "outputs": [
        {
          "output_type": "execute_result",
          "data": {
            "text/html": [
              "<div>\n",
              "<style scoped>\n",
              "    .dataframe tbody tr th:only-of-type {\n",
              "        vertical-align: middle;\n",
              "    }\n",
              "\n",
              "    .dataframe tbody tr th {\n",
              "        vertical-align: top;\n",
              "    }\n",
              "\n",
              "    .dataframe thead th {\n",
              "        text-align: right;\n",
              "    }\n",
              "</style>\n",
              "<table border=\"1\" class=\"dataframe\">\n",
              "  <thead>\n",
              "    <tr style=\"text-align: right;\">\n",
              "      <th></th>\n",
              "      <th>date</th>\n",
              "      <th>1. open</th>\n",
              "      <th>2. high</th>\n",
              "      <th>3. low</th>\n",
              "      <th>4. close</th>\n",
              "      <th>5. volume</th>\n",
              "    </tr>\n",
              "  </thead>\n",
              "  <tbody>\n",
              "    <tr>\n",
              "      <th>0</th>\n",
              "      <td>2021-11-05 19:30:00</td>\n",
              "      <td>32.780</td>\n",
              "      <td>32.780</td>\n",
              "      <td>32.78</td>\n",
              "      <td>32.78</td>\n",
              "      <td>125.0</td>\n",
              "    </tr>\n",
              "    <tr>\n",
              "      <th>1</th>\n",
              "      <td>2021-11-05 18:15:00</td>\n",
              "      <td>32.760</td>\n",
              "      <td>32.760</td>\n",
              "      <td>32.76</td>\n",
              "      <td>32.76</td>\n",
              "      <td>250.0</td>\n",
              "    </tr>\n",
              "    <tr>\n",
              "      <th>2</th>\n",
              "      <td>2021-11-05 16:15:00</td>\n",
              "      <td>32.760</td>\n",
              "      <td>32.950</td>\n",
              "      <td>32.76</td>\n",
              "      <td>32.76</td>\n",
              "      <td>5768.0</td>\n",
              "    </tr>\n",
              "    <tr>\n",
              "      <th>3</th>\n",
              "      <td>2021-11-05 16:00:00</td>\n",
              "      <td>32.770</td>\n",
              "      <td>32.800</td>\n",
              "      <td>32.69</td>\n",
              "      <td>32.78</td>\n",
              "      <td>137007.0</td>\n",
              "    </tr>\n",
              "    <tr>\n",
              "      <th>4</th>\n",
              "      <td>2021-11-05 15:45:00</td>\n",
              "      <td>32.765</td>\n",
              "      <td>32.805</td>\n",
              "      <td>32.75</td>\n",
              "      <td>32.77</td>\n",
              "      <td>26805.0</td>\n",
              "    </tr>\n",
              "  </tbody>\n",
              "</table>\n",
              "</div>"
            ],
            "text/plain": [
              "                 date  1. open  2. high  3. low  4. close  5. volume\n",
              "0 2021-11-05 19:30:00   32.780   32.780   32.78     32.78      125.0\n",
              "1 2021-11-05 18:15:00   32.760   32.760   32.76     32.76      250.0\n",
              "2 2021-11-05 16:15:00   32.760   32.950   32.76     32.76     5768.0\n",
              "3 2021-11-05 16:00:00   32.770   32.800   32.69     32.78   137007.0\n",
              "4 2021-11-05 15:45:00   32.765   32.805   32.75     32.77    26805.0"
            ]
          },
          "metadata": {},
          "execution_count": 52
        }
      ]
    },
    {
      "cell_type": "code",
      "metadata": {
        "colab": {
          "base_uri": "https://localhost:8080/",
          "height": 203
        },
        "id": "8_PU-BiJZHFr",
        "outputId": "33ff0ba7-8e97-4a67-b1c2-15c26f154c37"
      },
      "source": [
        "df.head()"
      ],
      "execution_count": null,
      "outputs": [
        {
          "output_type": "execute_result",
          "data": {
            "text/html": [
              "<div>\n",
              "<style scoped>\n",
              "    .dataframe tbody tr th:only-of-type {\n",
              "        vertical-align: middle;\n",
              "    }\n",
              "\n",
              "    .dataframe tbody tr th {\n",
              "        vertical-align: top;\n",
              "    }\n",
              "\n",
              "    .dataframe thead th {\n",
              "        text-align: right;\n",
              "    }\n",
              "</style>\n",
              "<table border=\"1\" class=\"dataframe\">\n",
              "  <thead>\n",
              "    <tr style=\"text-align: right;\">\n",
              "      <th></th>\n",
              "      <th>ticker</th>\n",
              "      <th>date</th>\n",
              "      <th>time</th>\n",
              "      <th>title</th>\n",
              "      <th>compound</th>\n",
              "    </tr>\n",
              "  </thead>\n",
              "  <tbody>\n",
              "    <tr>\n",
              "      <th>0</th>\n",
              "      <td>TTM</td>\n",
              "      <td>2021-11-02</td>\n",
              "      <td>12:30AM</td>\n",
              "      <td>Tata Motors (TTM) Q2 2022 Earnings Call Transc...</td>\n",
              "      <td>0.0000</td>\n",
              "    </tr>\n",
              "    <tr>\n",
              "      <th>1</th>\n",
              "      <td>TTM</td>\n",
              "      <td>2021-11-01</td>\n",
              "      <td>08:00PM</td>\n",
              "      <td>Chip Dip and Carbon Footprint Bills Trap Jaguar</td>\n",
              "      <td>-0.3182</td>\n",
              "    </tr>\n",
              "    <tr>\n",
              "      <th>2</th>\n",
              "      <td>TTM</td>\n",
              "      <td>2021-11-01</td>\n",
              "      <td>09:09AM</td>\n",
              "      <td>Skoda to make quarter of a million fewer cars ...</td>\n",
              "      <td>-0.2500</td>\n",
              "    </tr>\n",
              "    <tr>\n",
              "      <th>3</th>\n",
              "      <td>TTM</td>\n",
              "      <td>2021-11-01</td>\n",
              "      <td>08:39AM</td>\n",
              "      <td>Skoda to make quarter of a million fewer cars ...</td>\n",
              "      <td>-0.2500</td>\n",
              "    </tr>\n",
              "    <tr>\n",
              "      <th>4</th>\n",
              "      <td>TTM</td>\n",
              "      <td>2021-11-01</td>\n",
              "      <td>08:13AM</td>\n",
              "      <td>Chip crisis halves Jaguar Land Rover sales</td>\n",
              "      <td>-0.6249</td>\n",
              "    </tr>\n",
              "  </tbody>\n",
              "</table>\n",
              "</div>"
            ],
            "text/plain": [
              "  ticker  ... compound\n",
              "0    TTM  ...   0.0000\n",
              "1    TTM  ...  -0.3182\n",
              "2    TTM  ...  -0.2500\n",
              "3    TTM  ...  -0.2500\n",
              "4    TTM  ...  -0.6249\n",
              "\n",
              "[5 rows x 5 columns]"
            ]
          },
          "metadata": {},
          "execution_count": 53
        }
      ]
    },
    {
      "cell_type": "code",
      "metadata": {
        "id": "0xj_GSYLn8Kx"
      },
      "source": [
        "df.tail()"
      ],
      "execution_count": null,
      "outputs": []
    },
    {
      "cell_type": "code",
      "metadata": {
        "id": "X-ftNfx2gZIh"
      },
      "source": [
        "data1['date'] = data1['date'].astype(str)\n",
        "df['date'] = df['date'].astype(str)"
      ],
      "execution_count": null,
      "outputs": []
    },
    {
      "cell_type": "code",
      "metadata": {
        "id": "2NuYQQeHiH6p"
      },
      "source": [
        "df['time'] = pd.to_datetime(df['time']).dt.time\n",
        "df['time'] = df['time'].astype(str)"
      ],
      "execution_count": null,
      "outputs": []
    },
    {
      "cell_type": "code",
      "metadata": {
        "colab": {
          "base_uri": "https://localhost:8080/",
          "height": 110
        },
        "id": "GQlVA2o-gBHW",
        "outputId": "fe169db5-c3c8-4367-f048-3f77ca2c154b"
      },
      "source": [
        "df['date'] = df['date'] + ' ' + df['time']\n",
        "df.head(2)  "
      ],
      "execution_count": null,
      "outputs": [
        {
          "output_type": "execute_result",
          "data": {
            "text/html": [
              "<div>\n",
              "<style scoped>\n",
              "    .dataframe tbody tr th:only-of-type {\n",
              "        vertical-align: middle;\n",
              "    }\n",
              "\n",
              "    .dataframe tbody tr th {\n",
              "        vertical-align: top;\n",
              "    }\n",
              "\n",
              "    .dataframe thead th {\n",
              "        text-align: right;\n",
              "    }\n",
              "</style>\n",
              "<table border=\"1\" class=\"dataframe\">\n",
              "  <thead>\n",
              "    <tr style=\"text-align: right;\">\n",
              "      <th></th>\n",
              "      <th>ticker</th>\n",
              "      <th>date</th>\n",
              "      <th>time</th>\n",
              "      <th>title</th>\n",
              "      <th>compound</th>\n",
              "    </tr>\n",
              "  </thead>\n",
              "  <tbody>\n",
              "    <tr>\n",
              "      <th>0</th>\n",
              "      <td>TTM</td>\n",
              "      <td>2021-11-02 00:30:00</td>\n",
              "      <td>00:30:00</td>\n",
              "      <td>Tata Motors (TTM) Q2 2022 Earnings Call Transc...</td>\n",
              "      <td>0.0000</td>\n",
              "    </tr>\n",
              "    <tr>\n",
              "      <th>1</th>\n",
              "      <td>TTM</td>\n",
              "      <td>2021-11-01 20:00:00</td>\n",
              "      <td>20:00:00</td>\n",
              "      <td>Chip Dip and Carbon Footprint Bills Trap Jaguar</td>\n",
              "      <td>-0.3182</td>\n",
              "    </tr>\n",
              "  </tbody>\n",
              "</table>\n",
              "</div>"
            ],
            "text/plain": [
              "  ticker  ... compound\n",
              "0    TTM  ...   0.0000\n",
              "1    TTM  ...  -0.3182\n",
              "\n",
              "[2 rows x 5 columns]"
            ]
          },
          "metadata": {},
          "execution_count": 56
        }
      ]
    },
    {
      "cell_type": "code",
      "metadata": {
        "colab": {
          "base_uri": "https://localhost:8080/",
          "height": 110
        },
        "id": "zJzmgdEniZfv",
        "outputId": "cbc59bd3-abf1-4f74-ab25-d51d5f4ddebf"
      },
      "source": [
        "data1.head(2)"
      ],
      "execution_count": null,
      "outputs": [
        {
          "output_type": "execute_result",
          "data": {
            "text/html": [
              "<div>\n",
              "<style scoped>\n",
              "    .dataframe tbody tr th:only-of-type {\n",
              "        vertical-align: middle;\n",
              "    }\n",
              "\n",
              "    .dataframe tbody tr th {\n",
              "        vertical-align: top;\n",
              "    }\n",
              "\n",
              "    .dataframe thead th {\n",
              "        text-align: right;\n",
              "    }\n",
              "</style>\n",
              "<table border=\"1\" class=\"dataframe\">\n",
              "  <thead>\n",
              "    <tr style=\"text-align: right;\">\n",
              "      <th></th>\n",
              "      <th>date</th>\n",
              "      <th>1. open</th>\n",
              "      <th>2. high</th>\n",
              "      <th>3. low</th>\n",
              "      <th>4. close</th>\n",
              "      <th>5. volume</th>\n",
              "    </tr>\n",
              "  </thead>\n",
              "  <tbody>\n",
              "    <tr>\n",
              "      <th>0</th>\n",
              "      <td>2021-11-05 19:30:00</td>\n",
              "      <td>32.78</td>\n",
              "      <td>32.78</td>\n",
              "      <td>32.78</td>\n",
              "      <td>32.78</td>\n",
              "      <td>125.0</td>\n",
              "    </tr>\n",
              "    <tr>\n",
              "      <th>1</th>\n",
              "      <td>2021-11-05 18:15:00</td>\n",
              "      <td>32.76</td>\n",
              "      <td>32.76</td>\n",
              "      <td>32.76</td>\n",
              "      <td>32.76</td>\n",
              "      <td>250.0</td>\n",
              "    </tr>\n",
              "  </tbody>\n",
              "</table>\n",
              "</div>"
            ],
            "text/plain": [
              "                  date  1. open  2. high  3. low  4. close  5. volume\n",
              "0  2021-11-05 19:30:00    32.78    32.78   32.78     32.78      125.0\n",
              "1  2021-11-05 18:15:00    32.76    32.76   32.76     32.76      250.0"
            ]
          },
          "metadata": {},
          "execution_count": 57
        }
      ]
    },
    {
      "cell_type": "code",
      "metadata": {
        "colab": {
          "base_uri": "https://localhost:8080/"
        },
        "id": "qviNYEHLZb3X",
        "outputId": "b903f651-f42a-4f0c-fdbc-a091d138c277"
      },
      "source": [
        "print(df.dtypes)\n",
        "print('----------------') \n",
        "print(data1.dtypes)"
      ],
      "execution_count": null,
      "outputs": [
        {
          "output_type": "stream",
          "name": "stdout",
          "text": [
            "ticker       object\n",
            "date         object\n",
            "time         object\n",
            "title        object\n",
            "compound    float64\n",
            "dtype: object\n",
            "----------------\n",
            "date          object\n",
            "1. open      float64\n",
            "2. high      float64\n",
            "3. low       float64\n",
            "4. close     float64\n",
            "5. volume    float64\n",
            "dtype: object\n"
          ]
        }
      ]
    },
    {
      "cell_type": "code",
      "metadata": {
        "id": "6wr2Yarqgw6m"
      },
      "source": [
        "df['date'] = pd.to_datetime(df['date'])\n",
        "data1['date'] = pd.to_datetime(data1['date'])"
      ],
      "execution_count": null,
      "outputs": []
    },
    {
      "cell_type": "code",
      "metadata": {
        "id": "rbd5oVP1bwS8"
      },
      "source": [
        "df.sort_index(inplace = True)\n",
        "data1.sort_index(inplace = True)"
      ],
      "execution_count": null,
      "outputs": []
    },
    {
      "cell_type": "code",
      "metadata": {
        "colab": {
          "base_uri": "https://localhost:8080/",
          "height": 110
        },
        "id": "lr0RzPZlb6UZ",
        "outputId": "25c8f8c0-8783-4ed2-9734-3ad639d9ffe6"
      },
      "source": [
        "data1.head(2)"
      ],
      "execution_count": null,
      "outputs": [
        {
          "output_type": "execute_result",
          "data": {
            "text/html": [
              "<div>\n",
              "<style scoped>\n",
              "    .dataframe tbody tr th:only-of-type {\n",
              "        vertical-align: middle;\n",
              "    }\n",
              "\n",
              "    .dataframe tbody tr th {\n",
              "        vertical-align: top;\n",
              "    }\n",
              "\n",
              "    .dataframe thead th {\n",
              "        text-align: right;\n",
              "    }\n",
              "</style>\n",
              "<table border=\"1\" class=\"dataframe\">\n",
              "  <thead>\n",
              "    <tr style=\"text-align: right;\">\n",
              "      <th></th>\n",
              "      <th>date</th>\n",
              "      <th>1. open</th>\n",
              "      <th>2. high</th>\n",
              "      <th>3. low</th>\n",
              "      <th>4. close</th>\n",
              "      <th>5. volume</th>\n",
              "    </tr>\n",
              "  </thead>\n",
              "  <tbody>\n",
              "    <tr>\n",
              "      <th>0</th>\n",
              "      <td>2021-11-05 19:30:00</td>\n",
              "      <td>32.78</td>\n",
              "      <td>32.78</td>\n",
              "      <td>32.78</td>\n",
              "      <td>32.78</td>\n",
              "      <td>125.0</td>\n",
              "    </tr>\n",
              "    <tr>\n",
              "      <th>1</th>\n",
              "      <td>2021-11-05 18:15:00</td>\n",
              "      <td>32.76</td>\n",
              "      <td>32.76</td>\n",
              "      <td>32.76</td>\n",
              "      <td>32.76</td>\n",
              "      <td>250.0</td>\n",
              "    </tr>\n",
              "  </tbody>\n",
              "</table>\n",
              "</div>"
            ],
            "text/plain": [
              "                 date  1. open  2. high  3. low  4. close  5. volume\n",
              "0 2021-11-05 19:30:00    32.78    32.78   32.78     32.78      125.0\n",
              "1 2021-11-05 18:15:00    32.76    32.76   32.76     32.76      250.0"
            ]
          },
          "metadata": {},
          "execution_count": 61
        }
      ]
    },
    {
      "cell_type": "code",
      "metadata": {
        "colab": {
          "base_uri": "https://localhost:8080/",
          "height": 110
        },
        "id": "a4IGYJ7mb8Ev",
        "outputId": "11c9d716-88d4-4095-d961-9a3fc5bbc6a7"
      },
      "source": [
        "df.head(2)"
      ],
      "execution_count": null,
      "outputs": [
        {
          "output_type": "execute_result",
          "data": {
            "text/html": [
              "<div>\n",
              "<style scoped>\n",
              "    .dataframe tbody tr th:only-of-type {\n",
              "        vertical-align: middle;\n",
              "    }\n",
              "\n",
              "    .dataframe tbody tr th {\n",
              "        vertical-align: top;\n",
              "    }\n",
              "\n",
              "    .dataframe thead th {\n",
              "        text-align: right;\n",
              "    }\n",
              "</style>\n",
              "<table border=\"1\" class=\"dataframe\">\n",
              "  <thead>\n",
              "    <tr style=\"text-align: right;\">\n",
              "      <th></th>\n",
              "      <th>ticker</th>\n",
              "      <th>date</th>\n",
              "      <th>time</th>\n",
              "      <th>title</th>\n",
              "      <th>compound</th>\n",
              "    </tr>\n",
              "  </thead>\n",
              "  <tbody>\n",
              "    <tr>\n",
              "      <th>0</th>\n",
              "      <td>TTM</td>\n",
              "      <td>2021-11-02 00:30:00</td>\n",
              "      <td>00:30:00</td>\n",
              "      <td>Tata Motors (TTM) Q2 2022 Earnings Call Transc...</td>\n",
              "      <td>0.0000</td>\n",
              "    </tr>\n",
              "    <tr>\n",
              "      <th>1</th>\n",
              "      <td>TTM</td>\n",
              "      <td>2021-11-01 20:00:00</td>\n",
              "      <td>20:00:00</td>\n",
              "      <td>Chip Dip and Carbon Footprint Bills Trap Jaguar</td>\n",
              "      <td>-0.3182</td>\n",
              "    </tr>\n",
              "  </tbody>\n",
              "</table>\n",
              "</div>"
            ],
            "text/plain": [
              "  ticker  ... compound\n",
              "0    TTM  ...   0.0000\n",
              "1    TTM  ...  -0.3182\n",
              "\n",
              "[2 rows x 5 columns]"
            ]
          },
          "metadata": {},
          "execution_count": 62
        }
      ]
    },
    {
      "cell_type": "code",
      "metadata": {
        "colab": {
          "base_uri": "https://localhost:8080/",
          "height": 203
        },
        "id": "UIJXydDOcXk5",
        "outputId": "78bc1997-89e2-4ad4-b9da-0d1de0fe9b2d"
      },
      "source": [
        "df.tail()"
      ],
      "execution_count": null,
      "outputs": [
        {
          "output_type": "execute_result",
          "data": {
            "text/html": [
              "<div>\n",
              "<style scoped>\n",
              "    .dataframe tbody tr th:only-of-type {\n",
              "        vertical-align: middle;\n",
              "    }\n",
              "\n",
              "    .dataframe tbody tr th {\n",
              "        vertical-align: top;\n",
              "    }\n",
              "\n",
              "    .dataframe thead th {\n",
              "        text-align: right;\n",
              "    }\n",
              "</style>\n",
              "<table border=\"1\" class=\"dataframe\">\n",
              "  <thead>\n",
              "    <tr style=\"text-align: right;\">\n",
              "      <th></th>\n",
              "      <th>ticker</th>\n",
              "      <th>date</th>\n",
              "      <th>time</th>\n",
              "      <th>title</th>\n",
              "      <th>compound</th>\n",
              "    </tr>\n",
              "  </thead>\n",
              "  <tbody>\n",
              "    <tr>\n",
              "      <th>95</th>\n",
              "      <td>TTM</td>\n",
              "      <td>2021-01-27 05:55:00</td>\n",
              "      <td>05:55:00</td>\n",
              "      <td>Jaguar Land Rover appoints creative chief to b...</td>\n",
              "      <td>0.4404</td>\n",
              "    </tr>\n",
              "    <tr>\n",
              "      <th>96</th>\n",
              "      <td>TTM</td>\n",
              "      <td>2021-01-23 20:10:00</td>\n",
              "      <td>20:10:00</td>\n",
              "      <td>15 Biggest Companies That Use AWS</td>\n",
              "      <td>0.0000</td>\n",
              "    </tr>\n",
              "    <tr>\n",
              "      <th>97</th>\n",
              "      <td>TTM</td>\n",
              "      <td>2021-01-22 04:50:00</td>\n",
              "      <td>04:50:00</td>\n",
              "      <td>Long road for Tesla in India with infrastructu...</td>\n",
              "      <td>-0.4404</td>\n",
              "    </tr>\n",
              "    <tr>\n",
              "      <th>98</th>\n",
              "      <td>TTM</td>\n",
              "      <td>2021-01-11 13:22:00</td>\n",
              "      <td>13:22:00</td>\n",
              "      <td>Tata Motors stock soars, as electrified vehicl...</td>\n",
              "      <td>0.0000</td>\n",
              "    </tr>\n",
              "    <tr>\n",
              "      <th>99</th>\n",
              "      <td>TTM</td>\n",
              "      <td>2021-01-11 11:12:00</td>\n",
              "      <td>11:12:00</td>\n",
              "      <td>Tata Motors Stock Is Surging on India Tesla Ru...</td>\n",
              "      <td>0.0000</td>\n",
              "    </tr>\n",
              "  </tbody>\n",
              "</table>\n",
              "</div>"
            ],
            "text/plain": [
              "   ticker  ... compound\n",
              "95    TTM  ...   0.4404\n",
              "96    TTM  ...   0.0000\n",
              "97    TTM  ...  -0.4404\n",
              "98    TTM  ...   0.0000\n",
              "99    TTM  ...   0.0000\n",
              "\n",
              "[5 rows x 5 columns]"
            ]
          },
          "metadata": {},
          "execution_count": 63
        }
      ]
    },
    {
      "cell_type": "code",
      "metadata": {
        "colab": {
          "base_uri": "https://localhost:8080/",
          "height": 203
        },
        "id": "zzpCwRVjchvc",
        "outputId": "715d9aa9-02c0-4486-d30a-31bb7acd918a"
      },
      "source": [
        "data1.tail()"
      ],
      "execution_count": null,
      "outputs": [
        {
          "output_type": "execute_result",
          "data": {
            "text/html": [
              "<div>\n",
              "<style scoped>\n",
              "    .dataframe tbody tr th:only-of-type {\n",
              "        vertical-align: middle;\n",
              "    }\n",
              "\n",
              "    .dataframe tbody tr th {\n",
              "        vertical-align: top;\n",
              "    }\n",
              "\n",
              "    .dataframe thead th {\n",
              "        text-align: right;\n",
              "    }\n",
              "</style>\n",
              "<table border=\"1\" class=\"dataframe\">\n",
              "  <thead>\n",
              "    <tr style=\"text-align: right;\">\n",
              "      <th></th>\n",
              "      <th>date</th>\n",
              "      <th>1. open</th>\n",
              "      <th>2. high</th>\n",
              "      <th>3. low</th>\n",
              "      <th>4. close</th>\n",
              "      <th>5. volume</th>\n",
              "    </tr>\n",
              "  </thead>\n",
              "  <tbody>\n",
              "    <tr>\n",
              "      <th>95</th>\n",
              "      <td>2021-11-03 09:15:00</td>\n",
              "      <td>32.07</td>\n",
              "      <td>32.07</td>\n",
              "      <td>32.07</td>\n",
              "      <td>32.07</td>\n",
              "      <td>501.0</td>\n",
              "    </tr>\n",
              "    <tr>\n",
              "      <th>96</th>\n",
              "      <td>2021-11-03 09:00:00</td>\n",
              "      <td>32.07</td>\n",
              "      <td>32.07</td>\n",
              "      <td>32.07</td>\n",
              "      <td>32.07</td>\n",
              "      <td>1499.0</td>\n",
              "    </tr>\n",
              "    <tr>\n",
              "      <th>97</th>\n",
              "      <td>2021-11-03 08:00:00</td>\n",
              "      <td>32.03</td>\n",
              "      <td>32.03</td>\n",
              "      <td>32.03</td>\n",
              "      <td>32.03</td>\n",
              "      <td>160.0</td>\n",
              "    </tr>\n",
              "    <tr>\n",
              "      <th>98</th>\n",
              "      <td>2021-11-03 04:30:00</td>\n",
              "      <td>32.33</td>\n",
              "      <td>32.33</td>\n",
              "      <td>32.33</td>\n",
              "      <td>32.33</td>\n",
              "      <td>342.0</td>\n",
              "    </tr>\n",
              "    <tr>\n",
              "      <th>99</th>\n",
              "      <td>2021-11-03 04:15:00</td>\n",
              "      <td>32.45</td>\n",
              "      <td>32.45</td>\n",
              "      <td>32.45</td>\n",
              "      <td>32.45</td>\n",
              "      <td>435.0</td>\n",
              "    </tr>\n",
              "  </tbody>\n",
              "</table>\n",
              "</div>"
            ],
            "text/plain": [
              "                  date  1. open  2. high  3. low  4. close  5. volume\n",
              "95 2021-11-03 09:15:00    32.07    32.07   32.07     32.07      501.0\n",
              "96 2021-11-03 09:00:00    32.07    32.07   32.07     32.07     1499.0\n",
              "97 2021-11-03 08:00:00    32.03    32.03   32.03     32.03      160.0\n",
              "98 2021-11-03 04:30:00    32.33    32.33   32.33     32.33      342.0\n",
              "99 2021-11-03 04:15:00    32.45    32.45   32.45     32.45      435.0"
            ]
          },
          "metadata": {},
          "execution_count": 64
        }
      ]
    },
    {
      "cell_type": "code",
      "metadata": {
        "colab": {
          "base_uri": "https://localhost:8080/"
        },
        "id": "dBLVQ44rdJIU",
        "outputId": "82ee2c61-b839-4644-f23e-925dcfce7072"
      },
      "source": [
        "print(df.shape)\n",
        "print(data1.shape) "
      ],
      "execution_count": null,
      "outputs": [
        {
          "output_type": "stream",
          "name": "stdout",
          "text": [
            "(100, 5)\n",
            "(100, 6)\n"
          ]
        }
      ]
    },
    {
      "cell_type": "code",
      "metadata": {
        "id": "_sDMGvaBguuo"
      },
      "source": [
        "data1['compound'] = df['compound']*0"
      ],
      "execution_count": null,
      "outputs": []
    },
    {
      "cell_type": "code",
      "metadata": {
        "colab": {
          "base_uri": "https://localhost:8080/",
          "height": 80
        },
        "id": "kszd-wHthFB7",
        "outputId": "247d1da4-e73c-4e42-9d10-7dbf2c9ed385"
      },
      "source": [
        "data1.head(1)"
      ],
      "execution_count": null,
      "outputs": [
        {
          "output_type": "execute_result",
          "data": {
            "text/html": [
              "<div>\n",
              "<style scoped>\n",
              "    .dataframe tbody tr th:only-of-type {\n",
              "        vertical-align: middle;\n",
              "    }\n",
              "\n",
              "    .dataframe tbody tr th {\n",
              "        vertical-align: top;\n",
              "    }\n",
              "\n",
              "    .dataframe thead th {\n",
              "        text-align: right;\n",
              "    }\n",
              "</style>\n",
              "<table border=\"1\" class=\"dataframe\">\n",
              "  <thead>\n",
              "    <tr style=\"text-align: right;\">\n",
              "      <th></th>\n",
              "      <th>date</th>\n",
              "      <th>1. open</th>\n",
              "      <th>2. high</th>\n",
              "      <th>3. low</th>\n",
              "      <th>4. close</th>\n",
              "      <th>5. volume</th>\n",
              "      <th>compound</th>\n",
              "    </tr>\n",
              "  </thead>\n",
              "  <tbody>\n",
              "    <tr>\n",
              "      <th>0</th>\n",
              "      <td>2021-11-05 19:30:00</td>\n",
              "      <td>32.78</td>\n",
              "      <td>32.78</td>\n",
              "      <td>32.78</td>\n",
              "      <td>32.78</td>\n",
              "      <td>125.0</td>\n",
              "      <td>0.0</td>\n",
              "    </tr>\n",
              "  </tbody>\n",
              "</table>\n",
              "</div>"
            ],
            "text/plain": [
              "                 date  1. open  2. high  3. low  4. close  5. volume  compound\n",
              "0 2021-11-05 19:30:00    32.78    32.78   32.78     32.78      125.0       0.0"
            ]
          },
          "metadata": {},
          "execution_count": 67
        }
      ]
    },
    {
      "cell_type": "code",
      "metadata": {
        "colab": {
          "base_uri": "https://localhost:8080/"
        },
        "id": "15XLLWdshjLN",
        "outputId": "f8d853d7-8150-4d46-c2eb-22811388ab99"
      },
      "source": [
        "data1['compound'].unique()"
      ],
      "execution_count": null,
      "outputs": [
        {
          "output_type": "execute_result",
          "data": {
            "text/plain": [
              "array([0.])"
            ]
          },
          "metadata": {},
          "execution_count": 68
        }
      ]
    },
    {
      "cell_type": "code",
      "metadata": {
        "colab": {
          "base_uri": "https://localhost:8080/",
          "height": 242
        },
        "id": "Q7nB--Zob9ZZ",
        "outputId": "9b0ed263-081f-4f0e-b49b-d66078b2f0ec"
      },
      "source": [
        "x = y = 0 \n",
        "print(data1.shape[0])\n",
        "for i in range(len(df['date'])):\n",
        "  if i < data1.shape[0]:\n",
        "    if df['date'][i] <= data1['date'][i] :\n",
        "      data1['compound'][i] += df['compound'][i]\n",
        "\n",
        "# WHY WAS THERE NO ERROR, UNMATCHED LENGTH OF THE TWO DATAFRAMES I MEAN ON EHAS 300 ROWS AND OTHER HAS A MERER 100 , Curious as to why this works.   \n",
        "# print(x,y) \n",
        "data1.tail(3)  "
      ],
      "execution_count": null,
      "outputs": [
        {
          "output_type": "stream",
          "name": "stdout",
          "text": [
            "100\n"
          ]
        },
        {
          "output_type": "stream",
          "name": "stderr",
          "text": [
            "/usr/local/lib/python3.7/dist-packages/ipykernel_launcher.py:6: SettingWithCopyWarning: \n",
            "A value is trying to be set on a copy of a slice from a DataFrame\n",
            "\n",
            "See the caveats in the documentation: https://pandas.pydata.org/pandas-docs/stable/user_guide/indexing.html#returning-a-view-versus-a-copy\n",
            "  \n"
          ]
        },
        {
          "output_type": "execute_result",
          "data": {
            "text/html": [
              "<div>\n",
              "<style scoped>\n",
              "    .dataframe tbody tr th:only-of-type {\n",
              "        vertical-align: middle;\n",
              "    }\n",
              "\n",
              "    .dataframe tbody tr th {\n",
              "        vertical-align: top;\n",
              "    }\n",
              "\n",
              "    .dataframe thead th {\n",
              "        text-align: right;\n",
              "    }\n",
              "</style>\n",
              "<table border=\"1\" class=\"dataframe\">\n",
              "  <thead>\n",
              "    <tr style=\"text-align: right;\">\n",
              "      <th></th>\n",
              "      <th>date</th>\n",
              "      <th>1. open</th>\n",
              "      <th>2. high</th>\n",
              "      <th>3. low</th>\n",
              "      <th>4. close</th>\n",
              "      <th>5. volume</th>\n",
              "      <th>compound</th>\n",
              "    </tr>\n",
              "  </thead>\n",
              "  <tbody>\n",
              "    <tr>\n",
              "      <th>97</th>\n",
              "      <td>2021-11-03 08:00:00</td>\n",
              "      <td>32.03</td>\n",
              "      <td>32.03</td>\n",
              "      <td>32.03</td>\n",
              "      <td>32.03</td>\n",
              "      <td>160.0</td>\n",
              "      <td>-0.4404</td>\n",
              "    </tr>\n",
              "    <tr>\n",
              "      <th>98</th>\n",
              "      <td>2021-11-03 04:30:00</td>\n",
              "      <td>32.33</td>\n",
              "      <td>32.33</td>\n",
              "      <td>32.33</td>\n",
              "      <td>32.33</td>\n",
              "      <td>342.0</td>\n",
              "      <td>0.0000</td>\n",
              "    </tr>\n",
              "    <tr>\n",
              "      <th>99</th>\n",
              "      <td>2021-11-03 04:15:00</td>\n",
              "      <td>32.45</td>\n",
              "      <td>32.45</td>\n",
              "      <td>32.45</td>\n",
              "      <td>32.45</td>\n",
              "      <td>435.0</td>\n",
              "      <td>0.0000</td>\n",
              "    </tr>\n",
              "  </tbody>\n",
              "</table>\n",
              "</div>"
            ],
            "text/plain": [
              "                  date  1. open  2. high  3. low  4. close  5. volume  compound\n",
              "97 2021-11-03 08:00:00    32.03    32.03   32.03     32.03      160.0   -0.4404\n",
              "98 2021-11-03 04:30:00    32.33    32.33   32.33     32.33      342.0    0.0000\n",
              "99 2021-11-03 04:15:00    32.45    32.45   32.45     32.45      435.0    0.0000"
            ]
          },
          "metadata": {},
          "execution_count": 69
        }
      ]
    },
    {
      "cell_type": "code",
      "metadata": {
        "id": "ERDaJMF2PwNu"
      },
      "source": [
        "# data1['date'] = data1['date'].astype(str)\n",
        "# data1['time'] = data1['date'].str.split(' ').str[1]\n",
        "# data1['date'] = data1['date'].str.split(' ').str[0]\n",
        "# data1.head(2)"
      ],
      "execution_count": null,
      "outputs": []
    },
    {
      "cell_type": "code",
      "metadata": {
        "id": "EEICexCRRSMJ"
      },
      "source": [
        "# data1['time'] = data1['time'].astype(str)\n",
        "# data1['date'] = data1['date'].astype(str)\n",
        "# df['date'] = df['date'].astype(str)\n",
        "# data1.dtypes "
      ],
      "execution_count": null,
      "outputs": []
    },
    {
      "cell_type": "code",
      "metadata": {
        "id": "xa8QryjYYyn9",
        "colab": {
          "base_uri": "https://localhost:8080/",
          "height": 234
        },
        "outputId": "4ff09ebc-c423-4580-8db6-7a2ab8e9d2e4"
      },
      "source": [
        "data1.corr(method = 'pearson')"
      ],
      "execution_count": null,
      "outputs": [
        {
          "output_type": "execute_result",
          "data": {
            "text/html": [
              "<div>\n",
              "<style scoped>\n",
              "    .dataframe tbody tr th:only-of-type {\n",
              "        vertical-align: middle;\n",
              "    }\n",
              "\n",
              "    .dataframe tbody tr th {\n",
              "        vertical-align: top;\n",
              "    }\n",
              "\n",
              "    .dataframe thead th {\n",
              "        text-align: right;\n",
              "    }\n",
              "</style>\n",
              "<table border=\"1\" class=\"dataframe\">\n",
              "  <thead>\n",
              "    <tr style=\"text-align: right;\">\n",
              "      <th></th>\n",
              "      <th>1. open</th>\n",
              "      <th>2. high</th>\n",
              "      <th>3. low</th>\n",
              "      <th>4. close</th>\n",
              "      <th>5. volume</th>\n",
              "      <th>compound</th>\n",
              "    </tr>\n",
              "  </thead>\n",
              "  <tbody>\n",
              "    <tr>\n",
              "      <th>1. open</th>\n",
              "      <td>1.000000</td>\n",
              "      <td>0.964077</td>\n",
              "      <td>0.962150</td>\n",
              "      <td>0.935911</td>\n",
              "      <td>0.036088</td>\n",
              "      <td>-0.233266</td>\n",
              "    </tr>\n",
              "    <tr>\n",
              "      <th>2. high</th>\n",
              "      <td>0.964077</td>\n",
              "      <td>1.000000</td>\n",
              "      <td>0.943379</td>\n",
              "      <td>0.960575</td>\n",
              "      <td>0.128131</td>\n",
              "      <td>-0.239184</td>\n",
              "    </tr>\n",
              "    <tr>\n",
              "      <th>3. low</th>\n",
              "      <td>0.962150</td>\n",
              "      <td>0.943379</td>\n",
              "      <td>1.000000</td>\n",
              "      <td>0.973371</td>\n",
              "      <td>0.006929</td>\n",
              "      <td>-0.207921</td>\n",
              "    </tr>\n",
              "    <tr>\n",
              "      <th>4. close</th>\n",
              "      <td>0.935911</td>\n",
              "      <td>0.960575</td>\n",
              "      <td>0.973371</td>\n",
              "      <td>1.000000</td>\n",
              "      <td>0.093573</td>\n",
              "      <td>-0.204494</td>\n",
              "    </tr>\n",
              "    <tr>\n",
              "      <th>5. volume</th>\n",
              "      <td>0.036088</td>\n",
              "      <td>0.128131</td>\n",
              "      <td>0.006929</td>\n",
              "      <td>0.093573</td>\n",
              "      <td>1.000000</td>\n",
              "      <td>0.014567</td>\n",
              "    </tr>\n",
              "    <tr>\n",
              "      <th>compound</th>\n",
              "      <td>-0.233266</td>\n",
              "      <td>-0.239184</td>\n",
              "      <td>-0.207921</td>\n",
              "      <td>-0.204494</td>\n",
              "      <td>0.014567</td>\n",
              "      <td>1.000000</td>\n",
              "    </tr>\n",
              "  </tbody>\n",
              "</table>\n",
              "</div>"
            ],
            "text/plain": [
              "            1. open   2. high    3. low  4. close  5. volume  compound\n",
              "1. open    1.000000  0.964077  0.962150  0.935911   0.036088 -0.233266\n",
              "2. high    0.964077  1.000000  0.943379  0.960575   0.128131 -0.239184\n",
              "3. low     0.962150  0.943379  1.000000  0.973371   0.006929 -0.207921\n",
              "4. close   0.935911  0.960575  0.973371  1.000000   0.093573 -0.204494\n",
              "5. volume  0.036088  0.128131  0.006929  0.093573   1.000000  0.014567\n",
              "compound  -0.233266 -0.239184 -0.207921 -0.204494   0.014567  1.000000"
            ]
          },
          "metadata": {},
          "execution_count": 72
        }
      ]
    },
    {
      "cell_type": "code",
      "metadata": {
        "colab": {
          "base_uri": "https://localhost:8080/",
          "height": 265
        },
        "id": "H4bBxwpIjWA_",
        "outputId": "8b65ff70-00ff-4d28-b48f-d69b95cfebe4"
      },
      "source": [
        "data1.head(7)"
      ],
      "execution_count": null,
      "outputs": [
        {
          "output_type": "execute_result",
          "data": {
            "text/html": [
              "<div>\n",
              "<style scoped>\n",
              "    .dataframe tbody tr th:only-of-type {\n",
              "        vertical-align: middle;\n",
              "    }\n",
              "\n",
              "    .dataframe tbody tr th {\n",
              "        vertical-align: top;\n",
              "    }\n",
              "\n",
              "    .dataframe thead th {\n",
              "        text-align: right;\n",
              "    }\n",
              "</style>\n",
              "<table border=\"1\" class=\"dataframe\">\n",
              "  <thead>\n",
              "    <tr style=\"text-align: right;\">\n",
              "      <th></th>\n",
              "      <th>date</th>\n",
              "      <th>1. open</th>\n",
              "      <th>2. high</th>\n",
              "      <th>3. low</th>\n",
              "      <th>4. close</th>\n",
              "      <th>5. volume</th>\n",
              "      <th>compound</th>\n",
              "    </tr>\n",
              "  </thead>\n",
              "  <tbody>\n",
              "    <tr>\n",
              "      <th>0</th>\n",
              "      <td>2021-11-05 19:30:00</td>\n",
              "      <td>32.780</td>\n",
              "      <td>32.780</td>\n",
              "      <td>32.780</td>\n",
              "      <td>32.78</td>\n",
              "      <td>125.0</td>\n",
              "      <td>0.0000</td>\n",
              "    </tr>\n",
              "    <tr>\n",
              "      <th>1</th>\n",
              "      <td>2021-11-05 18:15:00</td>\n",
              "      <td>32.760</td>\n",
              "      <td>32.760</td>\n",
              "      <td>32.760</td>\n",
              "      <td>32.76</td>\n",
              "      <td>250.0</td>\n",
              "      <td>-0.3182</td>\n",
              "    </tr>\n",
              "    <tr>\n",
              "      <th>2</th>\n",
              "      <td>2021-11-05 16:15:00</td>\n",
              "      <td>32.760</td>\n",
              "      <td>32.950</td>\n",
              "      <td>32.760</td>\n",
              "      <td>32.76</td>\n",
              "      <td>5768.0</td>\n",
              "      <td>-0.2500</td>\n",
              "    </tr>\n",
              "    <tr>\n",
              "      <th>3</th>\n",
              "      <td>2021-11-05 16:00:00</td>\n",
              "      <td>32.770</td>\n",
              "      <td>32.800</td>\n",
              "      <td>32.690</td>\n",
              "      <td>32.78</td>\n",
              "      <td>137007.0</td>\n",
              "      <td>-0.2500</td>\n",
              "    </tr>\n",
              "    <tr>\n",
              "      <th>4</th>\n",
              "      <td>2021-11-05 15:45:00</td>\n",
              "      <td>32.765</td>\n",
              "      <td>32.805</td>\n",
              "      <td>32.750</td>\n",
              "      <td>32.77</td>\n",
              "      <td>26805.0</td>\n",
              "      <td>-0.6249</td>\n",
              "    </tr>\n",
              "    <tr>\n",
              "      <th>5</th>\n",
              "      <td>2021-11-05 15:30:00</td>\n",
              "      <td>32.690</td>\n",
              "      <td>32.780</td>\n",
              "      <td>32.670</td>\n",
              "      <td>32.76</td>\n",
              "      <td>34845.0</td>\n",
              "      <td>-0.2500</td>\n",
              "    </tr>\n",
              "    <tr>\n",
              "      <th>6</th>\n",
              "      <td>2021-11-05 15:15:00</td>\n",
              "      <td>32.660</td>\n",
              "      <td>32.710</td>\n",
              "      <td>32.625</td>\n",
              "      <td>32.70</td>\n",
              "      <td>33958.0</td>\n",
              "      <td>0.0000</td>\n",
              "    </tr>\n",
              "  </tbody>\n",
              "</table>\n",
              "</div>"
            ],
            "text/plain": [
              "                 date  1. open  2. high  3. low  4. close  5. volume  compound\n",
              "0 2021-11-05 19:30:00   32.780   32.780  32.780     32.78      125.0    0.0000\n",
              "1 2021-11-05 18:15:00   32.760   32.760  32.760     32.76      250.0   -0.3182\n",
              "2 2021-11-05 16:15:00   32.760   32.950  32.760     32.76     5768.0   -0.2500\n",
              "3 2021-11-05 16:00:00   32.770   32.800  32.690     32.78   137007.0   -0.2500\n",
              "4 2021-11-05 15:45:00   32.765   32.805  32.750     32.77    26805.0   -0.6249\n",
              "5 2021-11-05 15:30:00   32.690   32.780  32.670     32.76    34845.0   -0.2500\n",
              "6 2021-11-05 15:15:00   32.660   32.710  32.625     32.70    33958.0    0.0000"
            ]
          },
          "metadata": {},
          "execution_count": 73
        }
      ]
    },
    {
      "cell_type": "code",
      "metadata": {
        "id": "bTuFjoOMjZ9w"
      },
      "source": [
        "data1.drop('date', axis = 1 , inplace = True) "
      ],
      "execution_count": null,
      "outputs": []
    },
    {
      "cell_type": "code",
      "metadata": {
        "colab": {
          "base_uri": "https://localhost:8080/"
        },
        "id": "slXdI_ltjfGd",
        "outputId": "1bdecc31-1f6d-4433-9044-0df8969ab4e0"
      },
      "source": [
        "data['4. close'] = data['4. close'].shift(-8)\n",
        "data1.head(2) \n",
        "data1 = data1.iloc[:-8, :] \n",
        "print(data1.shape) "
      ],
      "execution_count": null,
      "outputs": [
        {
          "output_type": "stream",
          "name": "stdout",
          "text": [
            "(92, 6)\n"
          ]
        }
      ]
    },
    {
      "cell_type": "code",
      "metadata": {
        "id": "DzFs1gAbjqXy"
      },
      "source": [
        "y = data1['4. close']\n",
        "data1.drop('4. close', axis = 1 , inplace = True)\n",
        "x = data1"
      ],
      "execution_count": null,
      "outputs": []
    },
    {
      "cell_type": "code",
      "metadata": {
        "id": "OG8aEXgjj6Eo"
      },
      "source": [
        "from sklearn.preprocessing import MinMaxScaler\n",
        "s = MinMaxScaler(feature_range=(0, 1))\n",
        "x = s.fit_transform(x) "
      ],
      "execution_count": null,
      "outputs": []
    },
    {
      "cell_type": "code",
      "metadata": {
        "id": "1asuhG1Hj67-"
      },
      "source": [
        "from sklearn.model_selection import train_test_split\n",
        "x_train , x_test , y_train , y_test = train_test_split(x,y , test_size = 0.3 , random_state = 1)\n",
        "# x_train "
      ],
      "execution_count": null,
      "outputs": []
    },
    {
      "cell_type": "code",
      "metadata": {
        "colab": {
          "base_uri": "https://localhost:8080/"
        },
        "id": "6MBetk_Tj-IT",
        "outputId": "646907b2-7b58-4f29-fc00-a730ff86008e"
      },
      "source": [
        "from sklearn.linear_model import LinearRegression\n",
        "model = LinearRegression()\n",
        "model.fit(x_train,y_train)\n",
        "print(model.score(x_test, y_test))"
      ],
      "execution_count": null,
      "outputs": [
        {
          "output_type": "stream",
          "name": "stdout",
          "text": [
            "0.9348461921782233\n"
          ]
        }
      ]
    },
    {
      "cell_type": "code",
      "metadata": {
        "colab": {
          "base_uri": "https://localhost:8080/"
        },
        "id": "i6eokTQ3kApe",
        "outputId": "aa5772d2-4093-431e-b1ab-0198c2089fbc"
      },
      "source": [
        "y_pred_reg = model.predict(x_test)\n",
        "\n",
        "mean_squared_error = np.mean((y_pred_reg - y_test)**2)\n",
        "print(\"Mean squared Error on test set : \", mean_squared_error) "
      ],
      "execution_count": null,
      "outputs": [
        {
          "output_type": "stream",
          "name": "stdout",
          "text": [
            "Mean squared Error on test set :  0.0019747471360708315\n"
          ]
        }
      ]
    },
    {
      "cell_type": "code",
      "metadata": {
        "colab": {
          "base_uri": "https://localhost:8080/",
          "height": 1000
        },
        "id": "0TxrokCgkDmc",
        "outputId": "bd14bc2f-7555-43d5-f292-340593486a2c"
      },
      "source": [
        "import matplotlib.pyplot as plt\n",
        "import numpy as np\n",
        "\n",
        "\n",
        "def plotGraph(y_test,y_pred,regressorName):\n",
        "    if max(y_test) >= max(y_pred):\n",
        "        my_range = int(max(y_test))\n",
        "    else:\n",
        "        my_range = int(max(y_pred))\n",
        "    plt.figure(figsize = (17,11))\n",
        "    plt.plot(range(len(y_test)), y_test, color='blue', label = 'Actual')\n",
        "    plt.plot(range(len(y_pred)), y_pred_reg, color='red' , label = 'Predicted' )\n",
        "    plt.legend('Actual','Predicted')\n",
        "    plt.title(regressorName)\n",
        "    plt.show()\n",
        "    return\n",
        "\n",
        "plotGraph(y_test, y_pred_reg, \"test\")"
      ],
      "execution_count": null,
      "outputs": [
        {
          "output_type": "stream",
          "name": "stderr",
          "text": [
            "/usr/local/lib/python3.7/dist-packages/ipykernel_launcher.py:13: UserWarning: Legend does not support 'A' instances.\n",
            "A proxy artist may be used instead.\n",
            "See: http://matplotlib.org/users/legend_guide.html#creating-artists-specifically-for-adding-to-the-legend-aka-proxy-artists\n",
            "  del sys.path[0]\n",
            "/usr/local/lib/python3.7/dist-packages/ipykernel_launcher.py:13: UserWarning: Legend does not support 'c' instances.\n",
            "A proxy artist may be used instead.\n",
            "See: http://matplotlib.org/users/legend_guide.html#creating-artists-specifically-for-adding-to-the-legend-aka-proxy-artists\n",
            "  del sys.path[0]\n",
            "/usr/local/lib/python3.7/dist-packages/ipykernel_launcher.py:13: UserWarning: Legend does not support 't' instances.\n",
            "A proxy artist may be used instead.\n",
            "See: http://matplotlib.org/users/legend_guide.html#creating-artists-specifically-for-adding-to-the-legend-aka-proxy-artists\n",
            "  del sys.path[0]\n",
            "/usr/local/lib/python3.7/dist-packages/ipykernel_launcher.py:13: UserWarning: Legend does not support 'u' instances.\n",
            "A proxy artist may be used instead.\n",
            "See: http://matplotlib.org/users/legend_guide.html#creating-artists-specifically-for-adding-to-the-legend-aka-proxy-artists\n",
            "  del sys.path[0]\n",
            "/usr/local/lib/python3.7/dist-packages/ipykernel_launcher.py:13: UserWarning: Legend does not support 'a' instances.\n",
            "A proxy artist may be used instead.\n",
            "See: http://matplotlib.org/users/legend_guide.html#creating-artists-specifically-for-adding-to-the-legend-aka-proxy-artists\n",
            "  del sys.path[0]\n",
            "/usr/local/lib/python3.7/dist-packages/ipykernel_launcher.py:13: UserWarning: Legend does not support 'l' instances.\n",
            "A proxy artist may be used instead.\n",
            "See: http://matplotlib.org/users/legend_guide.html#creating-artists-specifically-for-adding-to-the-legend-aka-proxy-artists\n",
            "  del sys.path[0]\n"
          ]
        },
        {
          "output_type": "display_data",
          "data": {
            "image/png": "[encoded data removed]",
            "text/plain": [
              "<Figure size 1224x792 with 1 Axes>"
            ]
          },
          "metadata": {
            "needs_background": "light"
          }
        }
      ]
    },
    {
      "cell_type": "code",
      "metadata": {
        "id": "DMVaaWjNkVeE"
      },
      "source": [
        "from pandas import read_csv\n",
        "from sklearn.model_selection import KFold\n",
        "from sklearn.model_selection import cross_val_score \n",
        "from sklearn.linear_model import Ridge "
      ],
      "execution_count": null,
      "outputs": []
    },
    {
      "cell_type": "code",
      "metadata": {
        "colab": {
          "base_uri": "https://localhost:8080/"
        },
        "id": "hpNeE1jukWKy",
        "outputId": "ae21d704-734f-4e64-b858-d95dc6a011b6"
      },
      "source": [
        "kfold = KFold(n_splits=10, random_state=7, shuffle=True)\n",
        "model1 = Ridge()\n",
        "scoring = 'neg_mean_squared_error'\n",
        "results = cross_val_score(model1, x_train, y_train, cv=kfold, scoring=scoring)\n",
        "print(results.mean()) "
      ],
      "execution_count": null,
      "outputs": [
        {
          "output_type": "stream",
          "name": "stdout",
          "text": [
            "-0.003950170378183978\n"
          ]
        }
      ]
    },
    {
      "cell_type": "code",
      "metadata": {
        "colab": {
          "base_uri": "https://localhost:8080/"
        },
        "id": "6OcZvE5_kY-x",
        "outputId": "39b5e2a7-aa47-41e1-8b5f-28ff06989a50"
      },
      "source": [
        "model1.fit(x_train , y_train)\n",
        "\n",
        "y_pred_ridge = model1.predict(x_test)\n",
        "\n",
        "mean_squared_error = np.mean((y_pred_ridge - y_test)**2)\n",
        "print(\"Mean squared Error on test set : \", mean_squared_error)"
      ],
      "execution_count": null,
      "outputs": [
        {
          "output_type": "stream",
          "name": "stdout",
          "text": [
            "Mean squared Error on test set :  0.00206945135643109\n"
          ]
        }
      ]
    },
    {
      "cell_type": "code",
      "metadata": {
        "colab": {
          "base_uri": "https://localhost:8080/",
          "height": 1000
        },
        "id": "9d2_GY3Fkc4X",
        "outputId": "4f0ba136-9c17-4011-c8e7-1c43ecf1df3c"
      },
      "source": [
        "plotGraph(y_test, y_pred_ridge , \"test\") "
      ],
      "execution_count": null,
      "outputs": [
        {
          "output_type": "stream",
          "name": "stderr",
          "text": [
            "/usr/local/lib/python3.7/dist-packages/ipykernel_launcher.py:13: UserWarning: Legend does not support 'A' instances.\n",
            "A proxy artist may be used instead.\n",
            "See: http://matplotlib.org/users/legend_guide.html#creating-artists-specifically-for-adding-to-the-legend-aka-proxy-artists\n",
            "  del sys.path[0]\n",
            "/usr/local/lib/python3.7/dist-packages/ipykernel_launcher.py:13: UserWarning: Legend does not support 'c' instances.\n",
            "A proxy artist may be used instead.\n",
            "See: http://matplotlib.org/users/legend_guide.html#creating-artists-specifically-for-adding-to-the-legend-aka-proxy-artists\n",
            "  del sys.path[0]\n",
            "/usr/local/lib/python3.7/dist-packages/ipykernel_launcher.py:13: UserWarning: Legend does not support 't' instances.\n",
            "A proxy artist may be used instead.\n",
            "See: http://matplotlib.org/users/legend_guide.html#creating-artists-specifically-for-adding-to-the-legend-aka-proxy-artists\n",
            "  del sys.path[0]\n",
            "/usr/local/lib/python3.7/dist-packages/ipykernel_launcher.py:13: UserWarning: Legend does not support 'u' instances.\n",
            "A proxy artist may be used instead.\n",
            "See: http://matplotlib.org/users/legend_guide.html#creating-artists-specifically-for-adding-to-the-legend-aka-proxy-artists\n",
            "  del sys.path[0]\n",
            "/usr/local/lib/python3.7/dist-packages/ipykernel_launcher.py:13: UserWarning: Legend does not support 'a' instances.\n",
            "A proxy artist may be used instead.\n",
            "See: http://matplotlib.org/users/legend_guide.html#creating-artists-specifically-for-adding-to-the-legend-aka-proxy-artists\n",
            "  del sys.path[0]\n",
            "/usr/local/lib/python3.7/dist-packages/ipykernel_launcher.py:13: UserWarning: Legend does not support 'l' instances.\n",
            "A proxy artist may be used instead.\n",
            "See: http://matplotlib.org/users/legend_guide.html#creating-artists-specifically-for-adding-to-the-legend-aka-proxy-artists\n",
            "  del sys.path[0]\n"
          ]
        },
        {
          "output_type": "display_data",
          "data": {
            "image/png": "[encoded data removed]",
            "text/plain": [
              "<Figure size 1224x792 with 1 Axes>"
            ]
          },
          "metadata": {
            "needs_background": "light"
          }
        }
      ]
    },
    {
      "cell_type": "code",
      "metadata": {
        "id": "V_t9VZ6ckmGe"
      },
      "source": [
        ""
      ],
      "execution_count": null,
      "outputs": []
    }
  ]
}